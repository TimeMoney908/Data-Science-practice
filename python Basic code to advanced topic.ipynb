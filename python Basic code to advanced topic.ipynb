{
 "cells": [
  {
   "cell_type": "markdown",
   "id": "165b08d5",
   "metadata": {},
   "source": [
    "# Input function"
   ]
  },
  {
   "cell_type": "code",
   "execution_count": 1,
   "id": "622dea6d",
   "metadata": {},
   "outputs": [
    {
     "name": "stdout",
     "output_type": "stream",
     "text": [
      "Enter the value55.67\n"
     ]
    }
   ],
   "source": [
    "a = float(input('Enter the value'))\n"
   ]
  },
  {
   "cell_type": "code",
   "execution_count": 2,
   "id": "eb041e25",
   "metadata": {},
   "outputs": [
    {
     "data": {
      "text/plain": [
       "float"
      ]
     },
     "execution_count": 2,
     "metadata": {},
     "output_type": "execute_result"
    }
   ],
   "source": [
    "type (a)\n"
   ]
  },
  {
   "cell_type": "code",
   "execution_count": 3,
   "id": "8a094bbe",
   "metadata": {},
   "outputs": [
    {
     "name": "stdout",
     "output_type": "stream",
     "text": [
      "55.67\n"
     ]
    }
   ],
   "source": [
    "print(a)"
   ]
  },
  {
   "cell_type": "markdown",
   "id": "c0331c4f",
   "metadata": {},
   "source": [
    "# Type of conversion"
   ]
  },
  {
   "cell_type": "code",
   "execution_count": 4,
   "id": "950b771c",
   "metadata": {},
   "outputs": [],
   "source": [
    "x = 32.567\n",
    "y = 85\n",
    "z = 'I  love India'"
   ]
  },
  {
   "cell_type": "code",
   "execution_count": 5,
   "id": "f1c46829",
   "metadata": {},
   "outputs": [
    {
     "data": {
      "text/plain": [
       "32"
      ]
     },
     "execution_count": 5,
     "metadata": {},
     "output_type": "execute_result"
    }
   ],
   "source": [
    "int(x)  # Conversion of flaat to integer -> the decimal part wil be created  truncated "
   ]
  },
  {
   "cell_type": "code",
   "execution_count": 6,
   "id": "7a1e26da",
   "metadata": {},
   "outputs": [
    {
     "data": {
      "text/plain": [
       "int"
      ]
     },
     "execution_count": 6,
     "metadata": {},
     "output_type": "execute_result"
    }
   ],
   "source": [
    "type(y)"
   ]
  },
  {
   "cell_type": "code",
   "execution_count": 9,
   "id": "f7a59b71",
   "metadata": {},
   "outputs": [
    {
     "data": {
      "text/plain": [
       "85.0"
      ]
     },
     "execution_count": 9,
     "metadata": {},
     "output_type": "execute_result"
    }
   ],
   "source": [
    "float(y)"
   ]
  },
  {
   "cell_type": "code",
   "execution_count": 10,
   "id": "1eb29c46",
   "metadata": {},
   "outputs": [
    {
     "data": {
      "text/plain": [
       "'32.567'"
      ]
     },
     "execution_count": 10,
     "metadata": {},
     "output_type": "execute_result"
    }
   ],
   "source": [
    "str(x)"
   ]
  },
  {
   "cell_type": "code",
   "execution_count": 11,
   "id": "0c349816",
   "metadata": {},
   "outputs": [
    {
     "data": {
      "text/plain": [
       "'85'"
      ]
     },
     "execution_count": 11,
     "metadata": {},
     "output_type": "execute_result"
    }
   ],
   "source": [
    "str(y)"
   ]
  },
  {
   "cell_type": "code",
   "execution_count": 12,
   "id": "b13fa011",
   "metadata": {},
   "outputs": [
    {
     "ename": "ValueError",
     "evalue": "invalid literal for int() with base 10: '56.564'",
     "output_type": "error",
     "traceback": [
      "\u001b[1;31m---------------------------------------------------------------------------\u001b[0m",
      "\u001b[1;31mValueError\u001b[0m                                Traceback (most recent call last)",
      "\u001b[1;32m<ipython-input-12-4035916f0a4c>\u001b[0m in \u001b[0;36m<module>\u001b[1;34m\u001b[0m\n\u001b[1;32m----> 1\u001b[1;33m \u001b[0mint\u001b[0m\u001b[1;33m(\u001b[0m\u001b[1;34m'56.564'\u001b[0m\u001b[1;33m)\u001b[0m\u001b[1;33m\u001b[0m\u001b[1;33m\u001b[0m\u001b[0m\n\u001b[0m",
      "\u001b[1;31mValueError\u001b[0m: invalid literal for int() with base 10: '56.564'"
     ]
    }
   ],
   "source": [
    "int('56.564')"
   ]
  },
  {
   "cell_type": "code",
   "execution_count": 13,
   "id": "74181fa6",
   "metadata": {},
   "outputs": [
    {
     "data": {
      "text/plain": [
       "54.564"
      ]
     },
     "execution_count": 13,
     "metadata": {},
     "output_type": "execute_result"
    }
   ],
   "source": [
    "float('54.564')"
   ]
  },
  {
   "cell_type": "code",
   "execution_count": 14,
   "id": "5940aec0",
   "metadata": {},
   "outputs": [
    {
     "data": {
      "text/plain": [
       "56"
      ]
     },
     "execution_count": 14,
     "metadata": {},
     "output_type": "execute_result"
    }
   ],
   "source": [
    "int(float('56.5562'))"
   ]
  },
  {
   "cell_type": "markdown",
   "id": "d69be5f2",
   "metadata": {},
   "source": [
    "# Rules of type conversion:\n",
    "1) We can convert from float to int, the decimal part of the float will be truncated\n",
    "2) We can convert from int to float, a decimal point and a zero will be added\n",
    "3) We can convert float / int to string\n",
    "4) We can't convert strings like '34.567' to int, but we can convert it to float\n",
    "5) We can convert strings like '27' to int"
   ]
  },
  {
   "cell_type": "markdown",
   "id": "7df610e8",
   "metadata": {},
   "source": [
    "### Write a code to take input of two numbers from uer and produce there sum"
   ]
  },
  {
   "cell_type": "code",
   "execution_count": 1,
   "id": "8303e17f",
   "metadata": {},
   "outputs": [
    {
     "name": "stdout",
     "output_type": "stream",
     "text": [
      "Enter first number:-34.5\n"
     ]
    }
   ],
   "source": [
    "a = float(input(\"Enter first number:\"))"
   ]
  },
  {
   "cell_type": "code",
   "execution_count": 3,
   "id": "6e3e98b9",
   "metadata": {},
   "outputs": [
    {
     "name": "stdout",
     "output_type": "stream",
     "text": [
      "Enter second number:89\n"
     ]
    }
   ],
   "source": [
    "b = float(input(\"Enter second number:\"))"
   ]
  },
  {
   "cell_type": "code",
   "execution_count": 4,
   "id": "8f901cc8",
   "metadata": {},
   "outputs": [],
   "source": [
    "c = a+b"
   ]
  },
  {
   "cell_type": "code",
   "execution_count": 5,
   "id": "3f46ec30",
   "metadata": {},
   "outputs": [
    {
     "name": "stdout",
     "output_type": "stream",
     "text": [
      "-34.5 + 89.0 = 54.5\n"
     ]
    }
   ],
   "source": [
    "print(a,\"+\", b,\"=\", c)"
   ]
  },
  {
   "cell_type": "markdown",
   "id": "62135d00",
   "metadata": {},
   "source": [
    "# Formatted print statement"
   ]
  },
  {
   "cell_type": "code",
   "execution_count": 6,
   "id": "925a6fe5",
   "metadata": {},
   "outputs": [
    {
     "data": {
      "text/plain": [
       "'My Name is Rahul'"
      ]
     },
     "execution_count": 6,
     "metadata": {},
     "output_type": "execute_result"
    }
   ],
   "source": [
    "\"My Name is {}\".format('Rahul')"
   ]
  },
  {
   "cell_type": "code",
   "execution_count": 7,
   "id": "818eea31",
   "metadata": {},
   "outputs": [
    {
     "data": {
      "text/plain": [
       "'-34.5 +89.0 =54.5'"
      ]
     },
     "execution_count": 7,
     "metadata": {},
     "output_type": "execute_result"
    }
   ],
   "source": [
    "\"{} +{} ={}\".format(a,b,c)"
   ]
  },
  {
   "cell_type": "code",
   "execution_count": 9,
   "id": "90d2d2ee",
   "metadata": {},
   "outputs": [
    {
     "name": "stdout",
     "output_type": "stream",
     "text": [
      "The sum of -34.5 and 89.0  is 54.5\n"
     ]
    }
   ],
   "source": [
    "print(\"The sum of {} and {}  is {}\".format(a,b,c))"
   ]
  },
  {
   "cell_type": "code",
   "execution_count": 11,
   "id": "65ef99d6",
   "metadata": {},
   "outputs": [
    {
     "name": "stdout",
     "output_type": "stream",
     "text": [
      "The sum of -34.5 and 89.0 is 54.5\n"
     ]
    }
   ],
   "source": [
    "print(f\"The sum of {a} and {b} is {c}\") # f-string"
   ]
  },
  {
   "cell_type": "markdown",
   "id": "5f61b9b9",
   "metadata": {},
   "source": [
    "#  Take three sides of triangle  and  produce the  area of the triangle"
   ]
  },
  {
   "cell_type": "markdown",
   "id": "32b245e8",
   "metadata": {},
   "source": [
    "##### The sides  are denoted  by a, b, c "
   ]
  },
  {
   "cell_type": "code",
   "execution_count": 16,
   "id": "09bff7d9",
   "metadata": {},
   "outputs": [],
   "source": [
    " a = 10 \n",
    " b = 8\n",
    " c = 6"
   ]
  },
  {
   "cell_type": "code",
   "execution_count": 18,
   "id": "cac1763c",
   "metadata": {},
   "outputs": [],
   "source": [
    "s = 0.5*(a+b+c)"
   ]
  },
  {
   "cell_type": "code",
   "execution_count": 19,
   "id": "23259ccb",
   "metadata": {},
   "outputs": [],
   "source": [
    "area  = (s*(s-a)*(s-b)*(s-c))**0.5"
   ]
  },
  {
   "cell_type": "code",
   "execution_count": 21,
   "id": "6902187e",
   "metadata": {},
   "outputs": [
    {
     "name": "stdout",
     "output_type": "stream",
     "text": [
      "Area of the triangle is : 24.0\n"
     ]
    }
   ],
   "source": [
    "print(f\"Area of the triangle is : {area}\")"
   ]
  },
  {
   "cell_type": "markdown",
   "id": "e25684b5",
   "metadata": {},
   "source": [
    "# String concatenation (addition) and Multiplication"
   ]
  },
  {
   "cell_type": "code",
   "execution_count": 22,
   "id": "23bbfd78",
   "metadata": {},
   "outputs": [],
   "source": [
    "s = \"I am Indain\""
   ]
  },
  {
   "cell_type": "code",
   "execution_count": 23,
   "id": "37f154e7",
   "metadata": {},
   "outputs": [],
   "source": [
    "x = \"I love my country\""
   ]
  },
  {
   "cell_type": "code",
   "execution_count": 24,
   "id": "79312331",
   "metadata": {},
   "outputs": [
    {
     "data": {
      "text/plain": [
       "'I am Indain.I love my country'"
      ]
     },
     "execution_count": 24,
     "metadata": {},
     "output_type": "execute_result"
    }
   ],
   "source": [
    "s+ \".\" + x"
   ]
  },
  {
   "cell_type": "code",
   "execution_count": 25,
   "id": "928e6cfd",
   "metadata": {},
   "outputs": [
    {
     "data": {
      "text/plain": [
       "'I am IndainI am IndainI am IndainI am IndainI am Indain'"
      ]
     },
     "execution_count": 25,
     "metadata": {},
     "output_type": "execute_result"
    }
   ],
   "source": [
    "5* s"
   ]
  },
  {
   "cell_type": "code",
   "execution_count": 26,
   "id": "0480f327",
   "metadata": {},
   "outputs": [
    {
     "data": {
      "text/plain": [
       "'I am IndainI am IndainI am IndainI am IndainI am Indain'"
      ]
     },
     "execution_count": 26,
     "metadata": {},
     "output_type": "execute_result"
    }
   ],
   "source": [
    "s+s+s+s+s"
   ]
  },
  {
   "cell_type": "code",
   "execution_count": 27,
   "id": "557af370",
   "metadata": {},
   "outputs": [
    {
     "name": "stdout",
     "output_type": "stream",
     "text": [
      "Enter the number:54\n"
     ]
    }
   ],
   "source": [
    "a = int(input(\"Enter the number:\"))"
   ]
  },
  {
   "cell_type": "markdown",
   "id": "081c39d7",
   "metadata": {},
   "source": [
    "# Boolean type  variable "
   ]
  },
  {
   "cell_type": "markdown",
   "id": "d28b837c",
   "metadata": {},
   "source": [
    "#### It can take only two values , True or False"
   ]
  },
  {
   "cell_type": "code",
   "execution_count": 28,
   "id": "624d0cd5",
   "metadata": {},
   "outputs": [
    {
     "data": {
      "text/plain": [
       "bool"
      ]
     },
     "execution_count": 28,
     "metadata": {},
     "output_type": "execute_result"
    }
   ],
   "source": [
    "b = True\n",
    "type(b)"
   ]
  },
  {
   "cell_type": "code",
   "execution_count": 29,
   "id": "3f9de9f7",
   "metadata": {},
   "outputs": [
    {
     "data": {
      "text/plain": [
       "bool"
      ]
     },
     "execution_count": 29,
     "metadata": {},
     "output_type": "execute_result"
    }
   ],
   "source": [
    "c= False\n",
    "type(c)"
   ]
  },
  {
   "cell_type": "markdown",
   "id": "11c018dd",
   "metadata": {},
   "source": [
    "# OR Operation"
   ]
  },
  {
   "cell_type": "code",
   "execution_count": 30,
   "id": "9e9a16c8",
   "metadata": {},
   "outputs": [
    {
     "data": {
      "text/plain": [
       "True"
      ]
     },
     "execution_count": 30,
     "metadata": {},
     "output_type": "execute_result"
    }
   ],
   "source": [
    "b or c"
   ]
  },
  {
   "cell_type": "markdown",
   "id": "dfddda78",
   "metadata": {},
   "source": [
    "# AND operation"
   ]
  },
  {
   "cell_type": "code",
   "execution_count": 31,
   "id": "2130bcb9",
   "metadata": {},
   "outputs": [
    {
     "data": {
      "text/plain": [
       "False"
      ]
     },
     "execution_count": 31,
     "metadata": {},
     "output_type": "execute_result"
    }
   ],
   "source": [
    "b and c"
   ]
  },
  {
   "cell_type": "markdown",
   "id": "a395bb71",
   "metadata": {},
   "source": [
    "# Not Operation"
   ]
  },
  {
   "cell_type": "code",
   "execution_count": 32,
   "id": "1b110e6a",
   "metadata": {},
   "outputs": [
    {
     "data": {
      "text/plain": [
       "False"
      ]
     },
     "execution_count": 32,
     "metadata": {},
     "output_type": "execute_result"
    }
   ],
   "source": [
    "not b"
   ]
  },
  {
   "cell_type": "code",
   "execution_count": 33,
   "id": "17021a41",
   "metadata": {},
   "outputs": [
    {
     "data": {
      "text/plain": [
       "True"
      ]
     },
     "execution_count": 33,
     "metadata": {},
     "output_type": "execute_result"
    }
   ],
   "source": [
    "(not b) or (not c)"
   ]
  },
  {
   "cell_type": "markdown",
   "id": "3b0ac769",
   "metadata": {},
   "source": [
    "# My First Python : Hellow  World"
   ]
  },
  {
   "cell_type": "code",
   "execution_count": 35,
   "id": "3619e001",
   "metadata": {},
   "outputs": [
    {
     "name": "stdout",
     "output_type": "stream",
     "text": [
      "Hellow World\n"
     ]
    }
   ],
   "source": [
    "# Comment line , this will not executed  by python interpreter\n",
    "# Print() function\n",
    "print(\"Hellow World\")"
   ]
  },
  {
   "cell_type": "code",
   "execution_count": 36,
   "id": "f2ed21f9",
   "metadata": {},
   "outputs": [
    {
     "name": "stdout",
     "output_type": "stream",
     "text": [
      "Hellow  world again\n"
     ]
    }
   ],
   "source": [
    "print(\"Hellow  world again\")"
   ]
  },
  {
   "cell_type": "code",
   "execution_count": 37,
   "id": "391b87d9",
   "metadata": {},
   "outputs": [
    {
     "name": "stdout",
     "output_type": "stream",
     "text": [
      "oh hellow\n"
     ]
    }
   ],
   "source": [
    "print(\"oh hellow\")"
   ]
  },
  {
   "cell_type": "code",
   "execution_count": 38,
   "id": "e492a2d7",
   "metadata": {},
   "outputs": [
    {
     "name": "stdout",
     "output_type": "stream",
     "text": [
      "Statement -1\n",
      "Statement -2\n"
     ]
    }
   ],
   "source": [
    "print(\"Statement -1\")\n",
    "print(\"Statement -2\")"
   ]
  },
  {
   "cell_type": "markdown",
   "id": "4a57d832",
   "metadata": {},
   "source": [
    "### print() fuction in python "
   ]
  },
  {
   "cell_type": "code",
   "execution_count": 40,
   "id": "fe441abd",
   "metadata": {},
   "outputs": [
    {
     "name": "stdout",
     "output_type": "stream",
     "text": [
      "My name is : Rahul\tYour name is: Sachin\n"
     ]
    }
   ],
   "source": [
    "# print statement with end\n",
    "print(\"My name is : Rahul\", end=\"\\t\") # \\n stands  for neline, '\\t stands for tab'\n",
    "print(\"Your name is: Sachin\")"
   ]
  },
  {
   "cell_type": "markdown",
   "id": "0f2ca828",
   "metadata": {},
   "source": [
    "# Variables"
   ]
  },
  {
   "cell_type": "markdown",
   "id": "d2e5953f",
   "metadata": {},
   "source": [
    "#### A Variable is  nothing but a memory location in computer, where you can store  value "
   ]
  },
  {
   "cell_type": "code",
   "execution_count": 1,
   "id": "086285df",
   "metadata": {},
   "outputs": [],
   "source": [
    "a = 5"
   ]
  },
  {
   "cell_type": "code",
   "execution_count": 2,
   "id": "b04929b2",
   "metadata": {},
   "outputs": [
    {
     "name": "stdout",
     "output_type": "stream",
     "text": [
      "5\n"
     ]
    }
   ],
   "source": [
    "print(a)"
   ]
  },
  {
   "cell_type": "code",
   "execution_count": 3,
   "id": "c681f539",
   "metadata": {},
   "outputs": [
    {
     "data": {
      "text/plain": [
       "5"
      ]
     },
     "execution_count": 3,
     "metadata": {},
     "output_type": "execute_result"
    }
   ],
   "source": [
    "a"
   ]
  },
  {
   "cell_type": "code",
   "execution_count": 4,
   "id": "0601f78d",
   "metadata": {},
   "outputs": [
    {
     "data": {
      "text/plain": [
       "int"
      ]
     },
     "execution_count": 4,
     "metadata": {},
     "output_type": "execute_result"
    }
   ],
   "source": [
    "type(a)"
   ]
  },
  {
   "cell_type": "code",
   "execution_count": 5,
   "id": "2adaa4da",
   "metadata": {},
   "outputs": [],
   "source": [
    "b = 92.381"
   ]
  },
  {
   "cell_type": "code",
   "execution_count": 6,
   "id": "aeea4fa2",
   "metadata": {},
   "outputs": [
    {
     "data": {
      "text/plain": [
       "float"
      ]
     },
     "execution_count": 6,
     "metadata": {},
     "output_type": "execute_result"
    }
   ],
   "source": [
    "type(b)"
   ]
  },
  {
   "cell_type": "code",
   "execution_count": 7,
   "id": "893dc714",
   "metadata": {},
   "outputs": [
    {
     "data": {
      "text/plain": [
       "int"
      ]
     },
     "execution_count": 7,
     "metadata": {},
     "output_type": "execute_result"
    }
   ],
   "source": [
    "c = 'happy new year'\n",
    "type(a)"
   ]
  },
  {
   "cell_type": "code",
   "execution_count": 9,
   "id": "755712cf",
   "metadata": {},
   "outputs": [
    {
     "name": "stdout",
     "output_type": "stream",
     "text": [
      "happy new year\n"
     ]
    }
   ],
   "source": [
    "print(c)"
   ]
  },
  {
   "cell_type": "markdown",
   "id": "e77d08ce",
   "metadata": {},
   "source": [
    "# Data Types "
   ]
  },
  {
   "cell_type": "markdown",
   "id": "c5c163db",
   "metadata": {},
   "source": [
    "#### So  we have  seen there are primarily 3 types of data in Python\n",
    "\n",
    "###### 1) integer\n",
    "###### 2) Floating  Point\n",
    "###### 3) String"
   ]
  },
  {
   "cell_type": "markdown",
   "id": "f8c4a2d6",
   "metadata": {},
   "source": [
    "#### A variable  name :\n",
    "\n",
    "1) can't contain spaces\n",
    "2) Can't contain any  special other than underscore\n",
    "3) can be started/ ended with unerscore\n",
    "4) can contain alphanmeric characters\n",
    "5) Can't start with a number"
   ]
  },
  {
   "cell_type": "code",
   "execution_count": 10,
   "id": "e2e94066",
   "metadata": {},
   "outputs": [],
   "source": [
    "my_name = \"Rahul\""
   ]
  },
  {
   "cell_type": "markdown",
   "id": "bd17cd0b",
   "metadata": {},
   "source": [
    "# Arithmatic Operators "
   ]
  },
  {
   "cell_type": "code",
   "execution_count": 11,
   "id": "eaf9831c",
   "metadata": {},
   "outputs": [],
   "source": [
    "a = 3\n",
    "b =5.6\n",
    "c= 45\n"
   ]
  },
  {
   "cell_type": "markdown",
   "id": "ceaa2b94",
   "metadata": {},
   "source": [
    "# Addition"
   ]
  },
  {
   "cell_type": "code",
   "execution_count": 12,
   "id": "901af011",
   "metadata": {},
   "outputs": [
    {
     "name": "stdout",
     "output_type": "stream",
     "text": [
      "8.6\n"
     ]
    }
   ],
   "source": [
    "d = a+b\n",
    "print(d)"
   ]
  },
  {
   "cell_type": "markdown",
   "id": "f305f828",
   "metadata": {},
   "source": [
    "# Subtraction "
   ]
  },
  {
   "cell_type": "code",
   "execution_count": 13,
   "id": "63fd80d7",
   "metadata": {},
   "outputs": [
    {
     "data": {
      "text/plain": [
       "39.4"
      ]
     },
     "execution_count": 13,
     "metadata": {},
     "output_type": "execute_result"
    }
   ],
   "source": [
    "c-b"
   ]
  },
  {
   "cell_type": "code",
   "execution_count": 14,
   "id": "fb3853fd",
   "metadata": {},
   "outputs": [
    {
     "data": {
      "text/plain": [
       "2.5999999999999996"
      ]
     },
     "execution_count": 14,
     "metadata": {},
     "output_type": "execute_result"
    }
   ],
   "source": [
    "b-a"
   ]
  },
  {
   "cell_type": "code",
   "execution_count": 15,
   "id": "de418bbb",
   "metadata": {},
   "outputs": [
    {
     "name": "stdout",
     "output_type": "stream",
     "text": [
      "6.1\n"
     ]
    }
   ],
   "source": [
    "e = 8.6 - 2.5\n",
    "print(e)"
   ]
  },
  {
   "cell_type": "markdown",
   "id": "06778716",
   "metadata": {},
   "source": [
    "# Multiplication"
   ]
  },
  {
   "cell_type": "code",
   "execution_count": 16,
   "id": "b48efd23",
   "metadata": {},
   "outputs": [
    {
     "data": {
      "text/plain": [
       "18.299999999999997"
      ]
     },
     "execution_count": 16,
     "metadata": {},
     "output_type": "execute_result"
    }
   ],
   "source": [
    "a * e"
   ]
  },
  {
   "cell_type": "markdown",
   "id": "fb9fa1e9",
   "metadata": {},
   "source": [
    "# Division "
   ]
  },
  {
   "cell_type": "code",
   "execution_count": 17,
   "id": "341f7816",
   "metadata": {},
   "outputs": [
    {
     "data": {
      "text/plain": [
       "15.0"
      ]
     },
     "execution_count": 17,
     "metadata": {},
     "output_type": "execute_result"
    }
   ],
   "source": [
    " c / a "
   ]
  },
  {
   "cell_type": "markdown",
   "id": "dbcf14c2",
   "metadata": {},
   "source": [
    "# Integer  Division (Quotient)"
   ]
  },
  {
   "cell_type": "code",
   "execution_count": 18,
   "id": "2958847d",
   "metadata": {},
   "outputs": [
    {
     "data": {
      "text/plain": [
       "15"
      ]
     },
     "execution_count": 18,
     "metadata": {},
     "output_type": "execute_result"
    }
   ],
   "source": [
    " c // a "
   ]
  },
  {
   "cell_type": "code",
   "execution_count": 19,
   "id": "4c331634",
   "metadata": {},
   "outputs": [
    {
     "data": {
      "text/plain": [
       "9"
      ]
     },
     "execution_count": 19,
     "metadata": {},
     "output_type": "execute_result"
    }
   ],
   "source": [
    "f = 67\n",
    "g = 7\n",
    "f // g"
   ]
  },
  {
   "cell_type": "code",
   "execution_count": 20,
   "id": "a267b0e9",
   "metadata": {},
   "outputs": [
    {
     "data": {
      "text/plain": [
       "27.0"
      ]
     },
     "execution_count": 20,
     "metadata": {},
     "output_type": "execute_result"
    }
   ],
   "source": [
    "f  = 95.34\n",
    "g = 3.45\n",
    "\n",
    "f // g"
   ]
  },
  {
   "cell_type": "code",
   "execution_count": 21,
   "id": "1de26064",
   "metadata": {},
   "outputs": [
    {
     "data": {
      "text/plain": [
       "27.63478260869565"
      ]
     },
     "execution_count": 21,
     "metadata": {},
     "output_type": "execute_result"
    }
   ],
   "source": [
    " f / g"
   ]
  },
  {
   "cell_type": "markdown",
   "id": "8da5c5a0",
   "metadata": {},
   "source": [
    "#  Modulo Division (Remainder)"
   ]
  },
  {
   "cell_type": "code",
   "execution_count": 22,
   "id": "7e8b3fb2",
   "metadata": {},
   "outputs": [
    {
     "data": {
      "text/plain": [
       "3"
      ]
     },
     "execution_count": 22,
     "metadata": {},
     "output_type": "execute_result"
    }
   ],
   "source": [
    " x = 45 \n",
    " y = 7 \n",
    "\n",
    "x % y"
   ]
  },
  {
   "cell_type": "code",
   "execution_count": 23,
   "id": "c5db139a",
   "metadata": {},
   "outputs": [
    {
     "data": {
      "text/plain": [
       "0.08000000000000007"
      ]
     },
     "execution_count": 23,
     "metadata": {},
     "output_type": "execute_result"
    }
   ],
   "source": [
    " x  =34.79\n",
    "    \n",
    " y = 2.67\n",
    "\n",
    " x % y "
   ]
  },
  {
   "cell_type": "markdown",
   "id": "d7d99cde",
   "metadata": {},
   "source": [
    "# Exponentiation  "
   ]
  },
  {
   "cell_type": "code",
   "execution_count": 24,
   "id": "3ca37b11",
   "metadata": {},
   "outputs": [
    {
     "data": {
      "text/plain": [
       "64"
      ]
     },
     "execution_count": 24,
     "metadata": {},
     "output_type": "execute_result"
    }
   ],
   "source": [
    "4**3"
   ]
  },
  {
   "cell_type": "code",
   "execution_count": 25,
   "id": "2f2e534f",
   "metadata": {},
   "outputs": [
    {
     "data": {
      "text/plain": [
       "27.0"
      ]
     },
     "execution_count": 25,
     "metadata": {},
     "output_type": "execute_result"
    }
   ],
   "source": [
    " x = 9 \n",
    " y = (3/2)\n",
    "\n",
    "x ** y"
   ]
  },
  {
   "cell_type": "markdown",
   "id": "f2ba6a45",
   "metadata": {},
   "source": [
    "# Conditional operators\n",
    "\n",
    "##### They always returns boolean value\n",
    "\n",
    "###### If the condition is true  then they return  True else they  False "
   ]
  },
  {
   "cell_type": "markdown",
   "id": "f7fc8fed",
   "metadata": {},
   "source": [
    "#   == (Equality)"
   ]
  },
  {
   "cell_type": "code",
   "execution_count": 26,
   "id": "395f42ff",
   "metadata": {},
   "outputs": [
    {
     "data": {
      "text/plain": [
       "False"
      ]
     },
     "execution_count": 26,
     "metadata": {},
     "output_type": "execute_result"
    }
   ],
   "source": [
    " a = 5  # Here  = means  assignment, assigning  value 5 to variable a \n",
    "    \n",
    " a == 10 # Here   == mean equality conitional operator , it will check whether a is  equal to 10  if a is  10 then it will return True, else it  will return False"
   ]
  },
  {
   "cell_type": "markdown",
   "id": "00d7f63d",
   "metadata": {},
   "source": [
    "# != (non -equality)"
   ]
  },
  {
   "cell_type": "code",
   "execution_count": 27,
   "id": "a74befdc",
   "metadata": {},
   "outputs": [
    {
     "data": {
      "text/plain": [
       "True"
      ]
     },
     "execution_count": 27,
     "metadata": {},
     "output_type": "execute_result"
    }
   ],
   "source": [
    " a !=10"
   ]
  },
  {
   "cell_type": "markdown",
   "id": "ac5014c3",
   "metadata": {},
   "source": [
    "#  >= (greater than or equal to )"
   ]
  },
  {
   "cell_type": "code",
   "execution_count": 5,
   "id": "0f1a5477",
   "metadata": {},
   "outputs": [
    {
     "name": "stdout",
     "output_type": "stream",
     "text": [
      "Enter the number: 20\n"
     ]
    }
   ],
   "source": [
    "b = int(input(\"Enter the number: \"))"
   ]
  },
  {
   "cell_type": "code",
   "execution_count": 6,
   "id": "30931354",
   "metadata": {},
   "outputs": [
    {
     "data": {
      "text/plain": [
       "True"
      ]
     },
     "execution_count": 6,
     "metadata": {},
     "output_type": "execute_result"
    }
   ],
   "source": [
    "b >= 5"
   ]
  },
  {
   "cell_type": "code",
   "execution_count": 7,
   "id": "a15cad74",
   "metadata": {},
   "outputs": [
    {
     "data": {
      "text/plain": [
       "False"
      ]
     },
     "execution_count": 7,
     "metadata": {},
     "output_type": "execute_result"
    }
   ],
   "source": [
    "b >= 35"
   ]
  },
  {
   "cell_type": "markdown",
   "id": "a5cafb10",
   "metadata": {},
   "source": [
    "# > (greater than)"
   ]
  },
  {
   "cell_type": "code",
   "execution_count": 8,
   "id": "1daa63bc",
   "metadata": {},
   "outputs": [
    {
     "data": {
      "text/plain": [
       "True"
      ]
     },
     "execution_count": 8,
     "metadata": {},
     "output_type": "execute_result"
    }
   ],
   "source": [
    "b > 6"
   ]
  },
  {
   "cell_type": "markdown",
   "id": "4ad976f7",
   "metadata": {},
   "source": [
    "# <=(less than or equal to )"
   ]
  },
  {
   "cell_type": "code",
   "execution_count": 9,
   "id": "6c576477",
   "metadata": {},
   "outputs": [
    {
     "data": {
      "text/plain": [
       "False"
      ]
     },
     "execution_count": 9,
     "metadata": {},
     "output_type": "execute_result"
    }
   ],
   "source": [
    " b <= 10 "
   ]
  },
  {
   "cell_type": "markdown",
   "id": "eac038cf",
   "metadata": {},
   "source": [
    "# < (less than)"
   ]
  },
  {
   "cell_type": "code",
   "execution_count": 11,
   "id": "4a1d9c54",
   "metadata": {},
   "outputs": [
    {
     "data": {
      "text/plain": [
       "False"
      ]
     },
     "execution_count": 11,
     "metadata": {},
     "output_type": "execute_result"
    }
   ],
   "source": [
    "b < 10"
   ]
  },
  {
   "cell_type": "markdown",
   "id": "bf0c4147",
   "metadata": {},
   "source": [
    "# Conditonal statment  "
   ]
  },
  {
   "cell_type": "markdown",
   "id": "e45d6efe",
   "metadata": {},
   "source": [
    "# If -Else\n",
    "\n",
    "if (condtion):\n",
    "\n",
    "   run this code block when condition is met\n",
    "   \n",
    "Else:\n",
    "\n",
    "  run this code block when condition does not   meet "
   ]
  },
  {
   "cell_type": "markdown",
   "id": "4cf71f69",
   "metadata": {},
   "source": [
    "#### Take a number from user as input and check whether it is even or odd"
   ]
  },
  {
   "cell_type": "code",
   "execution_count": 13,
   "id": "7c9dd253",
   "metadata": {},
   "outputs": [
    {
     "name": "stdout",
     "output_type": "stream",
     "text": [
      "Enter an integer :45\n"
     ]
    }
   ],
   "source": [
    "a = int(input(\"Enter an integer :\"))"
   ]
  },
  {
   "cell_type": "code",
   "execution_count": 15,
   "id": "0fa4ef3c",
   "metadata": {},
   "outputs": [
    {
     "name": "stdout",
     "output_type": "stream",
     "text": [
      "odd\n"
     ]
    }
   ],
   "source": [
    "if a%2 == 0 :\n",
    "  print(\"Even\")\n",
    "else:\n",
    "    print(\"odd\")"
   ]
  },
  {
   "cell_type": "markdown",
   "id": "e811eb6a",
   "metadata": {},
   "source": [
    "# Take a number from user and check whether it is a perfect square or not "
   ]
  },
  {
   "cell_type": "code",
   "execution_count": 16,
   "id": "44942cd8",
   "metadata": {},
   "outputs": [
    {
     "data": {
      "text/plain": [
       "False"
      ]
     },
     "execution_count": 16,
     "metadata": {},
     "output_type": "execute_result"
    }
   ],
   "source": [
    "int(23**0.5)== 23**0.5  # 23**0.5  = 4.79 , int(23**0.5) = 4"
   ]
  },
  {
   "cell_type": "code",
   "execution_count": 17,
   "id": "9ba91ad1",
   "metadata": {},
   "outputs": [
    {
     "data": {
      "text/plain": [
       "True"
      ]
     },
     "execution_count": 17,
     "metadata": {},
     "output_type": "execute_result"
    }
   ],
   "source": [
    "int(36**0.5) == 36**0.5  # 36** 0.5  = 6.0 int(36**0.5) = 6 "
   ]
  },
  {
   "cell_type": "code",
   "execution_count": 18,
   "id": "fe2048bd",
   "metadata": {},
   "outputs": [
    {
     "name": "stdout",
     "output_type": "stream",
     "text": [
      "Enter a positive integer:100\n"
     ]
    }
   ],
   "source": [
    "a = int(input(\"Enter a positive integer:\"))"
   ]
  },
  {
   "cell_type": "code",
   "execution_count": 19,
   "id": "2b6bc985",
   "metadata": {},
   "outputs": [
    {
     "name": "stdout",
     "output_type": "stream",
     "text": [
      "100 is a Perfect square\n"
     ]
    }
   ],
   "source": [
    "if (int(a**0.5) == a**0.5):\n",
    "    print(f\"{a} is a Perfect square\")\n",
    "else:\n",
    "    print(f\"{a} is Not a perfect square\")"
   ]
  },
  {
   "cell_type": "markdown",
   "id": "f61ffda5",
   "metadata": {},
   "source": [
    "# Nested if  -else(if -elie-else)\n",
    "\n",
    "\n",
    "if (conditon-1):\n",
    "   \n",
    "   run  this  code block\n",
    "   \n",
    " elif(condition -2):\n",
    " \n",
    " run this code block\n",
    " \n",
    " elif (condition -3):\n",
    "  \n",
    "  run this code block\n",
    "  \n",
    "  else:\n",
    "  \n",
    "  run this code block"
   ]
  },
  {
   "cell_type": "markdown",
   "id": "aa501d3c",
   "metadata": {},
   "source": [
    "#### Write a program (WAP) to input of a person's age and classify the  person based as age as following:\n",
    "\n",
    "1) if 0 <= age <18, -> Not Adult\n",
    "\n",
    "2) if 18 <=age <30 , -> Young Adult\n",
    "\n",
    "3) if 30 <= age <45, -> Middle aged\n",
    "\n",
    "4) if 45<= age < 60 , -> Upper middle aged\n",
    "\n",
    "5) if age> 60, -> Senior Citizen"
   ]
  },
  {
   "cell_type": "code",
   "execution_count": 21,
   "id": "c9018946",
   "metadata": {},
   "outputs": [
    {
     "name": "stdout",
     "output_type": "stream",
     "text": [
      "Enter the  age :35\n",
      "Middle aged\n"
     ]
    }
   ],
   "source": [
    "age = int(input(\"Enter the  age :\"))\n",
    "\n",
    "if age >=0 and age < 18 :\n",
    "    print(\"Not adult\")\n",
    "elif age >= 18  and age < 30 :\n",
    "    print(\"Young adult\")\n",
    "elif age >= 30  and age < 45 :\n",
    "    print (\"Middle aged\")\n",
    "elif age >= 45 and age  < 60 :\n",
    "    print(\"Upper middle aged\")\n",
    "else:\n",
    "    print(\"Senior citizen\")"
   ]
  },
  {
   "cell_type": "markdown",
   "id": "669fa4fe",
   "metadata": {},
   "source": [
    "### WAP that will take input of two numbers from user and a choice and will perform operation on those two numbers based  on the choice\n",
    "\n",
    "1) if choice = 1 then addition\n",
    "2) if choce =  2 then subtraction\n",
    "3) if choice = 3 then multiplication"
   ]
  },
  {
   "cell_type": "code",
   "execution_count": 24,
   "id": "f465a6e2",
   "metadata": {},
   "outputs": [
    {
     "name": "stdout",
     "output_type": "stream",
     "text": [
      "Enter first number: 84\n",
      "Enter first number: 34.5\n",
      "Enter your choice: 5\n",
      "The choice is not correct\n"
     ]
    }
   ],
   "source": [
    "num1 = float(input(\"Enter first number: \"))\n",
    "num2 = float(input(\"Enter first number: \"))\n",
    "\n",
    "choice = int(input(\"Enter your choice: \"))\n",
    "if choice == 1:\n",
    "    print(num1 + num2)\n",
    "elif choice == 2:\n",
    "    pint (num1 - num2)\n",
    "elif choice == 3:\n",
    "    print (num1 *num2)\n",
    "elif choice == 4:\n",
    "    print(num1 / num2)\n",
    "else :\n",
    "    print(\"The choice is not correct\")"
   ]
  },
  {
   "cell_type": "markdown",
   "id": "c31e4a17",
   "metadata": {},
   "source": [
    "# While loop\n",
    "  while (condition) :\n",
    "  \n",
    "  \n",
    "    keep on running  this code block, as long as the condition  is met"
   ]
  },
  {
   "cell_type": "markdown",
   "id": "4b0db761",
   "metadata": {},
   "source": [
    "## Print all  the numbers from 0 to 20"
   ]
  },
  {
   "cell_type": "code",
   "execution_count": 25,
   "id": "977ebc00",
   "metadata": {},
   "outputs": [
    {
     "name": "stdout",
     "output_type": "stream",
     "text": [
      "0\n",
      "1\n",
      "2\n",
      "3\n",
      "4\n",
      "5\n",
      "6\n",
      "7\n",
      "8\n",
      "9\n",
      "10\n",
      "11\n",
      "12\n",
      "13\n",
      "14\n",
      "15\n",
      "16\n",
      "17\n",
      "18\n",
      "19\n",
      "20\n"
     ]
    }
   ],
   "source": [
    "counter  = 0 \n",
    "while (counter <= 20):\n",
    "    print(counter)\n",
    "    counter += 1 # We are incrementing the counter value by 1"
   ]
  },
  {
   "cell_type": "code",
   "execution_count": 26,
   "id": "b2f9994c",
   "metadata": {},
   "outputs": [
    {
     "name": "stdout",
     "output_type": "stream",
     "text": [
      "79\n"
     ]
    }
   ],
   "source": [
    " a = 45\n",
    " a += 34 # a = a+34\n",
    "print(a)"
   ]
  },
  {
   "cell_type": "code",
   "execution_count": 27,
   "id": "ef4a7fe4",
   "metadata": {},
   "outputs": [
    {
     "name": "stdout",
     "output_type": "stream",
     "text": [
      "56\n"
     ]
    }
   ],
   "source": [
    "a  -= 23 # a = a - 23\n",
    "print(a)"
   ]
  },
  {
   "cell_type": "code",
   "execution_count": 29,
   "id": "ff05946e",
   "metadata": {},
   "outputs": [
    {
     "name": "stdout",
     "output_type": "stream",
     "text": [
      "504\n"
     ]
    }
   ],
   "source": [
    "a *= 3 # a  = a * 3\n",
    "print(a)"
   ]
  },
  {
   "cell_type": "markdown",
   "id": "9d148fbb",
   "metadata": {},
   "source": [
    "### WAP to print all the odd numbers  between  0 and a number provided by user."
   ]
  },
  {
   "cell_type": "code",
   "execution_count": 1,
   "id": "c18a9bf5",
   "metadata": {},
   "outputs": [
    {
     "name": "stdout",
     "output_type": "stream",
     "text": [
      "Enter the end number:25\n",
      "1\n",
      "3\n",
      "5\n",
      "7\n",
      "9\n",
      "11\n",
      "13\n",
      "15\n",
      "17\n",
      "19\n",
      "21\n",
      "23\n",
      "25\n"
     ]
    }
   ],
   "source": [
    "n = int(input(\"Enter the end number:\"))\n",
    "\n",
    "counter = 0\n",
    "\n",
    "while (counter <= n):\n",
    "    if(counter % 2 != 0):\n",
    "        print(counter)\n",
    "    counter += 1"
   ]
  },
  {
   "cell_type": "markdown",
   "id": "52b5b00f",
   "metadata": {},
   "source": [
    "### WAP to  take a positve integer from user  and print the number of digits "
   ]
  },
  {
   "cell_type": "code",
   "execution_count": 2,
   "id": "c747a933",
   "metadata": {},
   "outputs": [
    {
     "name": "stdout",
     "output_type": "stream",
     "text": [
      "Enter the number: 3214567899\n",
      "There are 10 digits\n"
     ]
    }
   ],
   "source": [
    "n = int(input(\"Enter the number: \"))\n",
    "num_of_digits = 0\n",
    "\n",
    "while(n > 0):\n",
    "    n = n // 10\n",
    "    num_of_digits  += 1\n",
    "print(f\"There are {num_of_digits} digits\")"
   ]
  },
  {
   "cell_type": "markdown",
   "id": "1c0bbc42",
   "metadata": {},
   "source": [
    "## WAP to sum all the digits in a given positive integer"
   ]
  },
  {
   "cell_type": "code",
   "execution_count": 3,
   "id": "ef20f0ed",
   "metadata": {},
   "outputs": [
    {
     "name": "stdout",
     "output_type": "stream",
     "text": [
      "Enter the number :63589\n",
      "The sum of digits = 31\n"
     ]
    }
   ],
   "source": [
    "n = int(input(\"Enter the number :\"))\n",
    "\n",
    "s = 0 \n",
    "\n",
    "while (n > 0) :\n",
    "    s += n%10\n",
    "    n = n // 10\n",
    "\n",
    "print(f\"The sum of digits = {s}\")"
   ]
  },
  {
   "cell_type": "markdown",
   "id": "db153ee2",
   "metadata": {},
   "source": [
    "## Given a positve integer produce a number which is reverse of  it .\n",
    "\n",
    "\n",
    " For example : if the given is 2356 then produce 6532\n"
   ]
  },
  {
   "cell_type": "code",
   "execution_count": 4,
   "id": "f31d07b3",
   "metadata": {},
   "outputs": [
    {
     "name": "stdout",
     "output_type": "stream",
     "text": [
      "Enter the number :732283\n",
      "The reversed number is 382237\n"
     ]
    }
   ],
   "source": [
    "n = int(input(\"Enter the number :\"))\n",
    "    \n",
    "m = 0\n",
    "while (n > 0 ):\n",
    "    m = 10 * m + n % 10\n",
    "    n = n // 10 \n",
    "print(f\"The reversed number is {m}\")\n"
   ]
  },
  {
   "cell_type": "markdown",
   "id": "ebd0e71e",
   "metadata": {},
   "source": [
    "#  Range  function\n",
    "\n",
    "Gives  values within  the range of two numbers \n",
    "\n",
    "The Structure of range () function is following \n",
    "\n",
    "  range (start , stop, step)\n",
    "\n",
    "start ->The number  from  where you want  to start ( optional), defalt value is 0\n",
    "\n",
    "stop -> the number where you want to stop , excluded (required ) \n",
    "\n",
    "step -> the number specifices  the increment (optional) , default value is 1 "
   ]
  },
  {
   "cell_type": "markdown",
   "id": "e024214d",
   "metadata": {},
   "source": [
    "#  For Loop \n",
    "\n",
    " for i in interable :\n",
    " \n",
    "  code to follow\n",
    "  \n",
    "  i is an iternator (you can any variable  instead of i )\n",
    "  \n",
    "  iterable is an object in python on which  we can iterate\n",
    "  "
   ]
  },
  {
   "cell_type": "code",
   "execution_count": 5,
   "id": "d302fc6e",
   "metadata": {},
   "outputs": [
    {
     "name": "stdout",
     "output_type": "stream",
     "text": [
      "range(0, 20)\n"
     ]
    }
   ],
   "source": [
    "x = range(20)\n",
    "\n",
    "print (x)\n"
   ]
  },
  {
   "cell_type": "code",
   "execution_count": 6,
   "id": "c1e1113c",
   "metadata": {},
   "outputs": [
    {
     "name": "stdout",
     "output_type": "stream",
     "text": [
      "0\n",
      "1\n",
      "2\n",
      "3\n",
      "4\n",
      "5\n",
      "6\n",
      "7\n",
      "8\n",
      "9\n",
      "10\n",
      "11\n",
      "12\n",
      "13\n",
      "14\n",
      "15\n",
      "16\n",
      "17\n",
      "18\n",
      "19\n"
     ]
    }
   ],
   "source": [
    "for i in x :\n",
    "    \n",
    "    print(i)"
   ]
  },
  {
   "cell_type": "code",
   "execution_count": 7,
   "id": "03ccf850",
   "metadata": {},
   "outputs": [
    {
     "name": "stdout",
     "output_type": "stream",
     "text": [
      "5\n",
      "6\n",
      "7\n",
      "8\n",
      "9\n",
      "10\n",
      "11\n",
      "12\n",
      "13\n",
      "14\n"
     ]
    }
   ],
   "source": [
    "y = range(5, 15)\n",
    "\n",
    "for i in y :\n",
    "    print (i)"
   ]
  },
  {
   "cell_type": "code",
   "execution_count": 8,
   "id": "3eba9282",
   "metadata": {},
   "outputs": [
    {
     "name": "stdout",
     "output_type": "stream",
     "text": [
      "5\n",
      "7\n",
      "9\n",
      "11\n",
      "13\n",
      "15\n",
      "17\n",
      "19\n",
      "21\n",
      "23\n",
      "25\n",
      "27\n",
      "29\n"
     ]
    }
   ],
   "source": [
    "for i in range (5, 30 , 2) :\n",
    "    print(i)"
   ]
  },
  {
   "cell_type": "markdown",
   "id": "91d8bfbf",
   "metadata": {},
   "source": [
    "# print all the odd numbers between a range given by user."
   ]
  },
  {
   "cell_type": "code",
   "execution_count": 9,
   "id": "8231b0ec",
   "metadata": {},
   "outputs": [
    {
     "name": "stdout",
     "output_type": "stream",
     "text": [
      "Enter the starting  number :10\n",
      "Enter the ending number: 50\n"
     ]
    }
   ],
   "source": [
    "start  = int( input(\"Enter the starting  number :\"))\n",
    "\n",
    "stop  = int(input(\"Enter the ending number: \"))"
   ]
  },
  {
   "cell_type": "code",
   "execution_count": 11,
   "id": "784fd401",
   "metadata": {},
   "outputs": [
    {
     "name": "stdout",
     "output_type": "stream",
     "text": [
      "11\n",
      "13\n",
      "15\n",
      "17\n",
      "19\n",
      "21\n",
      "23\n",
      "25\n",
      "27\n",
      "29\n",
      "31\n",
      "33\n",
      "35\n",
      "37\n",
      "39\n",
      "41\n",
      "43\n",
      "45\n",
      "47\n",
      "49\n"
     ]
    }
   ],
   "source": [
    "for i in range (start , stop+1 , 1):\n",
    "    if i % 2 != 0:\n",
    "        print(i)\n",
    " "
   ]
  },
  {
   "cell_type": "markdown",
   "id": "b97d4b77",
   "metadata": {},
   "source": [
    "# Find all the divisors of a given positive number (excluding that number)\n",
    "\n",
    "For example : if the given number is 12, then it should  print 1,2,3,4,6"
   ]
  },
  {
   "cell_type": "code",
   "execution_count": 13,
   "id": "92243654",
   "metadata": {},
   "outputs": [
    {
     "name": "stdout",
     "output_type": "stream",
     "text": [
      "Enter the number: 35\n"
     ]
    }
   ],
   "source": [
    "n = int(input(\"Enter the number: \"))"
   ]
  },
  {
   "cell_type": "code",
   "execution_count": 14,
   "id": "2b205e60",
   "metadata": {},
   "outputs": [
    {
     "name": "stdout",
     "output_type": "stream",
     "text": [
      "1\n",
      "5\n",
      "7\n"
     ]
    }
   ],
   "source": [
    "for i in range(1, n//2 + 1):\n",
    "    if n % i == 0:\n",
    "        print(i)"
   ]
  },
  {
   "cell_type": "markdown",
   "id": "81e6a5da",
   "metadata": {},
   "source": [
    "### Perfect number: A perfect number is sum of its postive divisors (excluding that number)\n",
    "\n",
    "example : 6\n",
    "\n",
    "The positive factors / divisors of 6 are  1,2,3\n",
    "\n",
    "1+2+3\n",
    "\n",
    "So 6 is a perfect number"
   ]
  },
  {
   "cell_type": "markdown",
   "id": "ccab376f",
   "metadata": {},
   "source": [
    "#### Wap to check whether a number a perfect  number or not "
   ]
  },
  {
   "cell_type": "code",
   "execution_count": 15,
   "id": "2d089f49",
   "metadata": {},
   "outputs": [
    {
     "name": "stdout",
     "output_type": "stream",
     "text": [
      "Enter the number :28\n"
     ]
    }
   ],
   "source": [
    "n = int(input(\"Enter the number :\"))\n"
   ]
  },
  {
   "cell_type": "code",
   "execution_count": 17,
   "id": "a1a74bec",
   "metadata": {},
   "outputs": [
    {
     "name": "stdout",
     "output_type": "stream",
     "text": [
      "28 is a perfect number.\n"
     ]
    }
   ],
   "source": [
    "s = 0 # s is a variable which will store the sum of the factors\n",
    "\n",
    "for i in range(1, n//2 + 1):\n",
    "    if n % i == 0:\n",
    "        s = s+i   # 'i' is added with present value of s and get stored in s\n",
    "        \n",
    "if (s == n):\n",
    "    print(f\"{n} is a perfect number.\")\n",
    "else:\n",
    "    print(f\"{n} is not a perfect number.\")"
   ]
  },
  {
   "cell_type": "markdown",
   "id": "7c0a6bbd",
   "metadata": {},
   "source": [
    "# Nested Loops \n",
    "\n",
    "      for i in range(0, 25):\n",
    "           for j in range(i, 30 ):\n",
    "             print(J)"
   ]
  },
  {
   "cell_type": "code",
   "execution_count": 22,
   "id": "120ff610",
   "metadata": {},
   "outputs": [
    {
     "name": "stdout",
     "output_type": "stream",
     "text": [
      "Multiplication table of 1\n",
      "\n",
      "1 * 1  = [i*J]\n",
      "\n",
      "\n",
      "\n",
      "1 * 2  = [i*J]\n",
      "\n",
      "\n",
      "\n",
      "1 * 3  = [i*J]\n",
      "\n",
      "\n",
      "\n",
      "1 * 4  = [i*J]\n",
      "\n",
      "\n",
      "\n",
      "1 * 5  = [i*J]\n",
      "\n",
      "\n",
      "\n",
      "1 * 6  = [i*J]\n",
      "\n",
      "\n",
      "\n",
      "1 * 7  = [i*J]\n",
      "\n",
      "\n",
      "\n",
      "1 * 8  = [i*J]\n",
      "\n",
      "\n",
      "\n",
      "1 * 9  = [i*J]\n",
      "\n",
      "\n",
      "\n",
      "1 * 10  = [i*J]\n",
      "\n",
      "\n",
      "\n",
      "Multiplication table of 2\n",
      "\n",
      "2 * 1  = [i*J]\n",
      "\n",
      "\n",
      "\n",
      "2 * 2  = [i*J]\n",
      "\n",
      "\n",
      "\n",
      "2 * 3  = [i*J]\n",
      "\n",
      "\n",
      "\n",
      "2 * 4  = [i*J]\n",
      "\n",
      "\n",
      "\n",
      "2 * 5  = [i*J]\n",
      "\n",
      "\n",
      "\n",
      "2 * 6  = [i*J]\n",
      "\n",
      "\n",
      "\n",
      "2 * 7  = [i*J]\n",
      "\n",
      "\n",
      "\n",
      "2 * 8  = [i*J]\n",
      "\n",
      "\n",
      "\n",
      "2 * 9  = [i*J]\n",
      "\n",
      "\n",
      "\n",
      "2 * 10  = [i*J]\n",
      "\n",
      "\n",
      "\n",
      "Multiplication table of 3\n",
      "\n",
      "3 * 1  = [i*J]\n",
      "\n",
      "\n",
      "\n",
      "3 * 2  = [i*J]\n",
      "\n",
      "\n",
      "\n",
      "3 * 3  = [i*J]\n",
      "\n",
      "\n",
      "\n",
      "3 * 4  = [i*J]\n",
      "\n",
      "\n",
      "\n",
      "3 * 5  = [i*J]\n",
      "\n",
      "\n",
      "\n",
      "3 * 6  = [i*J]\n",
      "\n",
      "\n",
      "\n",
      "3 * 7  = [i*J]\n",
      "\n",
      "\n",
      "\n",
      "3 * 8  = [i*J]\n",
      "\n",
      "\n",
      "\n",
      "3 * 9  = [i*J]\n",
      "\n",
      "\n",
      "\n",
      "3 * 10  = [i*J]\n",
      "\n",
      "\n",
      "\n",
      "Multiplication table of 4\n",
      "\n",
      "4 * 1  = [i*J]\n",
      "\n",
      "\n",
      "\n",
      "4 * 2  = [i*J]\n",
      "\n",
      "\n",
      "\n",
      "4 * 3  = [i*J]\n",
      "\n",
      "\n",
      "\n",
      "4 * 4  = [i*J]\n",
      "\n",
      "\n",
      "\n",
      "4 * 5  = [i*J]\n",
      "\n",
      "\n",
      "\n",
      "4 * 6  = [i*J]\n",
      "\n",
      "\n",
      "\n",
      "4 * 7  = [i*J]\n",
      "\n",
      "\n",
      "\n",
      "4 * 8  = [i*J]\n",
      "\n",
      "\n",
      "\n",
      "4 * 9  = [i*J]\n",
      "\n",
      "\n",
      "\n",
      "4 * 10  = [i*J]\n",
      "\n",
      "\n",
      "\n",
      "Multiplication table of 5\n",
      "\n",
      "5 * 1  = [i*J]\n",
      "\n",
      "\n",
      "\n",
      "5 * 2  = [i*J]\n",
      "\n",
      "\n",
      "\n",
      "5 * 3  = [i*J]\n",
      "\n",
      "\n",
      "\n",
      "5 * 4  = [i*J]\n",
      "\n",
      "\n",
      "\n",
      "5 * 5  = [i*J]\n",
      "\n",
      "\n",
      "\n",
      "5 * 6  = [i*J]\n",
      "\n",
      "\n",
      "\n",
      "5 * 7  = [i*J]\n",
      "\n",
      "\n",
      "\n",
      "5 * 8  = [i*J]\n",
      "\n",
      "\n",
      "\n",
      "5 * 9  = [i*J]\n",
      "\n",
      "\n",
      "\n",
      "5 * 10  = [i*J]\n",
      "\n",
      "\n",
      "\n"
     ]
    }
   ],
   "source": [
    "for i in  range(1, 6):\n",
    "    print(f\"Multiplication table of {i}\\n\")\n",
    "    for j in range(1, 11):\n",
    "        print(f\"{i} * {j}  = [i*J]\")\n",
    "        print(\"\\n\\n\")"
   ]
  },
  {
   "cell_type": "markdown",
   "id": "321ab7a6",
   "metadata": {},
   "source": [
    "# Print all the prime numbers between a given range"
   ]
  },
  {
   "cell_type": "code",
   "execution_count": 25,
   "id": "8c8e4203",
   "metadata": {},
   "outputs": [
    {
     "name": "stdout",
     "output_type": "stream",
     "text": [
      "Enter the starting number: 23\n",
      "Enter the ending number: 75\n",
      "23\n",
      "29\n",
      "31\n",
      "37\n",
      "41\n",
      "43\n",
      "47\n",
      "53\n",
      "59\n",
      "61\n",
      "67\n",
      "71\n",
      "73\n"
     ]
    }
   ],
   "source": [
    "start = int(input(\"Enter the starting number: \"))\n",
    "end = int(input(\"Enter the ending number: \"))\n",
    "\n",
    "for i in range(start, end+1):\n",
    "    flag = 0\n",
    "    for j in range(2, i//2 + 1):\n",
    "        if i % j == 0:\n",
    "            flag = 1\n",
    "            break\n",
    "    if flag == 0:\n",
    "        print(i)    "
   ]
  },
  {
   "cell_type": "markdown",
   "id": "a6fe8a5a",
   "metadata": {},
   "source": [
    "# List"
   ]
  },
  {
   "cell_type": "code",
   "execution_count": 1,
   "id": "2d46bcd9",
   "metadata": {},
   "outputs": [],
   "source": [
    "a = [] # empty list"
   ]
  },
  {
   "cell_type": "code",
   "execution_count": 2,
   "id": "00d04050",
   "metadata": {},
   "outputs": [
    {
     "data": {
      "text/plain": [
       "list"
      ]
     },
     "execution_count": 2,
     "metadata": {},
     "output_type": "execute_result"
    }
   ],
   "source": [
    "type(a)"
   ]
  },
  {
   "cell_type": "code",
   "execution_count": 1,
   "id": "38676a02",
   "metadata": {},
   "outputs": [],
   "source": [
    "a = [1,2,-34.67,'c', 'Rahul Bhogare',True , 10, 4.5, False]"
   ]
  },
  {
   "cell_type": "code",
   "execution_count": 2,
   "id": "4edaa584",
   "metadata": {},
   "outputs": [
    {
     "data": {
      "text/plain": [
       "list"
      ]
     },
     "execution_count": 2,
     "metadata": {},
     "output_type": "execute_result"
    }
   ],
   "source": [
    "type(a)"
   ]
  },
  {
   "cell_type": "markdown",
   "id": "92f2eb87",
   "metadata": {},
   "source": [
    "# Length of  list"
   ]
  },
  {
   "cell_type": "code",
   "execution_count": 3,
   "id": "654cb307",
   "metadata": {},
   "outputs": [
    {
     "data": {
      "text/plain": [
       "9"
      ]
     },
     "execution_count": 3,
     "metadata": {},
     "output_type": "execute_result"
    }
   ],
   "source": [
    "len(a) # return the length of  list 'a'"
   ]
  },
  {
   "cell_type": "code",
   "execution_count": 5,
   "id": "96910546",
   "metadata": {},
   "outputs": [
    {
     "data": {
      "text/plain": [
       "0"
      ]
     },
     "execution_count": 5,
     "metadata": {},
     "output_type": "execute_result"
    }
   ],
   "source": [
    "b = []\n",
    "len(b)"
   ]
  },
  {
   "cell_type": "markdown",
   "id": "f253ec88",
   "metadata": {},
   "source": [
    "# Indexing  of list"
   ]
  },
  {
   "cell_type": "code",
   "execution_count": 6,
   "id": "69a35662",
   "metadata": {},
   "outputs": [
    {
     "data": {
      "text/plain": [
       "1"
      ]
     },
     "execution_count": 6,
     "metadata": {},
     "output_type": "execute_result"
    }
   ],
   "source": [
    "a[0]"
   ]
  },
  {
   "cell_type": "code",
   "execution_count": 7,
   "id": "36cb1d04",
   "metadata": {},
   "outputs": [
    {
     "data": {
      "text/plain": [
       "True"
      ]
     },
     "execution_count": 7,
     "metadata": {},
     "output_type": "execute_result"
    }
   ],
   "source": [
    "a[5]"
   ]
  },
  {
   "cell_type": "code",
   "execution_count": 8,
   "id": "62ff0bf0",
   "metadata": {},
   "outputs": [
    {
     "data": {
      "text/plain": [
       "False"
      ]
     },
     "execution_count": 8,
     "metadata": {},
     "output_type": "execute_result"
    }
   ],
   "source": [
    "a[8]"
   ]
  },
  {
   "cell_type": "code",
   "execution_count": 9,
   "id": "1d4c7d2d",
   "metadata": {},
   "outputs": [
    {
     "ename": "IndexError",
     "evalue": "list index out of range",
     "output_type": "error",
     "traceback": [
      "\u001b[1;31m---------------------------------------------------------------------------\u001b[0m",
      "\u001b[1;31mIndexError\u001b[0m                                Traceback (most recent call last)",
      "\u001b[1;32m<ipython-input-9-044f1ccc0778>\u001b[0m in \u001b[0;36m<module>\u001b[1;34m\u001b[0m\n\u001b[1;32m----> 1\u001b[1;33m \u001b[0ma\u001b[0m\u001b[1;33m[\u001b[0m\u001b[1;36m9\u001b[0m\u001b[1;33m]\u001b[0m\u001b[1;33m\u001b[0m\u001b[1;33m\u001b[0m\u001b[0m\n\u001b[0m",
      "\u001b[1;31mIndexError\u001b[0m: list index out of range"
     ]
    }
   ],
   "source": [
    "a[9]"
   ]
  },
  {
   "cell_type": "markdown",
   "id": "70306893",
   "metadata": {},
   "source": [
    "# Negative Indexing "
   ]
  },
  {
   "cell_type": "code",
   "execution_count": 10,
   "id": "335c6fa7",
   "metadata": {},
   "outputs": [
    {
     "data": {
      "text/plain": [
       "False"
      ]
     },
     "execution_count": 10,
     "metadata": {},
     "output_type": "execute_result"
    }
   ],
   "source": [
    "a[-1]"
   ]
  },
  {
   "cell_type": "code",
   "execution_count": 11,
   "id": "fa7bfd87",
   "metadata": {},
   "outputs": [
    {
     "data": {
      "text/plain": [
       "True"
      ]
     },
     "execution_count": 11,
     "metadata": {},
     "output_type": "execute_result"
    }
   ],
   "source": [
    "a[-4]"
   ]
  },
  {
   "cell_type": "code",
   "execution_count": 12,
   "id": "620f7287",
   "metadata": {},
   "outputs": [
    {
     "data": {
      "text/plain": [
       "1"
      ]
     },
     "execution_count": 12,
     "metadata": {},
     "output_type": "execute_result"
    }
   ],
   "source": [
    "a[-9]"
   ]
  },
  {
   "cell_type": "code",
   "execution_count": 13,
   "id": "238c65f1",
   "metadata": {},
   "outputs": [
    {
     "ename": "IndexError",
     "evalue": "list index out of range",
     "output_type": "error",
     "traceback": [
      "\u001b[1;31m---------------------------------------------------------------------------\u001b[0m",
      "\u001b[1;31mIndexError\u001b[0m                                Traceback (most recent call last)",
      "\u001b[1;32m<ipython-input-13-b1ddb357c14a>\u001b[0m in \u001b[0;36m<module>\u001b[1;34m\u001b[0m\n\u001b[1;32m----> 1\u001b[1;33m \u001b[0ma\u001b[0m\u001b[1;33m[\u001b[0m\u001b[1;33m-\u001b[0m\u001b[1;36m10\u001b[0m\u001b[1;33m]\u001b[0m\u001b[1;33m\u001b[0m\u001b[1;33m\u001b[0m\u001b[0m\n\u001b[0m",
      "\u001b[1;31mIndexError\u001b[0m: list index out of range"
     ]
    }
   ],
   "source": [
    "a[-10]"
   ]
  },
  {
   "cell_type": "markdown",
   "id": "18334cbf",
   "metadata": {},
   "source": [
    "# Retrieve second last element from list"
   ]
  },
  {
   "cell_type": "code",
   "execution_count": 14,
   "id": "23d75d4e",
   "metadata": {},
   "outputs": [],
   "source": [
    "l = [2,-4,7, 10, 8, -23, 78,-43]"
   ]
  },
  {
   "cell_type": "code",
   "execution_count": 15,
   "id": "30ff704d",
   "metadata": {},
   "outputs": [
    {
     "data": {
      "text/plain": [
       "78"
      ]
     },
     "execution_count": 15,
     "metadata": {},
     "output_type": "execute_result"
    }
   ],
   "source": [
    "l[-2]"
   ]
  },
  {
   "cell_type": "code",
   "execution_count": 16,
   "id": "8860c5a9",
   "metadata": {},
   "outputs": [
    {
     "data": {
      "text/plain": [
       "78"
      ]
     },
     "execution_count": 16,
     "metadata": {},
     "output_type": "execute_result"
    }
   ],
   "source": [
    "l[len(l)-2]"
   ]
  },
  {
   "cell_type": "markdown",
   "id": "46671f2f",
   "metadata": {},
   "source": [
    "# Slicing \n",
    "\n",
    "#### for a list 'L' slicing is done in following way \n",
    "\n",
    "##### L[n1:n2:n3]\n",
    "\n",
    "##### n1 : starting index(included) {optional} I default = 0 \n",
    "###### n2 : ending index (excluded ){ optional}  I default = len(L)\n",
    "##### n3 : step {optional} l default  = 1"
   ]
  },
  {
   "cell_type": "markdown",
   "id": "cd85a653",
   "metadata": {},
   "source": [
    "# Example - 1:\n",
    "\n",
    "#### len(L)  = 10\n",
    "##### L[3:8]  it will produce a list with values L[3], L[4], L[5], L[6], L[7]"
   ]
  },
  {
   "cell_type": "code",
   "execution_count": 17,
   "id": "d717e9a7",
   "metadata": {},
   "outputs": [
    {
     "data": {
      "text/plain": [
       "[-4, 7, 10]"
      ]
     },
     "execution_count": 17,
     "metadata": {},
     "output_type": "execute_result"
    }
   ],
   "source": [
    "l = [2,-4,7,10,8,-23,78,-43]\n",
    "l[1:4]"
   ]
  },
  {
   "cell_type": "markdown",
   "id": "98d9bcb3",
   "metadata": {},
   "source": [
    "# Example -2:\n",
    "\n",
    "#### suppose  len (L) = 10  \n",
    "#####  L[1:8:2] it  will produce  a list values  L[1], L[3], L[5], L[7]"
   ]
  },
  {
   "cell_type": "code",
   "execution_count": 18,
   "id": "621a8374",
   "metadata": {},
   "outputs": [
    {
     "data": {
      "text/plain": [
       "[-4, 10, -23, -43]"
      ]
     },
     "execution_count": 18,
     "metadata": {},
     "output_type": "execute_result"
    }
   ],
   "source": [
    "l = [2,-4,7,10,8,-23,78,-43,32]\n",
    "\n",
    "l[1:8:2]"
   ]
  },
  {
   "cell_type": "markdown",
   "id": "ec93a0ac",
   "metadata": {},
   "source": [
    "# Example-3 :\n",
    "\n",
    "#### suppose len(L) = 10 \n",
    "###### L[:6] it iwll produce a list with values  L[0], L[1], L[2], L[3], L[4] , L[5]\n",
    "L[5:] it  will produce a list with vlues L[5] , L[6] , L[7] , L[9]"
   ]
  },
  {
   "cell_type": "code",
   "execution_count": 19,
   "id": "12b27725",
   "metadata": {},
   "outputs": [
    {
     "data": {
      "text/plain": [
       "[2, -4, 7, 10, 8]"
      ]
     },
     "execution_count": 19,
     "metadata": {},
     "output_type": "execute_result"
    }
   ],
   "source": [
    "l[:5]"
   ]
  },
  {
   "cell_type": "code",
   "execution_count": 20,
   "id": "297876c3",
   "metadata": {},
   "outputs": [
    {
     "data": {
      "text/plain": [
       "[78, -43, 32]"
      ]
     },
     "execution_count": 20,
     "metadata": {},
     "output_type": "execute_result"
    }
   ],
   "source": [
    "l[6:]"
   ]
  },
  {
   "cell_type": "markdown",
   "id": "325c6b82",
   "metadata": {},
   "source": [
    "# Example -4 : \n",
    " \n",
    "#### L[::] -> produce entire list\n",
    "\n",
    "#### L[:] -> Produce entire list "
   ]
  },
  {
   "cell_type": "code",
   "execution_count": 21,
   "id": "755644dc",
   "metadata": {},
   "outputs": [
    {
     "data": {
      "text/plain": [
       "[2, -4, 7, 10, 8, -23, 78, -43, 32]"
      ]
     },
     "execution_count": 21,
     "metadata": {},
     "output_type": "execute_result"
    }
   ],
   "source": [
    "l[::]"
   ]
  },
  {
   "cell_type": "code",
   "execution_count": 22,
   "id": "90ffdff4",
   "metadata": {},
   "outputs": [
    {
     "data": {
      "text/plain": [
       "[2, -4, 7, 10, 8, -23, 78, -43, 32]"
      ]
     },
     "execution_count": 22,
     "metadata": {},
     "output_type": "execute_result"
    }
   ],
   "source": [
    "l[:]"
   ]
  },
  {
   "cell_type": "markdown",
   "id": "b45690f6",
   "metadata": {},
   "source": [
    "# Example-5 :\n",
    "\n",
    "### L[8:2:-1] it will produce a list  L[8] , L[7] , L[5] , L[4], L[3]"
   ]
  },
  {
   "cell_type": "code",
   "execution_count": 24,
   "id": "baab9334",
   "metadata": {},
   "outputs": [
    {
     "data": {
      "text/plain": [
       "[32, -43, 78, -23, 8, 10]"
      ]
     },
     "execution_count": 24,
     "metadata": {},
     "output_type": "execute_result"
    }
   ],
   "source": [
    "l[8:2:-1]"
   ]
  },
  {
   "cell_type": "code",
   "execution_count": 25,
   "id": "20bb58e3",
   "metadata": {},
   "outputs": [
    {
     "data": {
      "text/plain": [
       "[-43]"
      ]
     },
     "execution_count": 25,
     "metadata": {},
     "output_type": "execute_result"
    }
   ],
   "source": [
    "l[7:1-2]"
   ]
  },
  {
   "cell_type": "markdown",
   "id": "166268ff",
   "metadata": {},
   "source": [
    "# Example ->6 :"
   ]
  },
  {
   "cell_type": "markdown",
   "id": "2f7e8537",
   "metadata": {},
   "source": [
    "##### L[:: -1] -> will produce list in reverse order "
   ]
  },
  {
   "cell_type": "code",
   "execution_count": 26,
   "id": "3c912be8",
   "metadata": {},
   "outputs": [
    {
     "data": {
      "text/plain": [
       "[32, -43, 78, -23, 8, 10, 7, -4, 2]"
      ]
     },
     "execution_count": 26,
     "metadata": {},
     "output_type": "execute_result"
    }
   ],
   "source": [
    "l[:: -1]"
   ]
  },
  {
   "cell_type": "code",
   "execution_count": 27,
   "id": "4f2c7c1e",
   "metadata": {},
   "outputs": [
    {
     "name": "stdout",
     "output_type": "stream",
     "text": [
      "32 -43 78 -23 8 10 7 -4 2 "
     ]
    }
   ],
   "source": [
    "for i in range (len(l)-1,-1,-1):\n",
    "    print(l[i], end = \" \")"
   ]
  },
  {
   "cell_type": "markdown",
   "id": "db28297c",
   "metadata": {},
   "source": [
    "# Printing  the elements of  a list "
   ]
  },
  {
   "cell_type": "code",
   "execution_count": 28,
   "id": "d979b7dc",
   "metadata": {},
   "outputs": [],
   "source": [
    "my_list = ['apple', 'banana', 'kivi', 'coconut oil' , 'grapes']"
   ]
  },
  {
   "cell_type": "code",
   "execution_count": 29,
   "id": "1c2631ca",
   "metadata": {},
   "outputs": [
    {
     "name": "stdout",
     "output_type": "stream",
     "text": [
      "1   :   apple\n",
      "2   :   banana\n",
      "3   :   kivi\n",
      "4   :   coconut oil\n",
      "5   :   grapes\n"
     ]
    }
   ],
   "source": [
    "# methos -1 using for loop and indexing \n",
    "for i in range (len(my_list)):\n",
    "    print (i+1, \"  :  \", my_list[i])"
   ]
  },
  {
   "cell_type": "code",
   "execution_count": 31,
   "id": "e6f3d74c",
   "metadata": {},
   "outputs": [
    {
     "name": "stdout",
     "output_type": "stream",
     "text": [
      "apple\n",
      "banana\n",
      "kivi\n",
      "coconut oil\n",
      "grapes\n"
     ]
    }
   ],
   "source": [
    "#  methos  2 :  using  for loop  and interator\n",
    "\n",
    "for x in my_list :\n",
    "    \n",
    "    print (x)"
   ]
  },
  {
   "cell_type": "markdown",
   "id": "3272b690",
   "metadata": {},
   "source": [
    "# Printing the element of list  in reverse order "
   ]
  },
  {
   "cell_type": "code",
   "execution_count": 32,
   "id": "0c4b2d4b",
   "metadata": {},
   "outputs": [
    {
     "name": "stdout",
     "output_type": "stream",
     "text": [
      "grapes\n",
      "coconut oil\n",
      "kivi\n",
      "banana\n",
      "apple\n"
     ]
    }
   ],
   "source": [
    "# method -1 :\n",
    "\n",
    "for i in range (len(my_list) -1,-1,-1):\n",
    "    print(my_list[i])"
   ]
  },
  {
   "cell_type": "code",
   "execution_count": 33,
   "id": "71b6d088",
   "metadata": {},
   "outputs": [
    {
     "name": "stdout",
     "output_type": "stream",
     "text": [
      "grapes\n",
      "coconut oil\n",
      "kivi\n",
      "banana\n",
      "apple\n"
     ]
    }
   ],
   "source": [
    "# method -2 :\n",
    "\n",
    "for x in my_list[:: -1]:\n",
    "    print(x)"
   ]
  },
  {
   "cell_type": "markdown",
   "id": "49d363ac",
   "metadata": {},
   "source": [
    "# List of lists "
   ]
  },
  {
   "cell_type": "code",
   "execution_count": 34,
   "id": "908db956",
   "metadata": {},
   "outputs": [],
   "source": [
    "a = [9,10,-12]\n",
    "b = [True, False, 'c', \"sherlock\", -34.56]\n",
    "c = []\n",
    "d = [-3.45]"
   ]
  },
  {
   "cell_type": "code",
   "execution_count": 35,
   "id": "d507e4e3",
   "metadata": {},
   "outputs": [],
   "source": [
    "my_list = [a,b,c,d]"
   ]
  },
  {
   "cell_type": "code",
   "execution_count": 36,
   "id": "09ac35a9",
   "metadata": {},
   "outputs": [
    {
     "data": {
      "text/plain": [
       "[[9, 10, -12], [True, False, 'c', 'sherlock', -34.56], [], [-3.45]]"
      ]
     },
     "execution_count": 36,
     "metadata": {},
     "output_type": "execute_result"
    }
   ],
   "source": [
    "my_list"
   ]
  },
  {
   "cell_type": "code",
   "execution_count": 37,
   "id": "0a8f74c1",
   "metadata": {},
   "outputs": [
    {
     "data": {
      "text/plain": [
       "[9, 10, -12]"
      ]
     },
     "execution_count": 37,
     "metadata": {},
     "output_type": "execute_result"
    }
   ],
   "source": [
    "my_list[0]"
   ]
  },
  {
   "cell_type": "code",
   "execution_count": 38,
   "id": "f0146edc",
   "metadata": {},
   "outputs": [
    {
     "data": {
      "text/plain": [
       "[]"
      ]
     },
     "execution_count": 38,
     "metadata": {},
     "output_type": "execute_result"
    }
   ],
   "source": [
    "my_list[2]"
   ]
  },
  {
   "cell_type": "code",
   "execution_count": 40,
   "id": "bf940cb8",
   "metadata": {},
   "outputs": [
    {
     "data": {
      "text/plain": [
       "'sherlock'"
      ]
     },
     "execution_count": 40,
     "metadata": {},
     "output_type": "execute_result"
    }
   ],
   "source": [
    "my_list[1][3]"
   ]
  },
  {
   "cell_type": "markdown",
   "id": "93809077",
   "metadata": {},
   "source": [
    "# List Methods "
   ]
  },
  {
   "cell_type": "markdown",
   "id": "ecfc3a5a",
   "metadata": {},
   "source": [
    "# append()\n",
    "\n",
    "##### This methood is used to add element in existing list ."
   ]
  },
  {
   "cell_type": "code",
   "execution_count": 41,
   "id": "940e7199",
   "metadata": {},
   "outputs": [],
   "source": [
    "l = [10,20,60,5080,100, 1000,4000]"
   ]
  },
  {
   "cell_type": "code",
   "execution_count": 42,
   "id": "27c32a7f",
   "metadata": {},
   "outputs": [],
   "source": [
    "l.append(500)"
   ]
  },
  {
   "cell_type": "code",
   "execution_count": 44,
   "id": "8c3ef575",
   "metadata": {},
   "outputs": [
    {
     "name": "stdout",
     "output_type": "stream",
     "text": [
      "[10, 20, 60, 5080, 100, 1000, 4000, 500]\n"
     ]
    }
   ],
   "source": [
    "print(l)"
   ]
  },
  {
   "cell_type": "code",
   "execution_count": 46,
   "id": "77727d54",
   "metadata": {},
   "outputs": [
    {
     "name": "stdout",
     "output_type": "stream",
     "text": [
      "[56]\n"
     ]
    }
   ],
   "source": [
    "a = []\n",
    "a.append(56)\n",
    "print(a)"
   ]
  },
  {
   "cell_type": "code",
   "execution_count": 47,
   "id": "2fc62677",
   "metadata": {},
   "outputs": [],
   "source": [
    "l.append(34)"
   ]
  },
  {
   "cell_type": "code",
   "execution_count": 48,
   "id": "69b4a2f3",
   "metadata": {},
   "outputs": [
    {
     "data": {
      "text/plain": [
       "[10, 20, 60, 5080, 100, 1000, 4000, 500, 34]"
      ]
     },
     "execution_count": 48,
     "metadata": {},
     "output_type": "execute_result"
    }
   ],
   "source": [
    "l"
   ]
  },
  {
   "cell_type": "markdown",
   "id": "08a800b7",
   "metadata": {},
   "source": [
    "# extend()\n",
    "\n",
    "##### The  purpose of this meothod to add elment of one list  to another \n",
    "\n",
    "Example = \n",
    "\n",
    "a = [4,6,7]\n",
    "b = [8,9,10]\n",
    "If I do \n",
    "\n",
    "a.extend(b)\n",
    "Then it  will produce [4,5,7,8,9,10]"
   ]
  },
  {
   "cell_type": "code",
   "execution_count": 49,
   "id": "76b86a98",
   "metadata": {},
   "outputs": [
    {
     "name": "stdout",
     "output_type": "stream",
     "text": [
      "[1, 3, 5, 8, 10, 12]\n"
     ]
    }
   ],
   "source": [
    "a = [1,3,5]\n",
    "b= [8,10,12]\n",
    "a.extend(b)\n",
    "\n",
    "print(a)"
   ]
  },
  {
   "cell_type": "code",
   "execution_count": 50,
   "id": "b0036394",
   "metadata": {},
   "outputs": [
    {
     "data": {
      "text/plain": [
       "[8, 10, 12]"
      ]
     },
     "execution_count": 50,
     "metadata": {},
     "output_type": "execute_result"
    }
   ],
   "source": [
    "b"
   ]
  },
  {
   "cell_type": "markdown",
   "id": "f1320bf9",
   "metadata": {},
   "source": [
    "# pop()\n",
    "#### This method is used to remove the last elment form the list "
   ]
  },
  {
   "cell_type": "code",
   "execution_count": 51,
   "id": "0114c516",
   "metadata": {},
   "outputs": [],
   "source": [
    "a = ['rahul', 'atul', 'wakad', 'four']"
   ]
  },
  {
   "cell_type": "code",
   "execution_count": 52,
   "id": "c97c7bdd",
   "metadata": {},
   "outputs": [
    {
     "data": {
      "text/plain": [
       "['rahul', 'atul', 'wakad']"
      ]
     },
     "execution_count": 52,
     "metadata": {},
     "output_type": "execute_result"
    }
   ],
   "source": [
    "a.pop() # return the last elment and will remove that from list \n",
    "\n",
    "a"
   ]
  },
  {
   "cell_type": "code",
   "execution_count": 53,
   "id": "1cb5bca7",
   "metadata": {},
   "outputs": [],
   "source": [
    "b = [\"one\",\"five\", \"six\" , \"apple\",\"sex\"]"
   ]
  },
  {
   "cell_type": "code",
   "execution_count": 54,
   "id": "81211773",
   "metadata": {},
   "outputs": [
    {
     "data": {
      "text/plain": [
       "'six'"
      ]
     },
     "execution_count": 54,
     "metadata": {},
     "output_type": "execute_result"
    }
   ],
   "source": [
    "b.pop(2) # element at index 2 is returned and will be removed from the list "
   ]
  },
  {
   "cell_type": "markdown",
   "id": "abd99140",
   "metadata": {},
   "source": [
    "# Insert()\n",
    "\n",
    "###### The main the purpose of this method add element in the current list "
   ]
  },
  {
   "cell_type": "code",
   "execution_count": 58,
   "id": "9669a61c",
   "metadata": {},
   "outputs": [],
   "source": [
    "x = [4,2,-9,10.5, 24, -3, 8.8]\n",
    "\n",
    "x.insert(5,33.50)"
   ]
  },
  {
   "cell_type": "code",
   "execution_count": 59,
   "id": "60533965",
   "metadata": {},
   "outputs": [
    {
     "data": {
      "text/plain": [
       "[4, 2, -9, 10.5, 24, 33.5, -3, 8.8]"
      ]
     },
     "execution_count": 59,
     "metadata": {},
     "output_type": "execute_result"
    }
   ],
   "source": [
    "x"
   ]
  },
  {
   "cell_type": "code",
   "execution_count": 60,
   "id": "95e7d08a",
   "metadata": {},
   "outputs": [],
   "source": [
    "x.insert(-1, 45)"
   ]
  },
  {
   "cell_type": "code",
   "execution_count": 61,
   "id": "fa1f8dff",
   "metadata": {},
   "outputs": [
    {
     "data": {
      "text/plain": [
       "[4, 2, -9, 10.5, 24, 33.5, -3, 45, 8.8]"
      ]
     },
     "execution_count": 61,
     "metadata": {},
     "output_type": "execute_result"
    }
   ],
   "source": [
    "x"
   ]
  },
  {
   "cell_type": "code",
   "execution_count": 62,
   "id": "78b7f2d0",
   "metadata": {},
   "outputs": [],
   "source": [
    "x.insert(len(x), 8192)"
   ]
  },
  {
   "cell_type": "code",
   "execution_count": 63,
   "id": "d741f5f6",
   "metadata": {},
   "outputs": [
    {
     "data": {
      "text/plain": [
       "[4, 2, -9, 10.5, 24, 33.5, -3, 45, 8.8, 8192]"
      ]
     },
     "execution_count": 63,
     "metadata": {},
     "output_type": "execute_result"
    }
   ],
   "source": [
    "x"
   ]
  },
  {
   "cell_type": "markdown",
   "id": "64a54da9",
   "metadata": {},
   "source": [
    "# Sum all the values of the list "
   ]
  },
  {
   "cell_type": "code",
   "execution_count": 64,
   "id": "8ebd5f3c",
   "metadata": {},
   "outputs": [
    {
     "name": "stdout",
     "output_type": "stream",
     "text": [
      "8307.8\n"
     ]
    }
   ],
   "source": [
    "s = 0 \n",
    "for i in x:\n",
    "    s += i \n",
    "    \n",
    "print(s)"
   ]
  },
  {
   "cell_type": "code",
   "execution_count": 65,
   "id": "340ff984",
   "metadata": {},
   "outputs": [
    {
     "data": {
      "text/plain": [
       "8307.8"
      ]
     },
     "execution_count": 65,
     "metadata": {},
     "output_type": "execute_result"
    }
   ],
   "source": [
    "sum(x) # sum is in built function of python --> whenever you put a list or any iterable it will produce the sum "
   ]
  },
  {
   "cell_type": "markdown",
   "id": "eebfb0f8",
   "metadata": {},
   "source": [
    "# Sort"
   ]
  },
  {
   "cell_type": "markdown",
   "id": "e58e1963",
   "metadata": {},
   "source": [
    "#### The purpose of this method arrangeing the numbers in the list ascending order and descending order. it also order the alphabates in asending order ."
   ]
  },
  {
   "cell_type": "code",
   "execution_count": 66,
   "id": "416a9227",
   "metadata": {},
   "outputs": [],
   "source": [
    "y = [4, -2 , 67, -54, 2 , 27]"
   ]
  },
  {
   "cell_type": "code",
   "execution_count": 67,
   "id": "6a7b00ee",
   "metadata": {},
   "outputs": [],
   "source": [
    "y. sort() # it will arrange the numbers in ascending order "
   ]
  },
  {
   "cell_type": "code",
   "execution_count": 68,
   "id": "cab06020",
   "metadata": {},
   "outputs": [
    {
     "data": {
      "text/plain": [
       "[-54, -2, 2, 4, 27, 67]"
      ]
     },
     "execution_count": 68,
     "metadata": {},
     "output_type": "execute_result"
    }
   ],
   "source": [
    "y"
   ]
  },
  {
   "cell_type": "code",
   "execution_count": 69,
   "id": "c621b40c",
   "metadata": {},
   "outputs": [],
   "source": [
    "z = [4,-3, -1, 23, 90, -34]\n",
    "z.sort(reverse= True) # it will arrange  in descending   order ."
   ]
  },
  {
   "cell_type": "code",
   "execution_count": 70,
   "id": "5c8926bc",
   "metadata": {},
   "outputs": [
    {
     "data": {
      "text/plain": [
       "[90, 23, 4, -1, -3, -34]"
      ]
     },
     "execution_count": 70,
     "metadata": {},
     "output_type": "execute_result"
    }
   ],
   "source": [
    "z"
   ]
  },
  {
   "cell_type": "code",
   "execution_count": 71,
   "id": "ba81006b",
   "metadata": {},
   "outputs": [],
   "source": [
    "b = [\"mango\", \"banana\", \"palm\", \"apple\", \"orange\"]"
   ]
  },
  {
   "cell_type": "code",
   "execution_count": 72,
   "id": "712bd15d",
   "metadata": {},
   "outputs": [],
   "source": [
    "b.sort() # it  will be ordered alphabatically ."
   ]
  },
  {
   "cell_type": "code",
   "execution_count": 73,
   "id": "8a3528d8",
   "metadata": {},
   "outputs": [
    {
     "data": {
      "text/plain": [
       "['apple', 'banana', 'mango', 'orange', 'palm']"
      ]
     },
     "execution_count": 73,
     "metadata": {},
     "output_type": "execute_result"
    }
   ],
   "source": [
    "b"
   ]
  },
  {
   "cell_type": "code",
   "execution_count": 74,
   "id": "2c647ddf",
   "metadata": {},
   "outputs": [
    {
     "ename": "IndentationError",
     "evalue": "unexpected indent (<ipython-input-74-c0c9bd1bfa06>, line 2)",
     "output_type": "error",
     "traceback": [
      "\u001b[1;36m  File \u001b[1;32m\"<ipython-input-74-c0c9bd1bfa06>\"\u001b[1;36m, line \u001b[1;32m2\u001b[0m\n\u001b[1;33m    c.sort()\u001b[0m\n\u001b[1;37m    ^\u001b[0m\n\u001b[1;31mIndentationError\u001b[0m\u001b[1;31m:\u001b[0m unexpected indent\n"
     ]
    }
   ],
   "source": [
    "c = [True, False , 'c', \"sherlock\", -34.56]\n",
    " c.sort()"
   ]
  },
  {
   "cell_type": "markdown",
   "id": "5d16812e",
   "metadata": {},
   "source": [
    "# HW Write your own code to sort a  numeric list (without using the sort method)"
   ]
  },
  {
   "cell_type": "code",
   "execution_count": 76,
   "id": "37493261",
   "metadata": {},
   "outputs": [
    {
     "name": "stdout",
     "output_type": "stream",
     "text": [
      "[-2, -1, 0, 1, 2, 3, 4]\n"
     ]
    }
   ],
   "source": [
    "my_list = [4, 2, 3, -1, -2, 0, 1]\n",
    "\n",
    "for i in range(len(my_list)):\n",
    "    for j in range(i + 1, len(my_list)):\n",
    "\n",
    "        if my_list[i] > my_list[j]:\n",
    "            my_list[i], my_list[j] = my_list[j], my_list[i]\n",
    "\n",
    "print(my_list)"
   ]
  },
  {
   "cell_type": "code",
   "execution_count": 78,
   "id": "11065f91",
   "metadata": {},
   "outputs": [
    {
     "name": "stdout",
     "output_type": "stream",
     "text": [
      "Please enter the Total Number of List Elements: 5\n",
      "Please enter the Value of 1 Element : 1\n",
      "Please enter the Value of 2 Element : 2\n",
      "Please enter the Value of 3 Element : 3\n",
      "Please enter the Value of 4 Element : 4\n",
      "Please enter the Value of 5 Element : 5\n",
      "Element After Sorting List in Ascending Order is :  [1, 2, 3, 4, 5]\n"
     ]
    }
   ],
   "source": [
    "NumList = []\n",
    "\n",
    "Number = int(input(\"Please enter the Total Number of List Elements: \"))\n",
    "for i in range(1, Number + 1):\n",
    "    value = int(input(\"Please enter the Value of %d Element : \" %i))\n",
    "    NumList.append(value)\n",
    "\n",
    "for i in range (Number):\n",
    "    for j in range(i + 1, Number):\n",
    "        if(NumList[i] > NumList[j]):\n",
    "            temp = NumList[i]\n",
    "            NumList[i] = NumList[j]\n",
    "            NumList[j] = temp\n",
    "\n",
    "print(\"Element After Sorting List in Ascending Order is : \", NumList)"
   ]
  },
  {
   "cell_type": "markdown",
   "id": "52329b52",
   "metadata": {},
   "source": [
    "# List operations"
   ]
  },
  {
   "cell_type": "code",
   "execution_count": 79,
   "id": "d16274d9",
   "metadata": {},
   "outputs": [
    {
     "data": {
      "text/plain": [
       "['mango', 'banana', 'apple', 'orange']"
      ]
     },
     "execution_count": 79,
     "metadata": {},
     "output_type": "execute_result"
    }
   ],
   "source": [
    "a = [\"mango\", \"banana\"]\n",
    "b = [\"apple\" , \"orange\"]\n",
    "a+b"
   ]
  },
  {
   "cell_type": "code",
   "execution_count": 80,
   "id": "f09c607a",
   "metadata": {},
   "outputs": [
    {
     "data": {
      "text/plain": [
       "['mango', 'banana', 2]"
      ]
     },
     "execution_count": 80,
     "metadata": {},
     "output_type": "execute_result"
    }
   ],
   "source": [
    "a+[2]"
   ]
  },
  {
   "cell_type": "code",
   "execution_count": 81,
   "id": "ae673eac",
   "metadata": {},
   "outputs": [
    {
     "data": {
      "text/plain": [
       "['mango', 'banana', 'mango', 'banana', 'mango', 'banana']"
      ]
     },
     "execution_count": 81,
     "metadata": {},
     "output_type": "execute_result"
    }
   ],
   "source": [
    "3*a  # a+a+a"
   ]
  },
  {
   "cell_type": "code",
   "execution_count": 82,
   "id": "02bb4e32",
   "metadata": {},
   "outputs": [],
   "source": [
    "Z= [None] # it is not an empty list "
   ]
  },
  {
   "cell_type": "code",
   "execution_count": 83,
   "id": "1e875b74",
   "metadata": {},
   "outputs": [
    {
     "data": {
      "text/plain": [
       "[None, None, None, None, None, None, None, None, None, None]"
      ]
     },
     "execution_count": 83,
     "metadata": {},
     "output_type": "execute_result"
    }
   ],
   "source": [
    "10*Z"
   ]
  },
  {
   "cell_type": "code",
   "execution_count": 85,
   "id": "95df5da0",
   "metadata": {},
   "outputs": [
    {
     "data": {
      "text/plain": [
       "[23, 56, 23, 56, 23, 56, 23, 56]"
      ]
     },
     "execution_count": 85,
     "metadata": {},
     "output_type": "execute_result"
    }
   ],
   "source": [
    "x = [23,56]\n",
    "x * 4"
   ]
  },
  {
   "cell_type": "markdown",
   "id": "fe542ec5",
   "metadata": {},
   "source": [
    "# More about list"
   ]
  },
  {
   "cell_type": "code",
   "execution_count": 86,
   "id": "9f459820",
   "metadata": {},
   "outputs": [
    {
     "data": {
      "text/plain": [
       "2"
      ]
     },
     "execution_count": 86,
     "metadata": {},
     "output_type": "execute_result"
    }
   ],
   "source": [
    "l = [3,-1,4,3,9,10,9,9,4]\n",
    "l.index(4)"
   ]
  },
  {
   "cell_type": "code",
   "execution_count": 88,
   "id": "8cea773f",
   "metadata": {},
   "outputs": [
    {
     "data": {
      "text/plain": [
       "3"
      ]
     },
     "execution_count": 88,
     "metadata": {},
     "output_type": "execute_result"
    }
   ],
   "source": [
    "l.count(9)"
   ]
  },
  {
   "cell_type": "markdown",
   "id": "74539da9",
   "metadata": {},
   "source": [
    "# Wap to print elements and their  counts in the list\n",
    "\n",
    "input: ```l = [3, -1, 4, 3, 9, 10, 9, 9, 4]```\n",
    "\n",
    "output: \n",
    "\n",
    "```\n",
    "3 : 2\n",
    "-1 : 1\n",
    "4: 2\n",
    "9: 3\n",
    "10: 1\n"
   ]
  },
  {
   "cell_type": "code",
   "execution_count": 89,
   "id": "9258db15",
   "metadata": {},
   "outputs": [
    {
     "data": {
      "text/plain": [
       "[0, 1, 2, 3, 4, 5, 6, 7, 8, 9]"
      ]
     },
     "execution_count": 89,
     "metadata": {},
     "output_type": "execute_result"
    }
   ],
   "source": [
    "list(range(0,10))"
   ]
  },
  {
   "cell_type": "markdown",
   "id": "791d934a",
   "metadata": {},
   "source": [
    "# Tuple \n",
    "\n",
    "Tuple is another data structure in python to list there are some differences between list and  tuple \n",
    "\n",
    "\n",
    "\n",
    "List are mutable  but tuple is not mutable\n"
   ]
  },
  {
   "cell_type": "code",
   "execution_count": 90,
   "id": "b2e81150",
   "metadata": {},
   "outputs": [
    {
     "data": {
      "text/plain": [
       "tuple"
      ]
     },
     "execution_count": 90,
     "metadata": {},
     "output_type": "execute_result"
    }
   ],
   "source": [
    "a = 2,3,4\n",
    "type(a)"
   ]
  },
  {
   "cell_type": "code",
   "execution_count": 91,
   "id": "1e2cd440",
   "metadata": {},
   "outputs": [
    {
     "data": {
      "text/plain": [
       "2"
      ]
     },
     "execution_count": 91,
     "metadata": {},
     "output_type": "execute_result"
    }
   ],
   "source": [
    "a[0]"
   ]
  },
  {
   "cell_type": "code",
   "execution_count": 92,
   "id": "0928314b",
   "metadata": {},
   "outputs": [
    {
     "data": {
      "text/plain": [
       "3"
      ]
     },
     "execution_count": 92,
     "metadata": {},
     "output_type": "execute_result"
    }
   ],
   "source": [
    "a[1]"
   ]
  },
  {
   "cell_type": "code",
   "execution_count": 93,
   "id": "e67679da",
   "metadata": {},
   "outputs": [
    {
     "data": {
      "text/plain": [
       "4"
      ]
     },
     "execution_count": 93,
     "metadata": {},
     "output_type": "execute_result"
    }
   ],
   "source": [
    "a[2]"
   ]
  },
  {
   "cell_type": "code",
   "execution_count": 94,
   "id": "59988434",
   "metadata": {},
   "outputs": [
    {
     "data": {
      "text/plain": [
       "(2,)"
      ]
     },
     "execution_count": 94,
     "metadata": {},
     "output_type": "execute_result"
    }
   ],
   "source": [
    "a[:1]"
   ]
  },
  {
   "cell_type": "code",
   "execution_count": 96,
   "id": "668e8e26",
   "metadata": {},
   "outputs": [],
   "source": [
    "a = (2,1,5,6 ,2,7)"
   ]
  },
  {
   "cell_type": "code",
   "execution_count": 97,
   "id": "9bbdea93",
   "metadata": {},
   "outputs": [
    {
     "data": {
      "text/plain": [
       "(5, 6, 2, 7)"
      ]
     },
     "execution_count": 97,
     "metadata": {},
     "output_type": "execute_result"
    }
   ],
   "source": [
    "a[2:]"
   ]
  },
  {
   "cell_type": "code",
   "execution_count": 98,
   "id": "87235a25",
   "metadata": {},
   "outputs": [
    {
     "data": {
      "text/plain": [
       "(2, 1, 5, 6, 2)"
      ]
     },
     "execution_count": 98,
     "metadata": {},
     "output_type": "execute_result"
    }
   ],
   "source": [
    "a[:5]"
   ]
  },
  {
   "cell_type": "code",
   "execution_count": 99,
   "id": "d39d27d4",
   "metadata": {},
   "outputs": [
    {
     "data": {
      "text/plain": [
       "(2, 1, 5, 6, 2)"
      ]
     },
     "execution_count": 99,
     "metadata": {},
     "output_type": "execute_result"
    }
   ],
   "source": [
    "a[:5]"
   ]
  },
  {
   "cell_type": "code",
   "execution_count": 100,
   "id": "1b714f17",
   "metadata": {},
   "outputs": [],
   "source": [
    "my_list = ['a', 34, -42.6, True]\n",
    "\n",
    "my_tuple = ('a', 34 , 42.6, True)"
   ]
  },
  {
   "cell_type": "code",
   "execution_count": 101,
   "id": "a00211ce",
   "metadata": {},
   "outputs": [],
   "source": [
    "my_list[0] = 'b'"
   ]
  },
  {
   "cell_type": "code",
   "execution_count": 102,
   "id": "8f61c5d9",
   "metadata": {},
   "outputs": [
    {
     "data": {
      "text/plain": [
       "['b', 34, -42.6, True]"
      ]
     },
     "execution_count": 102,
     "metadata": {},
     "output_type": "execute_result"
    }
   ],
   "source": [
    "my_list"
   ]
  },
  {
   "cell_type": "code",
   "execution_count": 103,
   "id": "f41f6511",
   "metadata": {},
   "outputs": [
    {
     "ename": "TypeError",
     "evalue": "'tuple' object does not support item assignment",
     "output_type": "error",
     "traceback": [
      "\u001b[1;31m---------------------------------------------------------------------------\u001b[0m",
      "\u001b[1;31mTypeError\u001b[0m                                 Traceback (most recent call last)",
      "\u001b[1;32m<ipython-input-103-f792d047bcee>\u001b[0m in \u001b[0;36m<module>\u001b[1;34m\u001b[0m\n\u001b[1;32m----> 1\u001b[1;33m \u001b[0mmy_tuple\u001b[0m\u001b[1;33m[\u001b[0m\u001b[1;36m0\u001b[0m\u001b[1;33m]\u001b[0m \u001b[1;33m=\u001b[0m \u001b[1;34m'b'\u001b[0m\u001b[1;33m\u001b[0m\u001b[1;33m\u001b[0m\u001b[0m\n\u001b[0m",
      "\u001b[1;31mTypeError\u001b[0m: 'tuple' object does not support item assignment"
     ]
    }
   ],
   "source": [
    "my_tuple[0] = 'b'"
   ]
  },
  {
   "cell_type": "markdown",
   "id": "e5b75143",
   "metadata": {},
   "source": [
    "# Set "
   ]
  },
  {
   "cell_type": "markdown",
   "id": "d8f06d4e",
   "metadata": {},
   "source": [
    "### set is data structure which contain unique ordered  values. \n",
    "\n",
    "\n",
    "#### set are not indexable or sliceable."
   ]
  },
  {
   "cell_type": "code",
   "execution_count": 1,
   "id": "60d6b0f3",
   "metadata": {},
   "outputs": [],
   "source": [
    "my_list = [3,-2, 4, 5,2,4,-2, 4]"
   ]
  },
  {
   "cell_type": "code",
   "execution_count": 2,
   "id": "bc2468d4",
   "metadata": {},
   "outputs": [
    {
     "data": {
      "text/plain": [
       "{-2, 2, 3, 4, 5}"
      ]
     },
     "execution_count": 2,
     "metadata": {},
     "output_type": "execute_result"
    }
   ],
   "source": [
    "set(my_list)"
   ]
  },
  {
   "cell_type": "code",
   "execution_count": 3,
   "id": "eacf48fc",
   "metadata": {},
   "outputs": [],
   "source": [
    "A = {3,6,9,12,15,18,21,24,27,30} # all the values betwwen 1 to 30 which are divisble by 3\n",
    "B = {5,10,15,20,25,30} # al lthe values between 1 to 30 which are divisible  by 5"
   ]
  },
  {
   "cell_type": "markdown",
   "id": "d2adff2e",
   "metadata": {},
   "source": [
    "# Set.Methods"
   ]
  },
  {
   "cell_type": "code",
   "execution_count": 5,
   "id": "e8bc6975",
   "metadata": {},
   "outputs": [
    {
     "data": {
      "text/plain": [
       "{15, 30}"
      ]
     },
     "execution_count": 5,
     "metadata": {},
     "output_type": "execute_result"
    }
   ],
   "source": [
    "A.intersection(B)"
   ]
  },
  {
   "cell_type": "code",
   "execution_count": 6,
   "id": "0aab7e31",
   "metadata": {},
   "outputs": [
    {
     "data": {
      "text/plain": [
       "{3, 5, 6, 9, 10, 12, 15, 18, 20, 21, 24, 25, 27, 30}"
      ]
     },
     "execution_count": 6,
     "metadata": {},
     "output_type": "execute_result"
    }
   ],
   "source": [
    "A.union(B)"
   ]
  },
  {
   "cell_type": "code",
   "execution_count": 7,
   "id": "0604fed5",
   "metadata": {},
   "outputs": [
    {
     "data": {
      "text/plain": [
       "{3, 6, 9, 12, 18, 21, 24, 27}"
      ]
     },
     "execution_count": 7,
     "metadata": {},
     "output_type": "execute_result"
    }
   ],
   "source": [
    "A.difference(B)"
   ]
  },
  {
   "cell_type": "code",
   "execution_count": 8,
   "id": "8fb1c9a4",
   "metadata": {},
   "outputs": [
    {
     "data": {
      "text/plain": [
       "{5, 10, 20, 25}"
      ]
     },
     "execution_count": 8,
     "metadata": {},
     "output_type": "execute_result"
    }
   ],
   "source": [
    "B.difference(A)"
   ]
  },
  {
   "cell_type": "code",
   "execution_count": 9,
   "id": "b5ca7256",
   "metadata": {},
   "outputs": [
    {
     "data": {
      "text/plain": [
       "{3, 5, 6, 9, 10, 12, 18, 20, 21, 24, 25, 27}"
      ]
     },
     "execution_count": 9,
     "metadata": {},
     "output_type": "execute_result"
    }
   ],
   "source": [
    "A.symmetric_difference(B)"
   ]
  },
  {
   "cell_type": "code",
   "execution_count": 10,
   "id": "7fdca044",
   "metadata": {},
   "outputs": [],
   "source": [
    "C = {\"apple\",\"banana\",\"orange\"}\n",
    "D = {\"apple\", \"banan\", \"orange\",\"guava\", \"pineapple\", \"cocunt\"}"
   ]
  },
  {
   "cell_type": "code",
   "execution_count": 20,
   "id": "f9b54f13",
   "metadata": {},
   "outputs": [
    {
     "data": {
      "text/plain": [
       "False"
      ]
     },
     "execution_count": 20,
     "metadata": {},
     "output_type": "execute_result"
    }
   ],
   "source": [
    "\n",
    "D.issubset(C)\n"
   ]
  },
  {
   "cell_type": "code",
   "execution_count": 24,
   "id": "c779c900",
   "metadata": {},
   "outputs": [
    {
     "data": {
      "text/plain": [
       "False"
      ]
     },
     "execution_count": 24,
     "metadata": {},
     "output_type": "execute_result"
    }
   ],
   "source": [
    "C.issubset(D)  ## returns whether this set contains another set or not "
   ]
  },
  {
   "cell_type": "code",
   "execution_count": 23,
   "id": "869860ee",
   "metadata": {},
   "outputs": [
    {
     "data": {
      "text/plain": [
       "False"
      ]
     },
     "execution_count": 23,
     "metadata": {},
     "output_type": "execute_result"
    }
   ],
   "source": [
    "D.issuperset(C) ## returns whether this set contains another set or not "
   ]
  },
  {
   "cell_type": "code",
   "execution_count": 15,
   "id": "9a58e678",
   "metadata": {},
   "outputs": [
    {
     "data": {
      "text/plain": [
       "True"
      ]
     },
     "execution_count": 15,
     "metadata": {},
     "output_type": "execute_result"
    }
   ],
   "source": [
    "C.issubset(C)"
   ]
  },
  {
   "cell_type": "code",
   "execution_count": 16,
   "id": "23070696",
   "metadata": {},
   "outputs": [
    {
     "data": {
      "text/plain": [
       "True"
      ]
     },
     "execution_count": 16,
     "metadata": {},
     "output_type": "execute_result"
    }
   ],
   "source": [
    "C.isdisjoint(B)"
   ]
  },
  {
   "cell_type": "code",
   "execution_count": 22,
   "id": "540694c7",
   "metadata": {},
   "outputs": [
    {
     "data": {
      "text/plain": [
       "True"
      ]
     },
     "execution_count": 22,
     "metadata": {},
     "output_type": "execute_result"
    }
   ],
   "source": [
    "C.issubset(C) # returns whether another set contains this set or not"
   ]
  },
  {
   "cell_type": "code",
   "execution_count": 21,
   "id": "4978090b",
   "metadata": {},
   "outputs": [
    {
     "data": {
      "text/plain": [
       "True"
      ]
     },
     "execution_count": 21,
     "metadata": {},
     "output_type": "execute_result"
    }
   ],
   "source": [
    "C.isdisjoint(B) # Returns whether two sets hava a intersction or not "
   ]
  },
  {
   "cell_type": "code",
   "execution_count": 25,
   "id": "46ca6d06",
   "metadata": {},
   "outputs": [
    {
     "data": {
      "text/plain": [
       "True"
      ]
     },
     "execution_count": 25,
     "metadata": {},
     "output_type": "execute_result"
    }
   ],
   "source": [
    "C.isdisjoint(B)"
   ]
  },
  {
   "cell_type": "code",
   "execution_count": 26,
   "id": "c84ab411",
   "metadata": {},
   "outputs": [
    {
     "data": {
      "text/plain": [
       "False"
      ]
     },
     "execution_count": 26,
     "metadata": {},
     "output_type": "execute_result"
    }
   ],
   "source": [
    "C.isdisjoint(D)"
   ]
  },
  {
   "cell_type": "code",
   "execution_count": 27,
   "id": "c9da2e95",
   "metadata": {},
   "outputs": [
    {
     "data": {
      "text/plain": [
       "False"
      ]
     },
     "execution_count": 27,
     "metadata": {},
     "output_type": "execute_result"
    }
   ],
   "source": [
    "A.isdisjoint(B)"
   ]
  },
  {
   "cell_type": "code",
   "execution_count": 28,
   "id": "6df3b2a6",
   "metadata": {},
   "outputs": [
    {
     "data": {
      "text/plain": [
       "set()"
      ]
     },
     "execution_count": 28,
     "metadata": {},
     "output_type": "execute_result"
    }
   ],
   "source": [
    "A.intersection(C)"
   ]
  },
  {
   "cell_type": "code",
   "execution_count": 31,
   "id": "6a0c7ae1",
   "metadata": {},
   "outputs": [
    {
     "data": {
      "text/plain": [
       "set()"
      ]
     },
     "execution_count": 31,
     "metadata": {},
     "output_type": "execute_result"
    }
   ],
   "source": [
    "A.intersection(C)"
   ]
  },
  {
   "cell_type": "markdown",
   "id": "abb6e1d0",
   "metadata": {},
   "source": [
    "```\n",
    "[] -> Empty list\n",
    "\n",
    "() -> Empty tuple\n",
    "\n",
    "set() -> Empty set\n",
    "\n",
    "{} -> Empty dictionary\n",
    "```"
   ]
  },
  {
   "cell_type": "markdown",
   "id": "c6d7d990",
   "metadata": {},
   "source": [
    "# Dictionary"
   ]
  },
  {
   "cell_type": "markdown",
   "id": "1ebbc201",
   "metadata": {},
   "source": [
    "##### IT  contains  key ,value  pairs "
   ]
  },
  {
   "cell_type": "code",
   "execution_count": 32,
   "id": "df9cb0ee",
   "metadata": {},
   "outputs": [],
   "source": [
    "fruits = {'apple' : 80 , 'banana': 200 , 'mango' : 100 , 'pineapple' : 30 }"
   ]
  },
  {
   "cell_type": "code",
   "execution_count": 33,
   "id": "f37548ea",
   "metadata": {},
   "outputs": [
    {
     "data": {
      "text/plain": [
       "dict"
      ]
     },
     "execution_count": 33,
     "metadata": {},
     "output_type": "execute_result"
    }
   ],
   "source": [
    "type(fruits)"
   ]
  },
  {
   "cell_type": "code",
   "execution_count": 35,
   "id": "cc075d97",
   "metadata": {},
   "outputs": [
    {
     "data": {
      "text/plain": [
       "80"
      ]
     },
     "execution_count": 35,
     "metadata": {},
     "output_type": "execute_result"
    }
   ],
   "source": [
    "fruits['apple']"
   ]
  },
  {
   "cell_type": "code",
   "execution_count": 36,
   "id": "ca034d91",
   "metadata": {},
   "outputs": [],
   "source": [
    "fruits['apple'] = 75"
   ]
  },
  {
   "cell_type": "code",
   "execution_count": 37,
   "id": "3a8feedf",
   "metadata": {},
   "outputs": [
    {
     "data": {
      "text/plain": [
       "{'apple': 75, 'banana': 200, 'mango': 100, 'pineapple': 30}"
      ]
     },
     "execution_count": 37,
     "metadata": {},
     "output_type": "execute_result"
    }
   ],
   "source": [
    "fruits "
   ]
  },
  {
   "cell_type": "code",
   "execution_count": 38,
   "id": "c406fea6",
   "metadata": {},
   "outputs": [],
   "source": [
    "d = {1 :'apple'  , 2 :'banana' , 3: 'mango' , 4 :'pineapple' }"
   ]
  },
  {
   "cell_type": "code",
   "execution_count": 39,
   "id": "d509ca45",
   "metadata": {},
   "outputs": [
    {
     "data": {
      "text/plain": [
       "'apple'"
      ]
     },
     "execution_count": 39,
     "metadata": {},
     "output_type": "execute_result"
    }
   ],
   "source": [
    "d[1]"
   ]
  },
  {
   "cell_type": "code",
   "execution_count": 40,
   "id": "ac48bbcc",
   "metadata": {},
   "outputs": [
    {
     "data": {
      "text/plain": [
       "'mango'"
      ]
     },
     "execution_count": 40,
     "metadata": {},
     "output_type": "execute_result"
    }
   ],
   "source": [
    "d[3]"
   ]
  },
  {
   "cell_type": "code",
   "execution_count": 41,
   "id": "e4663d1b",
   "metadata": {},
   "outputs": [
    {
     "ename": "KeyError",
     "evalue": "8",
     "output_type": "error",
     "traceback": [
      "\u001b[1;31m---------------------------------------------------------------------------\u001b[0m",
      "\u001b[1;31mKeyError\u001b[0m                                  Traceback (most recent call last)",
      "\u001b[1;32m<ipython-input-41-4ef738dbabd0>\u001b[0m in \u001b[0;36m<module>\u001b[1;34m\u001b[0m\n\u001b[1;32m----> 1\u001b[1;33m \u001b[0md\u001b[0m\u001b[1;33m[\u001b[0m\u001b[1;36m8\u001b[0m\u001b[1;33m]\u001b[0m\u001b[1;33m\u001b[0m\u001b[1;33m\u001b[0m\u001b[0m\n\u001b[0m",
      "\u001b[1;31mKeyError\u001b[0m: 8"
     ]
    }
   ],
   "source": [
    "d[8]"
   ]
  },
  {
   "cell_type": "code",
   "execution_count": 42,
   "id": "0cdda9be",
   "metadata": {},
   "outputs": [],
   "source": [
    "s = {1: 35, 3.5: 'sachin', 'Sourav' : 'Data', 20 :'Kumble'}"
   ]
  },
  {
   "cell_type": "code",
   "execution_count": 44,
   "id": "e69f28d4",
   "metadata": {},
   "outputs": [
    {
     "data": {
      "text/plain": [
       "35"
      ]
     },
     "execution_count": 44,
     "metadata": {},
     "output_type": "execute_result"
    }
   ],
   "source": [
    "s[1]"
   ]
  },
  {
   "cell_type": "code",
   "execution_count": 45,
   "id": "6b7348d4",
   "metadata": {},
   "outputs": [
    {
     "data": {
      "text/plain": [
       "'Kumble'"
      ]
     },
     "execution_count": 45,
     "metadata": {},
     "output_type": "execute_result"
    }
   ],
   "source": [
    "s[20]"
   ]
  },
  {
   "cell_type": "code",
   "execution_count": 46,
   "id": "d1d49271",
   "metadata": {},
   "outputs": [
    {
     "data": {
      "text/plain": [
       "'sachin'"
      ]
     },
     "execution_count": 46,
     "metadata": {},
     "output_type": "execute_result"
    }
   ],
   "source": [
    "s[3.5]"
   ]
  },
  {
   "cell_type": "code",
   "execution_count": 47,
   "id": "c31381f9",
   "metadata": {},
   "outputs": [
    {
     "name": "stdout",
     "output_type": "stream",
     "text": [
      "{1: 35, 3.5: 'sachin', 'Sourav': 'Data', 20: 'Kumble'}\n"
     ]
    }
   ],
   "source": [
    "print(s)"
   ]
  },
  {
   "cell_type": "markdown",
   "id": "13e3473e",
   "metadata": {},
   "source": [
    "### How to create dictionary "
   ]
  },
  {
   "cell_type": "code",
   "execution_count": 49,
   "id": "03f0d3b0",
   "metadata": {},
   "outputs": [],
   "source": [
    "list_of_fruits = ['apple', 'mango', 'banana', 'pipeapple', 'orange']\n",
    "\n",
    "price_per_kilo = [180, 120, 40, 80, 75]"
   ]
  },
  {
   "cell_type": "code",
   "execution_count": 51,
   "id": "f1d181dc",
   "metadata": {
    "scrolled": true
   },
   "outputs": [
    {
     "name": "stdout",
     "output_type": "stream",
     "text": [
      "('apple', 180)\n",
      "('mango', 120)\n",
      "('banana', 40)\n",
      "('pipeapple', 80)\n",
      "('orange', 75)\n"
     ]
    }
   ],
   "source": [
    "for x in zip(list_of_fruits, price_per_kilo):\n",
    "    print(x)"
   ]
  },
  {
   "cell_type": "code",
   "execution_count": 54,
   "id": "a55138fa",
   "metadata": {},
   "outputs": [],
   "source": [
    "fruit_price = dict(zip(list_of_fruits, price_per_kilo))"
   ]
  },
  {
   "cell_type": "code",
   "execution_count": 55,
   "id": "0bd4bd95",
   "metadata": {},
   "outputs": [
    {
     "data": {
      "text/plain": [
       "{'apple': 180, 'mango': 120, 'banana': 40, 'pipeapple': 80, 'orange': 75}"
      ]
     },
     "execution_count": 55,
     "metadata": {},
     "output_type": "execute_result"
    }
   ],
   "source": [
    "fruit_price"
   ]
  },
  {
   "cell_type": "code",
   "execution_count": 57,
   "id": "b5bd9d13",
   "metadata": {},
   "outputs": [],
   "source": [
    "city_pincode = [('Delhi', [100000, 500000]), ('Mumbai', 200000), ('Chennai', 400000), ('Kolkata',700000)]"
   ]
  },
  {
   "cell_type": "code",
   "execution_count": 58,
   "id": "27b8d391",
   "metadata": {},
   "outputs": [],
   "source": [
    "pincode = dict(city_pincode)"
   ]
  },
  {
   "cell_type": "code",
   "execution_count": 59,
   "id": "d701de39",
   "metadata": {},
   "outputs": [
    {
     "data": {
      "text/plain": [
       "{'Delhi': [100000, 500000],\n",
       " 'Mumbai': 200000,\n",
       " 'Chennai': 400000,\n",
       " 'Kolkata': 700000}"
      ]
     },
     "execution_count": 59,
     "metadata": {},
     "output_type": "execute_result"
    }
   ],
   "source": [
    "pincode"
   ]
  },
  {
   "cell_type": "code",
   "execution_count": 60,
   "id": "917c5653",
   "metadata": {},
   "outputs": [],
   "source": [
    "market_1 = {'apple':180 , 'mango' :120 , 'banana' : 40}\n",
    "\n",
    "market_2 = {'mange':150, 'banana' : 45 , 'pipeapple' :75}\n",
    "\n",
    "market_3 = {'pipeapple' :80 , 'apple':160, 'manga' : 130 }"
   ]
  },
  {
   "cell_type": "code",
   "execution_count": 62,
   "id": "63d4f16f",
   "metadata": {},
   "outputs": [],
   "source": [
    "market_price = {'market_1' : market_1 , 'market_2' : market_2 , 'market-3' : market_3}"
   ]
  },
  {
   "cell_type": "code",
   "execution_count": 63,
   "id": "926d69b5",
   "metadata": {},
   "outputs": [
    {
     "data": {
      "text/plain": [
       "{'market_1': {'apple': 180, 'mango': 120, 'banana': 40},\n",
       " 'market_2': {'mange': 150, 'banana': 45, 'pipeapple': 75},\n",
       " 'market-3': {'pipeapple': 80, 'apple': 160, 'manga': 130}}"
      ]
     },
     "execution_count": 63,
     "metadata": {},
     "output_type": "execute_result"
    }
   ],
   "source": [
    "market_price"
   ]
  },
  {
   "cell_type": "markdown",
   "id": "2bcb7061",
   "metadata": {},
   "source": [
    "# Dictionay Methods "
   ]
  },
  {
   "cell_type": "code",
   "execution_count": 64,
   "id": "8b1b575d",
   "metadata": {},
   "outputs": [],
   "source": [
    "s.clear()"
   ]
  },
  {
   "cell_type": "code",
   "execution_count": 65,
   "id": "e26e6bf2",
   "metadata": {},
   "outputs": [
    {
     "data": {
      "text/plain": [
       "{}"
      ]
     },
     "execution_count": 65,
     "metadata": {},
     "output_type": "execute_result"
    }
   ],
   "source": [
    "s"
   ]
  },
  {
   "cell_type": "code",
   "execution_count": 66,
   "id": "98002e8e",
   "metadata": {},
   "outputs": [
    {
     "data": {
      "text/plain": [
       "{'apple': 75, 'banana': 200, 'mango': 100, 'pineapple': 30}"
      ]
     },
     "execution_count": 66,
     "metadata": {},
     "output_type": "execute_result"
    }
   ],
   "source": [
    "fruits"
   ]
  },
  {
   "cell_type": "code",
   "execution_count": 67,
   "id": "729f507a",
   "metadata": {},
   "outputs": [
    {
     "data": {
      "text/plain": [
       "75"
      ]
     },
     "execution_count": 67,
     "metadata": {},
     "output_type": "execute_result"
    }
   ],
   "source": [
    "fruits['apple']"
   ]
  },
  {
   "cell_type": "code",
   "execution_count": 68,
   "id": "e2c3411e",
   "metadata": {},
   "outputs": [
    {
     "data": {
      "text/plain": [
       "200"
      ]
     },
     "execution_count": 68,
     "metadata": {},
     "output_type": "execute_result"
    }
   ],
   "source": [
    "fruits.get('banana')"
   ]
  },
  {
   "cell_type": "code",
   "execution_count": 70,
   "id": "9519c439",
   "metadata": {},
   "outputs": [
    {
     "data": {
      "text/plain": [
       "dict_keys(['apple', 'banana', 'mango', 'pineapple'])"
      ]
     },
     "execution_count": 70,
     "metadata": {},
     "output_type": "execute_result"
    }
   ],
   "source": [
    "fruits.keys()"
   ]
  },
  {
   "cell_type": "code",
   "execution_count": 71,
   "id": "bb90e21c",
   "metadata": {},
   "outputs": [
    {
     "data": {
      "text/plain": [
       "dict_items([('apple', 75), ('banana', 200), ('mango', 100), ('pineapple', 30)])"
      ]
     },
     "execution_count": 71,
     "metadata": {},
     "output_type": "execute_result"
    }
   ],
   "source": [
    "fruits.items()"
   ]
  },
  {
   "cell_type": "code",
   "execution_count": 72,
   "id": "63d4e3a3",
   "metadata": {},
   "outputs": [
    {
     "name": "stdout",
     "output_type": "stream",
     "text": [
      " price of apple is Rs.75/kg\n",
      " price of banana is Rs.200/kg\n",
      " price of mango is Rs.100/kg\n",
      " price of pineapple is Rs.30/kg\n"
     ]
    }
   ],
   "source": [
    "for a,b in fruits.items():\n",
    "    print(f\" price of {a} is Rs.{b}/kg\")"
   ]
  },
  {
   "cell_type": "code",
   "execution_count": 73,
   "id": "65de4b67",
   "metadata": {},
   "outputs": [
    {
     "data": {
      "text/plain": [
       "{'apple': 75, 'banana': 200, 'mango': 100, 'pineapple': 30}"
      ]
     },
     "execution_count": 73,
     "metadata": {},
     "output_type": "execute_result"
    }
   ],
   "source": [
    "fruits"
   ]
  },
  {
   "cell_type": "code",
   "execution_count": 74,
   "id": "fb0c32ae",
   "metadata": {},
   "outputs": [
    {
     "data": {
      "text/plain": [
       "True"
      ]
     },
     "execution_count": 74,
     "metadata": {},
     "output_type": "execute_result"
    }
   ],
   "source": [
    "'apple' in fruits "
   ]
  },
  {
   "cell_type": "code",
   "execution_count": 75,
   "id": "a8e0f421",
   "metadata": {},
   "outputs": [
    {
     "data": {
      "text/plain": [
       "False"
      ]
     },
     "execution_count": 75,
     "metadata": {},
     "output_type": "execute_result"
    }
   ],
   "source": [
    "'orange' in fruits"
   ]
  },
  {
   "cell_type": "markdown",
   "id": "e2b447bd",
   "metadata": {},
   "source": [
    "Python Collections (Arrays)\n",
    "\n",
    "There are four collection data types in the Python programming language:\n",
    "\n",
    "    List is a collection which is ordered and changeable. Allows duplicate members.\n",
    "    \n",
    "    \n",
    "    Tuple is a collection which is ordered and unchangeable. Allows duplicate members.\n",
    "    \n",
    "    \n",
    "    Set is a collection which is unordered, unchangeable*, and unindexed. No duplicate members.\n",
    "    \n",
    "    \n",
    "    Dictionary is a collection which is ordered** and changeable. No duplicate members.\n"
   ]
  },
  {
   "cell_type": "markdown",
   "id": "7c6e8f21",
   "metadata": {},
   "source": [
    "Python has a set of built-in methods that you can use on dictionaries.\n",
    "\n",
    "Method \tDescription\n",
    "\n",
    "clear()\tRemoves all the elements from the dictionary\n",
    "\n",
    "copy()\tReturns a copy of the dictionary\n",
    "\n",
    "\n",
    "fromkeys()\tReturns a dictionary with the specified keys and value\n",
    "\n",
    "\n",
    "get()\tReturns the value of the specified key\n",
    "\n",
    "\n",
    "items()\tReturns a list containing a tuple for each key value pair\n",
    "\n",
    "\n",
    "\n",
    "keys()\tReturns a list containing the dictionary's keys\n",
    "\n",
    "\n",
    "\n",
    "pop()\tRemoves the element with the specified key\n",
    "\n",
    "\n",
    "popitem()\tRemoves the last inserted key-value pair\n",
    "\n",
    "\n",
    "\n",
    "\n",
    "setdefault()\tReturns the value of the specified key. If the key does not exist: insert the key, with the specified valu\n",
    "\n",
    "\n",
    "\n",
    "update()\tUpdates the dictionary with the specified key-value pair\n",
    "\n",
    "\n",
    "\n",
    "values()\tReturns a list of all the values in the dictionary"
   ]
  },
  {
   "cell_type": "markdown",
   "id": "1f064c73",
   "metadata": {},
   "source": [
    "#### Find the market where mango is cheapest and also  find the cheapest  price."
   ]
  },
  {
   "cell_type": "code",
   "execution_count": 79,
   "id": "b43851b9",
   "metadata": {},
   "outputs": [
    {
     "name": "stdout",
     "output_type": "stream",
     "text": [
      "Cheapest mango price is : 120 and it is available in : market_1\n"
     ]
    }
   ],
   "source": [
    "cheapest_mango_price = 9999999 # arbitarily high number.\n",
    "\n",
    "for m , f in market_price.items():\n",
    "    if 'mango' in f :\n",
    "        v = f.get('mango')\n",
    "        \n",
    "        if v < cheapest_mango_price:\n",
    "            cheapest_mango_price = v\n",
    "            market = m \n",
    "            \n",
    "print(f\"Cheapest mango price is : {cheapest_mango_price} and it is available in : {market}\")"
   ]
  },
  {
   "cell_type": "code",
   "execution_count": 82,
   "id": "d0a44d76",
   "metadata": {},
   "outputs": [
    {
     "data": {
      "text/plain": [
       "dict_values([75, 200, 100, 30])"
      ]
     },
     "execution_count": 82,
     "metadata": {},
     "output_type": "execute_result"
    }
   ],
   "source": [
    "fruits.values()"
   ]
  },
  {
   "cell_type": "code",
   "execution_count": 83,
   "id": "93040618",
   "metadata": {},
   "outputs": [
    {
     "data": {
      "text/plain": [
       "{'apple': 75, 'banana': 200, 'mango': 100, 'pineapple': 30}"
      ]
     },
     "execution_count": 83,
     "metadata": {},
     "output_type": "execute_result"
    }
   ],
   "source": [
    "fruits"
   ]
  },
  {
   "cell_type": "code",
   "execution_count": 84,
   "id": "34e18625",
   "metadata": {},
   "outputs": [
    {
     "data": {
      "text/plain": [
       "{'apple': 75, 'banana': 200, 'mango': 100, 'pineapple': 30}"
      ]
     },
     "execution_count": 84,
     "metadata": {},
     "output_type": "execute_result"
    }
   ],
   "source": [
    "fruits"
   ]
  },
  {
   "cell_type": "markdown",
   "id": "21585b4a",
   "metadata": {},
   "source": [
    "# Python  function \n",
    "\n",
    " ```python\n",
    "\n",
    "def add_numbers(a, b):\n",
    "    c = a+b\n",
    "    return c\n",
    "```"
   ]
  },
  {
   "cell_type": "code",
   "execution_count": 85,
   "id": "c69216df",
   "metadata": {},
   "outputs": [],
   "source": [
    "def add_numbers (a,b) :\n",
    "    c = a+b\n",
    "    return c"
   ]
  },
  {
   "cell_type": "code",
   "execution_count": 86,
   "id": "2bb4db68",
   "metadata": {},
   "outputs": [
    {
     "data": {
      "text/plain": [
       "9"
      ]
     },
     "execution_count": 86,
     "metadata": {},
     "output_type": "execute_result"
    }
   ],
   "source": [
    "add_numbers (3,6)"
   ]
  },
  {
   "cell_type": "markdown",
   "id": "6904927d",
   "metadata": {},
   "source": [
    "Write a function that will take a list will sort its  value in ascending order."
   ]
  },
  {
   "cell_type": "code",
   "execution_count": 91,
   "id": "71bcfe0c",
   "metadata": {},
   "outputs": [],
   "source": [
    "def my_sort(my_list):\n",
    "    n = len(my_list)\n",
    "    for i in range(n-1):\n",
    "        for j in range(n-i-1):\n",
    "            if my_list[j] > my_list[j+1]:\n",
    "                temp = my_list[j]\n",
    "                my_list[j] = my_list[j+1]\n",
    "                my_list[j+1] = temp\n",
    "    return my_list"
   ]
  },
  {
   "cell_type": "code",
   "execution_count": 92,
   "id": "b7426039",
   "metadata": {},
   "outputs": [
    {
     "data": {
      "text/plain": [
       "[-5, -3, 2, 12, 34]"
      ]
     },
     "execution_count": 92,
     "metadata": {},
     "output_type": "execute_result"
    }
   ],
   "source": [
    "my_sort([-3, 12,-5, 34, 2])"
   ]
  },
  {
   "cell_type": "code",
   "execution_count": 93,
   "id": "e28368f6",
   "metadata": {},
   "outputs": [
    {
     "data": {
      "text/plain": [
       "11"
      ]
     },
     "execution_count": 93,
     "metadata": {},
     "output_type": "execute_result"
    }
   ],
   "source": [
    "max([9,2,9,11])"
   ]
  },
  {
   "cell_type": "code",
   "execution_count": 95,
   "id": "27b75235",
   "metadata": {},
   "outputs": [
    {
     "data": {
      "text/plain": [
       "-3"
      ]
     },
     "execution_count": 95,
     "metadata": {},
     "output_type": "execute_result"
    }
   ],
   "source": [
    "min([4,1,-3,12])"
   ]
  },
  {
   "cell_type": "code",
   "execution_count": 96,
   "id": "4f141df1",
   "metadata": {},
   "outputs": [
    {
     "data": {
      "text/plain": [
       "[-3, 1, 4, 21]"
      ]
     },
     "execution_count": 96,
     "metadata": {},
     "output_type": "execute_result"
    }
   ],
   "source": [
    "sorted ([4,1,-3,21])"
   ]
  },
  {
   "cell_type": "markdown",
   "id": "a5fd8289",
   "metadata": {},
   "source": [
    "### Write a function that will return maximum  and minimum values from a list"
   ]
  },
  {
   "cell_type": "code",
   "execution_count": 101,
   "id": "3be953de",
   "metadata": {},
   "outputs": [],
   "source": [
    "def find_max_min(my_list):\n",
    "    if len(my_list) != 0:\n",
    "        max_value = my_list[0]\n",
    "        min_value = my_list[0]\n",
    "        for i in range (1, len(my_list)):\n",
    "            if max_value < my_list[i]:\n",
    "                 max_value = my_list[i]\n",
    "            if min_value > my_list[i]:\n",
    "                min_value = my_list[i]\n",
    "                \n",
    "        return max_value, min_value\n",
    "    else:\n",
    "        print(\"The list is empty\")\n",
    "        \n",
    "        return None  , None "
   ]
  },
  {
   "cell_type": "code",
   "execution_count": 102,
   "id": "d6590815",
   "metadata": {},
   "outputs": [],
   "source": [
    "max_v, min_v = find_max_min([4,1,-3,21])"
   ]
  },
  {
   "cell_type": "code",
   "execution_count": 103,
   "id": "48b0f81c",
   "metadata": {},
   "outputs": [
    {
     "data": {
      "text/plain": [
       "21"
      ]
     },
     "execution_count": 103,
     "metadata": {},
     "output_type": "execute_result"
    }
   ],
   "source": [
    "max_v"
   ]
  },
  {
   "cell_type": "code",
   "execution_count": 104,
   "id": "e1158a48",
   "metadata": {},
   "outputs": [
    {
     "data": {
      "text/plain": [
       "-3"
      ]
     },
     "execution_count": 104,
     "metadata": {},
     "output_type": "execute_result"
    }
   ],
   "source": [
    "min_v"
   ]
  },
  {
   "cell_type": "code",
   "execution_count": 105,
   "id": "570a53b0",
   "metadata": {},
   "outputs": [
    {
     "name": "stdout",
     "output_type": "stream",
     "text": [
      "The list is empty\n"
     ]
    },
    {
     "data": {
      "text/plain": [
       "(None, None)"
      ]
     },
     "execution_count": 105,
     "metadata": {},
     "output_type": "execute_result"
    }
   ],
   "source": [
    "find_max_min([])"
   ]
  },
  {
   "cell_type": "markdown",
   "id": "3d04a8c4",
   "metadata": {},
   "source": [
    "# Functions"
   ]
  },
  {
   "cell_type": "markdown",
   "id": "0d5ded9a",
   "metadata": {},
   "source": [
    "#### WAF to add two numbers"
   ]
  },
  {
   "cell_type": "code",
   "execution_count": 106,
   "id": "9c5694ad",
   "metadata": {},
   "outputs": [],
   "source": [
    "def add_numbers(a,b):\n",
    "    return a+b"
   ]
  },
  {
   "cell_type": "code",
   "execution_count": 108,
   "id": "0711be97",
   "metadata": {},
   "outputs": [
    {
     "data": {
      "text/plain": [
       "11"
      ]
     },
     "execution_count": 108,
     "metadata": {},
     "output_type": "execute_result"
    }
   ],
   "source": [
    "add_numbers(5,6)"
   ]
  },
  {
   "cell_type": "code",
   "execution_count": 109,
   "id": "0c54958b",
   "metadata": {},
   "outputs": [
    {
     "ename": "TypeError",
     "evalue": "unsupported operand type(s) for +: 'int' and 'str'",
     "output_type": "error",
     "traceback": [
      "\u001b[1;31m---------------------------------------------------------------------------\u001b[0m",
      "\u001b[1;31mTypeError\u001b[0m                                 Traceback (most recent call last)",
      "\u001b[1;32m<ipython-input-109-c5bf8c6c0477>\u001b[0m in \u001b[0;36m<module>\u001b[1;34m\u001b[0m\n\u001b[1;32m----> 1\u001b[1;33m \u001b[0madd_numbers\u001b[0m\u001b[1;33m(\u001b[0m\u001b[1;36m6\u001b[0m\u001b[1;33m,\u001b[0m \u001b[1;34m'c'\u001b[0m\u001b[1;33m)\u001b[0m\u001b[1;33m\u001b[0m\u001b[1;33m\u001b[0m\u001b[0m\n\u001b[0m",
      "\u001b[1;32m<ipython-input-106-f1afb9d13fc4>\u001b[0m in \u001b[0;36madd_numbers\u001b[1;34m(a, b)\u001b[0m\n\u001b[0;32m      1\u001b[0m \u001b[1;32mdef\u001b[0m \u001b[0madd_numbers\u001b[0m\u001b[1;33m(\u001b[0m\u001b[0ma\u001b[0m\u001b[1;33m,\u001b[0m\u001b[0mb\u001b[0m\u001b[1;33m)\u001b[0m\u001b[1;33m:\u001b[0m\u001b[1;33m\u001b[0m\u001b[1;33m\u001b[0m\u001b[0m\n\u001b[1;32m----> 2\u001b[1;33m     \u001b[1;32mreturn\u001b[0m \u001b[0ma\u001b[0m\u001b[1;33m+\u001b[0m\u001b[0mb\u001b[0m\u001b[1;33m\u001b[0m\u001b[1;33m\u001b[0m\u001b[0m\n\u001b[0m",
      "\u001b[1;31mTypeError\u001b[0m: unsupported operand type(s) for +: 'int' and 'str'"
     ]
    }
   ],
   "source": [
    "add_numbers(6, 'c')"
   ]
  },
  {
   "cell_type": "markdown",
   "id": "d469c0a7",
   "metadata": {},
   "source": [
    "### Doc String - Document String"
   ]
  },
  {
   "cell_type": "code",
   "execution_count": 115,
   "id": "9511d973",
   "metadata": {},
   "outputs": [],
   "source": [
    "def add_numbers(num1, num2):\n",
    "    \"\"\"\n",
    "    Description: This function will add two input numbers and return the result\n",
    "    \n",
    "    Inputs:\n",
    "        - num1 : number (float or int type)\n",
    "        - num2 : number (float or int type)\n",
    "        \n",
    "    Return:\n",
    "        - It returns a number (float ot int type)\n",
    "    \"\"\"\n",
    "    return num1 + num2\n",
    "  "
   ]
  },
  {
   "cell_type": "code",
   "execution_count": 116,
   "id": "e76dbb74",
   "metadata": {},
   "outputs": [
    {
     "data": {
      "text/plain": [
       "3"
      ]
     },
     "execution_count": 116,
     "metadata": {},
     "output_type": "execute_result"
    }
   ],
   "source": [
    "add_numbers(1,2)"
   ]
  },
  {
   "cell_type": "markdown",
   "id": "9a665af5",
   "metadata": {},
   "source": [
    "# WAF to calculate the factorial of a number\n",
    "\n",
    "$ n! = n \\times (n-1) \\times (n-2) \\times .... \\times 2 \\times 1 $\n",
    "\n",
    "$ 5! = 5 \\times 4 \\times 3 \\times 2 \\times 1 = 120 $\n",
    "\n",
    "$ 6! = 6 \\times (5 \\times 4 \\times 3 \\times 2 \\times 1) $\n",
    "\n",
    "$ 6! = 6 \\times 5!$\n",
    "\n",
    "$ n! = n \\times (n-1)!~~[n > 1]$ "
   ]
  },
  {
   "cell_type": "code",
   "execution_count": 125,
   "id": "0a84b260",
   "metadata": {},
   "outputs": [],
   "source": [
    "def factorial_recursion(n):\n",
    "    \n",
    "    if n == 1 or n == 0:\n",
    "        return 1\n",
    "    \n",
    "    else:\n",
    "        return n * factorial_recursion(n-1)"
   ]
  },
  {
   "cell_type": "code",
   "execution_count": 126,
   "id": "2e42a56f",
   "metadata": {},
   "outputs": [
    {
     "data": {
      "text/plain": [
       "120"
      ]
     },
     "execution_count": 126,
     "metadata": {},
     "output_type": "execute_result"
    }
   ],
   "source": [
    "factorial_recursion(5)"
   ]
  },
  {
   "cell_type": "markdown",
   "id": "7810233b",
   "metadata": {},
   "source": [
    "### WAF to find a value in a list"
   ]
  },
  {
   "cell_type": "code",
   "execution_count": 127,
   "id": "e38084c8",
   "metadata": {},
   "outputs": [],
   "source": [
    "def find_value(L,n) :\n",
    "    if len(L) == 0:\n",
    "        print(\"Number not found\")\n",
    "        return None\n",
    "    if L[0] == n :\n",
    "        print(\"Number found\")\n",
    "        return None\n",
    "    else:\n",
    "        return find_value(L[1:], n)"
   ]
  },
  {
   "cell_type": "code",
   "execution_count": 128,
   "id": "e6a2e873",
   "metadata": {},
   "outputs": [
    {
     "name": "stdout",
     "output_type": "stream",
     "text": [
      "Number not found\n"
     ]
    }
   ],
   "source": [
    "find_value([1,2,3,4,5],7)"
   ]
  },
  {
   "cell_type": "markdown",
   "id": "97098c84",
   "metadata": {},
   "source": [
    "#  WAF to print the binomial cofficient given (n,r)"
   ]
  },
  {
   "cell_type": "code",
   "execution_count": 137,
   "id": "a4eeef85",
   "metadata": {},
   "outputs": [],
   "source": [
    "def binom_coeff(n, r):\n",
    "    value = factorial(n) / (factorial(n-r) * factorial(r))\n",
    "    return value"
   ]
  },
  {
   "cell_type": "code",
   "execution_count": 138,
   "id": "2fead6b1",
   "metadata": {},
   "outputs": [
    {
     "ename": "NameError",
     "evalue": "name 'factorial' is not defined",
     "output_type": "error",
     "traceback": [
      "\u001b[1;31m---------------------------------------------------------------------------\u001b[0m",
      "\u001b[1;31mNameError\u001b[0m                                 Traceback (most recent call last)",
      "\u001b[1;32m<ipython-input-138-d00a4ff2952b>\u001b[0m in \u001b[0;36m<module>\u001b[1;34m\u001b[0m\n\u001b[1;32m----> 1\u001b[1;33m \u001b[0mbinom_coeff\u001b[0m\u001b[1;33m(\u001b[0m\u001b[1;36m5\u001b[0m\u001b[1;33m,\u001b[0m\u001b[1;36m2\u001b[0m\u001b[1;33m)\u001b[0m\u001b[1;33m\u001b[0m\u001b[1;33m\u001b[0m\u001b[0m\n\u001b[0m",
      "\u001b[1;32m<ipython-input-137-4f9f3f5ffd73>\u001b[0m in \u001b[0;36mbinom_coeff\u001b[1;34m(n, r)\u001b[0m\n\u001b[0;32m      1\u001b[0m \u001b[1;32mdef\u001b[0m \u001b[0mbinom_coeff\u001b[0m\u001b[1;33m(\u001b[0m\u001b[0mn\u001b[0m\u001b[1;33m,\u001b[0m \u001b[0mr\u001b[0m\u001b[1;33m)\u001b[0m\u001b[1;33m:\u001b[0m\u001b[1;33m\u001b[0m\u001b[1;33m\u001b[0m\u001b[0m\n\u001b[1;32m----> 2\u001b[1;33m     \u001b[0mvalue\u001b[0m \u001b[1;33m=\u001b[0m \u001b[0mfactorial\u001b[0m\u001b[1;33m(\u001b[0m\u001b[0mn\u001b[0m\u001b[1;33m)\u001b[0m \u001b[1;33m/\u001b[0m \u001b[1;33m(\u001b[0m\u001b[0mfactorial\u001b[0m\u001b[1;33m(\u001b[0m\u001b[0mn\u001b[0m\u001b[1;33m-\u001b[0m\u001b[0mr\u001b[0m\u001b[1;33m)\u001b[0m \u001b[1;33m*\u001b[0m \u001b[0mfactorial\u001b[0m\u001b[1;33m(\u001b[0m\u001b[0mr\u001b[0m\u001b[1;33m)\u001b[0m\u001b[1;33m)\u001b[0m\u001b[1;33m\u001b[0m\u001b[1;33m\u001b[0m\u001b[0m\n\u001b[0m\u001b[0;32m      3\u001b[0m     \u001b[1;32mreturn\u001b[0m \u001b[0mvalue\u001b[0m\u001b[1;33m\u001b[0m\u001b[1;33m\u001b[0m\u001b[0m\n",
      "\u001b[1;31mNameError\u001b[0m: name 'factorial' is not defined"
     ]
    }
   ],
   "source": [
    "binom_coeff(5,2)"
   ]
  },
  {
   "cell_type": "markdown",
   "id": "77e1e097",
   "metadata": {},
   "source": [
    "#### WAF to print Fibonacci Series upto nth term"
   ]
  },
  {
   "cell_type": "code",
   "execution_count": 139,
   "id": "ea4d6696",
   "metadata": {},
   "outputs": [],
   "source": [
    "def print_fibonacci(n):\n",
    "    fibonaci_series = [0, 1]\n",
    "    if n == 1:\n",
    "        return fibonaci_series[0]\n",
    "    if n == 2:\n",
    "        return fibonaci_series\n",
    "    if n < 1:\n",
    "        print(\"Error in input....\")\n",
    "        return None\n",
    "    for i in range (2, n) :\n",
    "        v = fibonaci_series[-1] + fibonaci_series[-2]\n",
    "        fibonaci_series.append(v)\n",
    "    return fibonaci_series"
   ]
  },
  {
   "cell_type": "code",
   "execution_count": 140,
   "id": "3f317571",
   "metadata": {},
   "outputs": [
    {
     "data": {
      "text/plain": [
       "[0, 1, 1, 2, 3, 5, 8, 13, 21, 34]"
      ]
     },
     "execution_count": 140,
     "metadata": {},
     "output_type": "execute_result"
    }
   ],
   "source": [
    "print_fibonacci(10)\n"
   ]
  },
  {
   "cell_type": "markdown",
   "id": "b066acbf",
   "metadata": {},
   "source": [
    "##### HW : WAF to print Fibonacci Series using Recursion "
   ]
  },
  {
   "cell_type": "code",
   "execution_count": 2,
   "id": "b265231b",
   "metadata": {},
   "outputs": [
    {
     "name": "stdout",
     "output_type": "stream",
     "text": [
      "Fibonacci sequence:\n",
      "0\n",
      "1\n",
      "1\n",
      "2\n",
      "3\n",
      "5\n",
      "8\n",
      "13\n",
      "21\n",
      "34\n"
     ]
    }
   ],
   "source": [
    "# Python program to display the Fibonacci sequence\n",
    "\n",
    "def recur_fibo(n):\n",
    "   if n <= 1:\n",
    "       return n\n",
    "   else:\n",
    "       return(recur_fibo(n-1) + recur_fibo(n-2))\n",
    "\n",
    "nterms = 10\n",
    "\n",
    "# check if the number of terms is valid\n",
    "if nterms <= 0:\n",
    "   print(\"Plese enter a positive integer\")\n",
    "else:\n",
    "   print(\"Fibonacci sequence:\")\n",
    "   for i in range(nterms):\n",
    "       print(recur_fibo(i))"
   ]
  },
  {
   "cell_type": "markdown",
   "id": "182c8cbe",
   "metadata": {},
   "source": [
    "# File Handling in Python\n",
    "We can do following operations on file\n",
    "\n",
    "We can read content of a existing file\n",
    "\n",
    "We can open an existing file and write something on it or append something to it.\n",
    "\n",
    "open() function\n",
    "This function opens a file and return the file object.\n",
    "\n",
    "open(file_path, mode)\n",
    "mode in the open() function can have following values:\n",
    "\n",
    "r : reading mode (read any existing file)\n",
    "\n",
    "w : write mode (write on any existing file, if there are data in the existing file it will be overwritten)\n",
    "\n",
    "r+ : read-write mode (Read the existing file, overwrite the content of the existing file)\n",
    "\n",
    "w+ : write-read mode (overwrite the content or read the content of the existing file)\n",
    "\n",
    "a: append mode (it will append at the end of existing content)\n",
    "\n",
    "a+ : append-read mode (it will append at the end of existing content or read the content of existing file)"
   ]
  },
  {
   "cell_type": "code",
   "execution_count": 6,
   "id": "4de64f5c",
   "metadata": {},
   "outputs": [],
   "source": [
    "a = 1\n",
    "a+=1"
   ]
  },
  {
   "cell_type": "code",
   "execution_count": 12,
   "id": "b2c2763a",
   "metadata": {},
   "outputs": [],
   "source": [
    "x = \"66\"\n",
    "y = x +str(9)"
   ]
  },
  {
   "cell_type": "code",
   "execution_count": 13,
   "id": "3a2ba75d",
   "metadata": {},
   "outputs": [
    {
     "ename": "TypeError",
     "evalue": "unsupported operand type(s) for ** or pow(): 'str' and 'str'",
     "output_type": "error",
     "traceback": [
      "\u001b[1;31m---------------------------------------------------------------------------\u001b[0m",
      "\u001b[1;31mTypeError\u001b[0m                                 Traceback (most recent call last)",
      "\u001b[1;32m<ipython-input-13-2bd9b4b39906>\u001b[0m in \u001b[0;36m<module>\u001b[1;34m\u001b[0m\n\u001b[1;32m----> 1\u001b[1;33m \u001b[0mx\u001b[0m\u001b[1;33m**\u001b[0m\u001b[0my\u001b[0m\u001b[1;33m\u001b[0m\u001b[1;33m\u001b[0m\u001b[0m\n\u001b[0m",
      "\u001b[1;31mTypeError\u001b[0m: unsupported operand type(s) for ** or pow(): 'str' and 'str'"
     ]
    }
   ],
   "source": [
    "x**y"
   ]
  },
  {
   "cell_type": "code",
   "execution_count": 15,
   "id": "9e4b8960",
   "metadata": {},
   "outputs": [
    {
     "ename": "SyntaxError",
     "evalue": "invalid syntax (<ipython-input-15-d68e6517cc50>, line 1)",
     "output_type": "error",
     "traceback": [
      "\u001b[1;36m  File \u001b[1;32m\"<ipython-input-15-d68e6517cc50>\"\u001b[1;36m, line \u001b[1;32m1\u001b[0m\n\u001b[1;33m    x^^y\u001b[0m\n\u001b[1;37m      ^\u001b[0m\n\u001b[1;31mSyntaxError\u001b[0m\u001b[1;31m:\u001b[0m invalid syntax\n"
     ]
    }
   ],
   "source": [
    "x^^y"
   ]
  },
  {
   "cell_type": "code",
   "execution_count": 18,
   "id": "5c2fb450",
   "metadata": {},
   "outputs": [
    {
     "data": {
      "text/plain": [
       "-5"
      ]
     },
     "execution_count": 18,
     "metadata": {},
     "output_type": "execute_result"
    }
   ],
   "source": [
    "~4"
   ]
  },
  {
   "cell_type": "code",
   "execution_count": 19,
   "id": "f1fc7595",
   "metadata": {},
   "outputs": [
    {
     "ename": "SyntaxError",
     "evalue": "invalid syntax (<ipython-input-19-da1926802312>, line 1)",
     "output_type": "error",
     "traceback": [
      "\u001b[1;36m  File \u001b[1;32m\"<ipython-input-19-da1926802312>\"\u001b[1;36m, line \u001b[1;32m1\u001b[0m\n\u001b[1;33m    1st_string  = 1\u001b[0m\n\u001b[1;37m     ^\u001b[0m\n\u001b[1;31mSyntaxError\u001b[0m\u001b[1;31m:\u001b[0m invalid syntax\n"
     ]
    }
   ],
   "source": [
    "1st_string  = 1"
   ]
  },
  {
   "cell_type": "code",
   "execution_count": 21,
   "id": "2394bf33",
   "metadata": {},
   "outputs": [
    {
     "ename": "SyntaxError",
     "evalue": "invalid syntax (<ipython-input-21-c42a0e22ef50>, line 1)",
     "output_type": "error",
     "traceback": [
      "\u001b[1;36m  File \u001b[1;32m\"<ipython-input-21-c42a0e22ef50>\"\u001b[1;36m, line \u001b[1;32m1\u001b[0m\n\u001b[1;33m    a b c  = 3000 6000 7000\u001b[0m\n\u001b[1;37m      ^\u001b[0m\n\u001b[1;31mSyntaxError\u001b[0m\u001b[1;31m:\u001b[0m invalid syntax\n"
     ]
    }
   ],
   "source": [
    "a b c  = 3000 6000 7000"
   ]
  },
  {
   "cell_type": "code",
   "execution_count": 24,
   "id": "64c43d6e",
   "metadata": {},
   "outputs": [
    {
     "data": {
      "text/plain": [
       "1"
      ]
     },
     "execution_count": 24,
     "metadata": {},
     "output_type": "execute_result"
    }
   ],
   "source": [
    "a = 1\n",
    "++a"
   ]
  },
  {
   "cell_type": "code",
   "execution_count": 27,
   "id": "c77e55bf",
   "metadata": {},
   "outputs": [
    {
     "ename": "ValueError",
     "evalue": "could not convert string to float: '56+78'",
     "output_type": "error",
     "traceback": [
      "\u001b[1;31m---------------------------------------------------------------------------\u001b[0m",
      "\u001b[1;31mValueError\u001b[0m                                Traceback (most recent call last)",
      "\u001b[1;32m<ipython-input-27-8b9bc6e6cbe7>\u001b[0m in \u001b[0;36m<module>\u001b[1;34m\u001b[0m\n\u001b[1;32m----> 1\u001b[1;33m \u001b[0mfloat\u001b[0m\u001b[1;33m(\u001b[0m\u001b[1;34m'56+78'\u001b[0m\u001b[1;33m)\u001b[0m\u001b[1;33m\u001b[0m\u001b[1;33m\u001b[0m\u001b[0m\n\u001b[0m",
      "\u001b[1;31mValueError\u001b[0m: could not convert string to float: '56+78'"
     ]
    }
   ],
   "source": [
    "float('56+78')"
   ]
  },
  {
   "cell_type": "markdown",
   "id": "da232eeb",
   "metadata": {},
   "source": [
    "# Lambda Function in python\n",
    "\n",
    "##### Small anonymous function in python"
   ]
  },
  {
   "cell_type": "markdown",
   "id": "3446f8d0",
   "metadata": {},
   "source": [
    "### Given a number return its square"
   ]
  },
  {
   "cell_type": "code",
   "execution_count": 28,
   "id": "da799bd3",
   "metadata": {},
   "outputs": [],
   "source": [
    "x = lambda a : a**2"
   ]
  },
  {
   "cell_type": "code",
   "execution_count": 29,
   "id": "a8cfc50e",
   "metadata": {},
   "outputs": [
    {
     "data": {
      "text/plain": [
       "25"
      ]
     },
     "execution_count": 29,
     "metadata": {},
     "output_type": "execute_result"
    }
   ],
   "source": [
    "x(5)"
   ]
  },
  {
   "cell_type": "code",
   "execution_count": 30,
   "id": "907517e1",
   "metadata": {},
   "outputs": [],
   "source": [
    "y = lambda a,b : a**b"
   ]
  },
  {
   "cell_type": "code",
   "execution_count": 31,
   "id": "e5139fe7",
   "metadata": {},
   "outputs": [
    {
     "data": {
      "text/plain": [
       "8"
      ]
     },
     "execution_count": 31,
     "metadata": {},
     "output_type": "execute_result"
    }
   ],
   "source": [
    "y(2,3)"
   ]
  },
  {
   "cell_type": "markdown",
   "id": "3ad823a7",
   "metadata": {},
   "source": [
    "# List comprehension"
   ]
  },
  {
   "cell_type": "code",
   "execution_count": 32,
   "id": "73c3c894",
   "metadata": {},
   "outputs": [],
   "source": [
    "L = [2,3,4,1,5]"
   ]
  },
  {
   "cell_type": "markdown",
   "id": "cd7fb2e1",
   "metadata": {},
   "source": [
    "# Add 5 all the elements in the list"
   ]
  },
  {
   "cell_type": "code",
   "execution_count": 33,
   "id": "5be41a4e",
   "metadata": {},
   "outputs": [
    {
     "data": {
      "text/plain": [
       "[7, 8, 9, 6, 10]"
      ]
     },
     "execution_count": 33,
     "metadata": {},
     "output_type": "execute_result"
    }
   ],
   "source": [
    "result = []\n",
    "\n",
    "for x in L:\n",
    "    result.append(x+5)\n",
    "    \n",
    "result\n"
   ]
  },
  {
   "cell_type": "code",
   "execution_count": 36,
   "id": "41c72e12",
   "metadata": {},
   "outputs": [
    {
     "data": {
      "text/plain": [
       "[7, 8, 9, 6, 10]"
      ]
     },
     "execution_count": 36,
     "metadata": {},
     "output_type": "execute_result"
    }
   ],
   "source": [
    "[x+5 for x in L]"
   ]
  },
  {
   "cell_type": "markdown",
   "id": "0bbc9eaa",
   "metadata": {},
   "source": [
    "List comprehension has three part\n",
    "\n",
    "```python\n",
    "[<operations> <looping> <conditionals with if> (optional)] \n",
    "\n",
    "[<operations>  <conditionals with if and else> <looping> (optional)]\n",
    "```"
   ]
  },
  {
   "cell_type": "code",
   "execution_count": 37,
   "id": "9d21ef87",
   "metadata": {},
   "outputs": [],
   "source": [
    "L=  list(range(100)) #List of all numbers from 0 to 99"
   ]
  },
  {
   "cell_type": "code",
   "execution_count": 38,
   "id": "e0e8a8e0",
   "metadata": {},
   "outputs": [
    {
     "data": {
      "text/plain": [
       "[1,\n",
       " 3,\n",
       " 5,\n",
       " 7,\n",
       " 9,\n",
       " 11,\n",
       " 13,\n",
       " 15,\n",
       " 17,\n",
       " 19,\n",
       " 21,\n",
       " 23,\n",
       " 25,\n",
       " 27,\n",
       " 29,\n",
       " 31,\n",
       " 33,\n",
       " 35,\n",
       " 37,\n",
       " 39,\n",
       " 41,\n",
       " 43,\n",
       " 45,\n",
       " 47,\n",
       " 49,\n",
       " 51,\n",
       " 53,\n",
       " 55,\n",
       " 57,\n",
       " 59,\n",
       " 61,\n",
       " 63,\n",
       " 65,\n",
       " 67,\n",
       " 69,\n",
       " 71,\n",
       " 73,\n",
       " 75,\n",
       " 77,\n",
       " 79,\n",
       " 81,\n",
       " 83,\n",
       " 85,\n",
       " 87,\n",
       " 89,\n",
       " 91,\n",
       " 93,\n",
       " 95,\n",
       " 97,\n",
       " 99]"
      ]
     },
     "execution_count": 38,
     "metadata": {},
     "output_type": "execute_result"
    }
   ],
   "source": [
    "odd_numbers = []\n",
    "\n",
    "for x in L:\n",
    "    if x % 2 != 0:\n",
    "        odd_numbers.append(x)\n",
    "        \n",
    "odd_numbers "
   ]
  },
  {
   "cell_type": "code",
   "execution_count": 40,
   "id": "43a9574e",
   "metadata": {},
   "outputs": [
    {
     "data": {
      "text/plain": [
       "[1,\n",
       " 3,\n",
       " 5,\n",
       " 7,\n",
       " 9,\n",
       " 11,\n",
       " 13,\n",
       " 15,\n",
       " 17,\n",
       " 19,\n",
       " 21,\n",
       " 23,\n",
       " 25,\n",
       " 27,\n",
       " 29,\n",
       " 31,\n",
       " 33,\n",
       " 35,\n",
       " 37,\n",
       " 39,\n",
       " 41,\n",
       " 43,\n",
       " 45,\n",
       " 47,\n",
       " 49,\n",
       " 51,\n",
       " 53,\n",
       " 55,\n",
       " 57,\n",
       " 59,\n",
       " 61,\n",
       " 63,\n",
       " 65,\n",
       " 67,\n",
       " 69,\n",
       " 71,\n",
       " 73,\n",
       " 75,\n",
       " 77,\n",
       " 79,\n",
       " 81,\n",
       " 83,\n",
       " 85,\n",
       " 87,\n",
       " 89,\n",
       " 91,\n",
       " 93,\n",
       " 95,\n",
       " 97,\n",
       " 99]"
      ]
     },
     "execution_count": 40,
     "metadata": {},
     "output_type": "execute_result"
    }
   ],
   "source": [
    "[x for x in L if x%2 != 0]"
   ]
  },
  {
   "cell_type": "markdown",
   "id": "e99047ca",
   "metadata": {},
   "source": [
    "### Given a list  of numbers  return another boolean valued list where it will be  True if the number is even, False if the number is odd (using list comprehension)"
   ]
  },
  {
   "cell_type": "markdown",
   "id": "09e3d3e9",
   "metadata": {},
   "source": [
    "```\n",
    "input_list = [3, 1, 9, 4, 5, 6]\n",
    "output_list = [False, False, False, True, False, True]\n",
    "```"
   ]
  },
  {
   "cell_type": "code",
   "execution_count": 45,
   "id": "316a1b6e",
   "metadata": {},
   "outputs": [
    {
     "data": {
      "text/plain": [
       "[False, False, False, True, False, True]"
      ]
     },
     "execution_count": 45,
     "metadata": {},
     "output_type": "execute_result"
    }
   ],
   "source": [
    "out_list = []\n",
    "input_list = [3,1,9,4,5,6]\n",
    "\n",
    "for x in input_list:\n",
    "    if x%2 == 0:\n",
    "        out_list.append(True)\n",
    "    else:\n",
    "        out_list.append(False)\n",
    "        \n",
    "out_list"
   ]
  },
  {
   "cell_type": "code",
   "execution_count": 46,
   "id": "5ec41fc3",
   "metadata": {},
   "outputs": [
    {
     "data": {
      "text/plain": [
       "[False, False, False, True, False, True]"
      ]
     },
     "execution_count": 46,
     "metadata": {},
     "output_type": "execute_result"
    }
   ],
   "source": [
    "[True if x%2 == 0 else False for x in input_list]"
   ]
  },
  {
   "cell_type": "markdown",
   "id": "aa8955ce",
   "metadata": {},
   "source": [
    "# Map( ) function  in python \n",
    "\n",
    "function:\n",
    "\n",
    "def my_function(value):\n",
    "    <some codes>\n",
    "    return output\n",
    "\n",
    "my_list = [v1, v2, v3, ...., vn]\n",
    "\n",
    "x = map(my_function, my_list) # return a map object\n",
    "\n",
    "x = list(map(my_function, my_list)) # another list with the function applied on each values of my_list"
   ]
  },
  {
   "cell_type": "code",
   "execution_count": 47,
   "id": "bbe04082",
   "metadata": {},
   "outputs": [],
   "source": [
    "def fun(v):\n",
    "    return v+3"
   ]
  },
  {
   "cell_type": "code",
   "execution_count": 49,
   "id": "e500bcc9",
   "metadata": {},
   "outputs": [
    {
     "data": {
      "text/plain": [
       "7"
      ]
     },
     "execution_count": 49,
     "metadata": {},
     "output_type": "execute_result"
    }
   ],
   "source": [
    "fun(4)"
   ]
  },
  {
   "cell_type": "code",
   "execution_count": 55,
   "id": "09a4f0fd",
   "metadata": {},
   "outputs": [
    {
     "data": {
      "text/plain": [
       "0"
      ]
     },
     "execution_count": 55,
     "metadata": {},
     "output_type": "execute_result"
    }
   ],
   "source": [
    "fun(-3)"
   ]
  },
  {
   "cell_type": "code",
   "execution_count": 51,
   "id": "2a6cdfd0",
   "metadata": {},
   "outputs": [],
   "source": [
    "L = [2,-4,0, 1,6]"
   ]
  },
  {
   "cell_type": "code",
   "execution_count": 53,
   "id": "8b153fd3",
   "metadata": {},
   "outputs": [],
   "source": [
    "x = map(fun , L)"
   ]
  },
  {
   "cell_type": "code",
   "execution_count": 56,
   "id": "e0c32b1d",
   "metadata": {},
   "outputs": [
    {
     "data": {
      "text/plain": [
       "[5, -1, 3, 4, 9]"
      ]
     },
     "execution_count": 56,
     "metadata": {},
     "output_type": "execute_result"
    }
   ],
   "source": [
    "list(x)"
   ]
  },
  {
   "cell_type": "markdown",
   "id": "129606a9",
   "metadata": {},
   "source": [
    "#### Suppose you are given  a list of  strings . You  want to return the lenght of each string. "
   ]
  },
  {
   "cell_type": "markdown",
   "id": "e813f4cf",
   "metadata": {},
   "source": [
    "```\n",
    "L = ['abc','xyzjk','tuvdws']\n",
    "\n",
    "output = [3, 5, 6]"
   ]
  },
  {
   "cell_type": "code",
   "execution_count": 57,
   "id": "588ab0c9",
   "metadata": {},
   "outputs": [
    {
     "data": {
      "text/plain": [
       "[3, 5, 6]"
      ]
     },
     "execution_count": 57,
     "metadata": {},
     "output_type": "execute_result"
    }
   ],
   "source": [
    "my_list = ['abc','xyzjk','tuvdws']\n",
    "\n",
    "list(map(len, my_list))"
   ]
  },
  {
   "cell_type": "markdown",
   "id": "457458a2",
   "metadata": {},
   "source": [
    "Type Markdown and LaTeX:  𝛼2"
   ]
  },
  {
   "cell_type": "markdown",
   "id": "75602128",
   "metadata": {},
   "source": [
    "# String manipulation"
   ]
  },
  {
   "cell_type": "code",
   "execution_count": 58,
   "id": "f24c80aa",
   "metadata": {},
   "outputs": [],
   "source": [
    "str1 = \"Sachin Tendulkar\""
   ]
  },
  {
   "cell_type": "code",
   "execution_count": 59,
   "id": "936ea91d",
   "metadata": {},
   "outputs": [
    {
     "data": {
      "text/plain": [
       "'S'"
      ]
     },
     "execution_count": 59,
     "metadata": {},
     "output_type": "execute_result"
    }
   ],
   "source": [
    "str1[0]"
   ]
  },
  {
   "cell_type": "code",
   "execution_count": 60,
   "id": "d1ece91e",
   "metadata": {},
   "outputs": [
    {
     "data": {
      "text/plain": [
       "'c'"
      ]
     },
     "execution_count": 60,
     "metadata": {},
     "output_type": "execute_result"
    }
   ],
   "source": [
    "str1[2]"
   ]
  },
  {
   "cell_type": "code",
   "execution_count": 62,
   "id": "f154b77c",
   "metadata": {},
   "outputs": [
    {
     "data": {
      "text/plain": [
       "' '"
      ]
     },
     "execution_count": 62,
     "metadata": {},
     "output_type": "execute_result"
    }
   ],
   "source": [
    "str1[6]"
   ]
  },
  {
   "cell_type": "code",
   "execution_count": 64,
   "id": "be997a82",
   "metadata": {},
   "outputs": [
    {
     "data": {
      "text/plain": [
       "16"
      ]
     },
     "execution_count": 64,
     "metadata": {},
     "output_type": "execute_result"
    }
   ],
   "source": [
    "len(str1)"
   ]
  },
  {
   "cell_type": "code",
   "execution_count": 65,
   "id": "022c3fca",
   "metadata": {},
   "outputs": [
    {
     "name": "stdout",
     "output_type": "stream",
     "text": [
      "S\n",
      "a\n",
      "c\n",
      "h\n",
      "i\n",
      "n\n",
      " \n",
      "T\n",
      "e\n",
      "n\n",
      "d\n",
      "u\n",
      "l\n",
      "k\n",
      "a\n",
      "r\n"
     ]
    }
   ],
   "source": [
    "for i in range (len(str1)):\n",
    "    print(str1[i])"
   ]
  },
  {
   "cell_type": "code",
   "execution_count": 66,
   "id": "e948347c",
   "metadata": {},
   "outputs": [
    {
     "data": {
      "text/plain": [
       "'in Ten'"
      ]
     },
     "execution_count": 66,
     "metadata": {},
     "output_type": "execute_result"
    }
   ],
   "source": [
    "str1[4:10]"
   ]
  },
  {
   "cell_type": "code",
   "execution_count": 67,
   "id": "fd60cb25",
   "metadata": {},
   "outputs": [
    {
     "data": {
      "text/plain": [
       "'n Tendulkar'"
      ]
     },
     "execution_count": 67,
     "metadata": {},
     "output_type": "execute_result"
    }
   ],
   "source": [
    "str1[5:]"
   ]
  },
  {
   "cell_type": "code",
   "execution_count": 68,
   "id": "abdcf5b8",
   "metadata": {},
   "outputs": [
    {
     "data": {
      "text/plain": [
       "'Sachin Ten'"
      ]
     },
     "execution_count": 68,
     "metadata": {},
     "output_type": "execute_result"
    }
   ],
   "source": [
    "str1[:10]"
   ]
  },
  {
   "cell_type": "markdown",
   "id": "a4578bbe",
   "metadata": {},
   "source": [
    "# Convert a string to a list"
   ]
  },
  {
   "cell_type": "code",
   "execution_count": 69,
   "id": "3cb1525e",
   "metadata": {},
   "outputs": [],
   "source": [
    "L = list(str1)"
   ]
  },
  {
   "cell_type": "code",
   "execution_count": 70,
   "id": "6282c5ea",
   "metadata": {},
   "outputs": [
    {
     "data": {
      "text/plain": [
       "['S',\n",
       " 'a',\n",
       " 'c',\n",
       " 'h',\n",
       " 'i',\n",
       " 'n',\n",
       " ' ',\n",
       " 'T',\n",
       " 'e',\n",
       " 'n',\n",
       " 'd',\n",
       " 'u',\n",
       " 'l',\n",
       " 'k',\n",
       " 'a',\n",
       " 'r']"
      ]
     },
     "execution_count": 70,
     "metadata": {},
     "output_type": "execute_result"
    }
   ],
   "source": [
    "L"
   ]
  },
  {
   "cell_type": "code",
   "execution_count": 71,
   "id": "37c06324",
   "metadata": {},
   "outputs": [
    {
     "data": {
      "text/plain": [
       "\"['S', 'a', 'c', 'h', 'i', 'n', ' ', 'T', 'e', 'n', 'd', 'u', 'l', 'k', 'a', 'r']\""
      ]
     },
     "execution_count": 71,
     "metadata": {},
     "output_type": "execute_result"
    }
   ],
   "source": [
    "str(L)"
   ]
  },
  {
   "cell_type": "markdown",
   "id": "47b26844",
   "metadata": {},
   "source": [
    "# Find a character inside the string. Return the first index if found else return - 1"
   ]
  },
  {
   "cell_type": "code",
   "execution_count": 73,
   "id": "3cbf0a14",
   "metadata": {},
   "outputs": [],
   "source": [
    "def find_character(string, ch):\n",
    "    if len(string) > 0:\n",
    "        if i in range(len(string)):\n",
    "            if ch == string[i]:\n",
    "                return i\n",
    "    return -1"
   ]
  },
  {
   "cell_type": "code",
   "execution_count": 74,
   "id": "a3182322",
   "metadata": {},
   "outputs": [
    {
     "data": {
      "text/plain": [
       "-1"
      ]
     },
     "execution_count": 74,
     "metadata": {},
     "output_type": "execute_result"
    }
   ],
   "source": [
    "find_character(str1, 'c')"
   ]
  },
  {
   "cell_type": "code",
   "execution_count": 75,
   "id": "02035966",
   "metadata": {},
   "outputs": [
    {
     "data": {
      "text/plain": [
       "-1"
      ]
     },
     "execution_count": 75,
     "metadata": {},
     "output_type": "execute_result"
    }
   ],
   "source": [
    "find_character(str1, 'w')"
   ]
  },
  {
   "cell_type": "code",
   "execution_count": 76,
   "id": "ddc1092f",
   "metadata": {},
   "outputs": [
    {
     "data": {
      "text/plain": [
       "-1"
      ]
     },
     "execution_count": 76,
     "metadata": {},
     "output_type": "execute_result"
    }
   ],
   "source": [
    "find_character(str1, 'n')"
   ]
  },
  {
   "cell_type": "code",
   "execution_count": 1,
   "id": "b0a69d5c",
   "metadata": {},
   "outputs": [
    {
     "ename": "SyntaxError",
     "evalue": "invalid syntax (<ipython-input-1-3ed9824b88ed>, line 2)",
     "output_type": "error",
     "traceback": [
      "\u001b[1;36m  File \u001b[1;32m\"<ipython-input-1-3ed9824b88ed>\"\u001b[1;36m, line \u001b[1;32m2\u001b[0m\n\u001b[1;33m    idx = find character(name, '')\u001b[0m\n\u001b[1;37m               ^\u001b[0m\n\u001b[1;31mSyntaxError\u001b[0m\u001b[1;31m:\u001b[0m invalid syntax\n"
     ]
    }
   ],
   "source": [
    "def divide_name(name):\n",
    "    idx = find character(name, '')\n",
    "    if dx != -1:\n",
    "        firstname = name[:idx]\n",
    "        lastname = name[idx]\n",
    "        \n",
    "        "
   ]
  },
  {
   "cell_type": "code",
   "execution_count": 1,
   "id": "d356141d",
   "metadata": {},
   "outputs": [
    {
     "name": "stdout",
     "output_type": "stream",
     "text": [
      "Name: Simon\n",
      "Age: 19\n",
      "Address: Bangalore, Karnataka, India\n"
     ]
    }
   ],
   "source": [
    "def personal_details():\n",
    "    name, age = \"Simon\", 19\n",
    "    address = \"Bangalore, Karnataka, India\"\n",
    "    print(\"Name: {}\\nAge: {}\\nAddress: {}\".format(name, age, address))\n",
    "\n",
    "personal_details()"
   ]
  },
  {
   "cell_type": "code",
   "execution_count": 1,
   "id": "9ed4a5d9",
   "metadata": {},
   "outputs": [
    {
     "name": "stdout",
     "output_type": "stream",
     "text": [
      "Yeah ! Your answer is : 1\n",
      "Sorry ! You are dividing by zero \n"
     ]
    }
   ],
   "source": []
  },
  {
   "cell_type": "code",
   "execution_count": 3,
   "id": "22db7c79",
   "metadata": {},
   "outputs": [
    {
     "name": "stdout",
     "output_type": "stream",
     "text": [
      "Error: Denominator cannot be 0.\n"
     ]
    }
   ],
   "source": [
    "\n",
    "#########The try and except block in Python is used to catch and handle exceptions. Python executes code following the try statement as a “normal” part of the program. The code that follows the except statement is the program's response to any exceptions in the preceding try clause.\n",
    "\n",
    "\n",
    "\n",
    "\n",
    "\n",
    "try:\n",
    "    numerator = 10\n",
    "    denominator = 0\n",
    "\n",
    "    result = numerator/denominator\n",
    "\n",
    "    print(result)\n",
    "except:\n",
    "    print(\"Error: Denominator cannot be 0.\")\n",
    "\n",
    "# Output: Error: Denominator cannot be 0. "
   ]
  },
  {
   "cell_type": "code",
   "execution_count": 4,
   "id": "ab760070",
   "metadata": {},
   "outputs": [],
   "source": [
    "file1 = open(\"MyFile.txt\",\"a\")\n",
    "file1.close()"
   ]
  },
  {
   "cell_type": "code",
   "execution_count": 5,
   "id": "88bf4d78",
   "metadata": {},
   "outputs": [
    {
     "name": "stdout",
     "output_type": "stream",
     "text": [
      "Output of Read function is \n",
      "Hello \n",
      "This is Delhi \n",
      "This is Paris \n",
      "This is London \n",
      "\n",
      "\n",
      "Output of Readline function is \n",
      "Hello \n",
      "\n",
      "\n"
     ]
    },
    {
     "data": {
      "text/plain": [
       "0"
      ]
     },
     "execution_count": 5,
     "metadata": {},
     "output_type": "execute_result"
    }
   ],
   "source": [
    "# Program to show various ways to read and\n",
    "# write data in a file.\n",
    "file1 = open(\"myfile.txt\",\"w\")\n",
    "L = [\"This is Delhi \\n\",\"This is Paris \\n\",\"This is London \\n\"] \n",
    "  \n",
    "# \\n is placed to indicate EOL (End of Line)\n",
    "file1.write(\"Hello \\n\")\n",
    "file1.writelines(L)\n",
    "file1.close() #to change file access modes\n",
    "  \n",
    "file1 = open(\"myfile.txt\",\"r+\") \n",
    "  \n",
    "print(\"Output of Read function is \")\n",
    "print(file1.read())\n",
    "print()\n",
    "  \n",
    "# seek(n) takes the file handle to the nth\n",
    "# bite from the beginning.\n",
    "file1.seek(0) \n",
    "  \n",
    "print( \"Output of Readline function is \")\n",
    "print(file1.readline()) \n",
    "print()\n",
    "  \n",
    "file1.seek(0)\n",
    "  "
   ]
  },
  {
   "cell_type": "code",
   "execution_count": 6,
   "id": "8f7e45a3",
   "metadata": {},
   "outputs": [
    {
     "name": "stdout",
     "output_type": "stream",
     "text": [
      "0.0\n",
      "2.0\n",
      "1.8708286933869707\n"
     ]
    }
   ],
   "source": [
    "# Python3 program to demonstrate the \n",
    "# sqrt() method \n",
    "  \n",
    "# import the math module \n",
    "import math \n",
    "  \n",
    "# print the square root of  0 \n",
    "print(math.sqrt(0)) \n",
    "  \n",
    "# print the square root of 4\n",
    "print(math.sqrt(4)) \n",
    "  \n",
    "# print the square root of 3.5\n",
    "print(math.sqrt(3.5)) "
   ]
  },
  {
   "cell_type": "code",
   "execution_count": 1,
   "id": "6ed6d05f",
   "metadata": {},
   "outputs": [
    {
     "name": "stdout",
     "output_type": "stream",
     "text": [
      "Takes in a number n, returns the square of n\n"
     ]
    }
   ],
   "source": [
    "def square(n):\n",
    "    '''Takes in a number n, returns the square of n'''\n",
    "    return n**2\n",
    "\n",
    "print(square.__doc__)"
   ]
  },
  {
   "cell_type": "code",
   "execution_count": 3,
   "id": "d3707aa3",
   "metadata": {},
   "outputs": [
    {
     "name": "stdout",
     "output_type": "stream",
     "text": [
      "Original array:\n",
      "[-1 -4  0  2  3  4  5 -6]\n",
      "Replace the negative values of the said array with 0:\n",
      "[0 0 0 2 3 4 5 0]\n"
     ]
    }
   ],
   "source": [
    "import numpy as np\n",
    "x = np.array([-1, -4, 0, 2, 3, 4, 5, -6])\n",
    "print(\"Original array:\")\n",
    "print(x)\n",
    "print(\"Replace the negative values of the said array with 0:\")\n",
    "x[x < 0] = 0\n",
    "print(x)"
   ]
  },
  {
   "cell_type": "code",
   "execution_count": 4,
   "id": "745d0b71",
   "metadata": {},
   "outputs": [
    {
     "name": "stdout",
     "output_type": "stream",
     "text": [
      "0     2\n",
      "1     4\n",
      "2     6\n",
      "3     8\n",
      "4    10\n",
      "dtype: int64\n"
     ]
    }
   ],
   "source": [
    "import pandas as pd\n",
    "ds = pd.Series([2, 4, 6, 8, 10])\n",
    "print(ds)"
   ]
  },
  {
   "cell_type": "code",
   "execution_count": null,
   "id": "1723fde4",
   "metadata": {},
   "outputs": [],
   "source": []
  }
 ],
 "metadata": {
  "kernelspec": {
   "display_name": "Python 3",
   "language": "python",
   "name": "python3"
  },
  "language_info": {
   "codemirror_mode": {
    "name": "ipython",
    "version": 3
   },
   "file_extension": ".py",
   "mimetype": "text/x-python",
   "name": "python",
   "nbconvert_exporter": "python",
   "pygments_lexer": "ipython3",
   "version": "3.8.8"
  }
 },
 "nbformat": 4,
 "nbformat_minor": 5
}
