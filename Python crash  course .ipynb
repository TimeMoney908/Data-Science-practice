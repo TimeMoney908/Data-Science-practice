{
 "cells": [
  {
   "cell_type": "markdown",
   "id": "23e4dac7",
   "metadata": {},
   "source": [
    "# Python Crash course "
   ]
  },
  {
   "cell_type": "markdown",
   "id": "db101838",
   "metadata": {},
   "source": [
    "# Data types \n"
   ]
  },
  {
   "cell_type": "code",
   "execution_count": 1,
   "id": "11688bb5",
   "metadata": {},
   "outputs": [
    {
     "data": {
      "text/plain": [
       "4"
      ]
     },
     "execution_count": 1,
     "metadata": {},
     "output_type": "execute_result"
    }
   ],
   "source": [
    "2+2"
   ]
  },
  {
   "cell_type": "code",
   "execution_count": 2,
   "id": "1d5b3659",
   "metadata": {},
   "outputs": [
    {
     "data": {
      "text/plain": [
       "0"
      ]
     },
     "execution_count": 2,
     "metadata": {},
     "output_type": "execute_result"
    }
   ],
   "source": [
    "3-3"
   ]
  },
  {
   "cell_type": "code",
   "execution_count": 3,
   "id": "45c13b27",
   "metadata": {},
   "outputs": [
    {
     "data": {
      "text/plain": [
       "9"
      ]
     },
     "execution_count": 3,
     "metadata": {},
     "output_type": "execute_result"
    }
   ],
   "source": [
    "3*3"
   ]
  },
  {
   "cell_type": "code",
   "execution_count": 4,
   "id": "c41cb6d2",
   "metadata": {},
   "outputs": [
    {
     "data": {
      "text/plain": [
       "-1"
      ]
     },
     "execution_count": 4,
     "metadata": {},
     "output_type": "execute_result"
    }
   ],
   "source": [
    "9-10"
   ]
  },
  {
   "cell_type": "code",
   "execution_count": 5,
   "id": "beddb8cb",
   "metadata": {},
   "outputs": [
    {
     "data": {
      "text/plain": [
       "1"
      ]
     },
     "execution_count": 5,
     "metadata": {},
     "output_type": "execute_result"
    }
   ],
   "source": [
    "abs(9-10)"
   ]
  },
  {
   "cell_type": "code",
   "execution_count": 6,
   "id": "7297d549",
   "metadata": {},
   "outputs": [
    {
     "data": {
      "text/plain": [
       "0.6"
      ]
     },
     "execution_count": 6,
     "metadata": {},
     "output_type": "execute_result"
    }
   ],
   "source": [
    "3/5"
   ]
  },
  {
   "cell_type": "code",
   "execution_count": 7,
   "id": "a752dc28",
   "metadata": {},
   "outputs": [
    {
     "data": {
      "text/plain": [
       "3.3333333333333335"
      ]
     },
     "execution_count": 7,
     "metadata": {},
     "output_type": "execute_result"
    }
   ],
   "source": [
    "10/3"
   ]
  },
  {
   "cell_type": "code",
   "execution_count": 8,
   "id": "8d8e38b7",
   "metadata": {},
   "outputs": [
    {
     "data": {
      "text/plain": [
       "float"
      ]
     },
     "execution_count": 8,
     "metadata": {},
     "output_type": "execute_result"
    }
   ],
   "source": [
    "type(3/2)"
   ]
  },
  {
   "cell_type": "code",
   "execution_count": 9,
   "id": "c7d04144",
   "metadata": {},
   "outputs": [
    {
     "data": {
      "text/plain": [
       "3"
      ]
     },
     "execution_count": 9,
     "metadata": {},
     "output_type": "execute_result"
    }
   ],
   "source": [
    "int(10/3)"
   ]
  },
  {
   "cell_type": "code",
   "execution_count": 10,
   "id": "3be345da",
   "metadata": {},
   "outputs": [
    {
     "data": {
      "text/plain": [
       "1"
      ]
     },
     "execution_count": 10,
     "metadata": {},
     "output_type": "execute_result"
    }
   ],
   "source": [
    "5%2"
   ]
  },
  {
   "cell_type": "code",
   "execution_count": 11,
   "id": "f6becf7a",
   "metadata": {},
   "outputs": [
    {
     "data": {
      "text/plain": [
       "8"
      ]
     },
     "execution_count": 11,
     "metadata": {},
     "output_type": "execute_result"
    }
   ],
   "source": [
    "2**3"
   ]
  },
  {
   "cell_type": "code",
   "execution_count": 12,
   "id": "a0ef10ba",
   "metadata": {},
   "outputs": [
    {
     "data": {
      "text/plain": [
       "9"
      ]
     },
     "execution_count": 12,
     "metadata": {},
     "output_type": "execute_result"
    }
   ],
   "source": [
    "3**2"
   ]
  },
  {
   "cell_type": "markdown",
   "id": "b5afb500",
   "metadata": {},
   "source": [
    "1 + 1.0"
   ]
  },
  {
   "cell_type": "code",
   "execution_count": 13,
   "id": "54f28ba7",
   "metadata": {},
   "outputs": [
    {
     "data": {
      "text/plain": [
       "2.0"
      ]
     },
     "execution_count": 13,
     "metadata": {},
     "output_type": "execute_result"
    }
   ],
   "source": [
    "1 + 1.0"
   ]
  },
  {
   "cell_type": "code",
   "execution_count": 14,
   "id": "0f84fe22",
   "metadata": {},
   "outputs": [
    {
     "data": {
      "text/plain": [
       "2"
      ]
     },
     "execution_count": 14,
     "metadata": {},
     "output_type": "execute_result"
    }
   ],
   "source": [
    "5//2"
   ]
  },
  {
   "cell_type": "code",
   "execution_count": 15,
   "id": "7e290119",
   "metadata": {},
   "outputs": [
    {
     "data": {
      "text/plain": [
       "2.0"
      ]
     },
     "execution_count": 15,
     "metadata": {},
     "output_type": "execute_result"
    }
   ],
   "source": [
    "6//3.0"
   ]
  },
  {
   "cell_type": "markdown",
   "id": "5e477b04",
   "metadata": {},
   "source": [
    "# Variable Assignment "
   ]
  },
  {
   "cell_type": "code",
   "execution_count": null,
   "id": "fea705d7",
   "metadata": {},
   "outputs": [],
   "source": [
    "var_name = 2"
   ]
  },
  {
   "cell_type": "code",
   "execution_count": 16,
   "id": "65fc352b",
   "metadata": {},
   "outputs": [],
   "source": [
    "varname_ = 2"
   ]
  },
  {
   "cell_type": "code",
   "execution_count": 17,
   "id": "24b30501",
   "metadata": {},
   "outputs": [],
   "source": [
    "_varname = 2"
   ]
  },
  {
   "cell_type": "code",
   "execution_count": 19,
   "id": "fbae617d",
   "metadata": {},
   "outputs": [],
   "source": [
    "varname12 =2 "
   ]
  },
  {
   "cell_type": "code",
   "execution_count": 20,
   "id": "d0463b18",
   "metadata": {},
   "outputs": [],
   "source": [
    "var_name = 2"
   ]
  },
  {
   "cell_type": "code",
   "execution_count": 21,
   "id": "c51f094b",
   "metadata": {},
   "outputs": [
    {
     "data": {
      "text/plain": [
       "int"
      ]
     },
     "execution_count": 21,
     "metadata": {},
     "output_type": "execute_result"
    }
   ],
   "source": [
    "type(var_name)"
   ]
  },
  {
   "cell_type": "code",
   "execution_count": 23,
   "id": "35b5f075",
   "metadata": {},
   "outputs": [],
   "source": [
    "float_var = 2.0"
   ]
  },
  {
   "cell_type": "code",
   "execution_count": 24,
   "id": "2914522c",
   "metadata": {},
   "outputs": [
    {
     "data": {
      "text/plain": [
       "float"
      ]
     },
     "execution_count": 24,
     "metadata": {},
     "output_type": "execute_result"
    }
   ],
   "source": [
    "type(float_var)"
   ]
  },
  {
   "cell_type": "code",
   "execution_count": 25,
   "id": "4c76bd60",
   "metadata": {},
   "outputs": [
    {
     "data": {
      "text/plain": [
       "20.9"
      ]
     },
     "execution_count": 25,
     "metadata": {},
     "output_type": "execute_result"
    }
   ],
   "source": [
    "a= 10\n",
    "b= 10.9\n",
    "c = a+b\n",
    "c"
   ]
  },
  {
   "cell_type": "code",
   "execution_count": 26,
   "id": "bd94b467",
   "metadata": {},
   "outputs": [
    {
     "data": {
      "text/plain": [
       "float"
      ]
     },
     "execution_count": 26,
     "metadata": {},
     "output_type": "execute_result"
    }
   ],
   "source": [
    "type(c)"
   ]
  },
  {
   "cell_type": "code",
   "execution_count": 27,
   "id": "44239a1e",
   "metadata": {},
   "outputs": [],
   "source": [
    "# there are some reserve key word on python  float , int, double, for , if , else"
   ]
  },
  {
   "cell_type": "markdown",
   "id": "5d5fe897",
   "metadata": {},
   "source": [
    "# String"
   ]
  },
  {
   "cell_type": "code",
   "execution_count": 28,
   "id": "1ea6953f",
   "metadata": {},
   "outputs": [
    {
     "data": {
      "text/plain": [
       "'Rahul Anil Bhogare '"
      ]
     },
     "execution_count": 28,
     "metadata": {},
     "output_type": "execute_result"
    }
   ],
   "source": [
    "'Rahul Anil Bhogare '"
   ]
  },
  {
   "cell_type": "code",
   "execution_count": 29,
   "id": "0566a5c0",
   "metadata": {},
   "outputs": [
    {
     "data": {
      "text/plain": [
       "str"
      ]
     },
     "execution_count": 29,
     "metadata": {},
     "output_type": "execute_result"
    }
   ],
   "source": [
    "type('Rahul Anil Bhogare')"
   ]
  },
  {
   "cell_type": "code",
   "execution_count": 30,
   "id": "f5beec83",
   "metadata": {},
   "outputs": [
    {
     "name": "stdout",
     "output_type": "stream",
     "text": [
      "<class 'str'>\n"
     ]
    }
   ],
   "source": [
    "print(str)"
   ]
  },
  {
   "cell_type": "code",
   "execution_count": 31,
   "id": "634b51bd",
   "metadata": {},
   "outputs": [
    {
     "name": "stdout",
     "output_type": "stream",
     "text": [
      "this is KGP talkie lesson\n"
     ]
    }
   ],
   "source": [
    "string = 'this is KGP talkie lesson'\n",
    "print(string)"
   ]
  },
  {
   "cell_type": "code",
   "execution_count": 32,
   "id": "327820f2",
   "metadata": {},
   "outputs": [
    {
     "name": "stdout",
     "output_type": "stream",
     "text": [
      "this is  KGP Talkie's 2nd lesson\n"
     ]
    }
   ],
   "source": [
    "string = \"this is  KGP Talkie's \" + '2nd '  + \"lesson\"\n",
    "print(string)"
   ]
  },
  {
   "cell_type": "markdown",
   "id": "205f23dc",
   "metadata": {},
   "source": [
    "# List"
   ]
  },
  {
   "cell_type": "code",
   "execution_count": 1,
   "id": "77087e38",
   "metadata": {},
   "outputs": [],
   "source": [
    "# It can be denoted by  [], (), {}"
   ]
  },
  {
   "cell_type": "code",
   "execution_count": 2,
   "id": "830ac8b2",
   "metadata": {},
   "outputs": [
    {
     "data": {
      "text/plain": [
       "[1, 2, 3, 4]"
      ]
     },
     "execution_count": 2,
     "metadata": {},
     "output_type": "execute_result"
    }
   ],
   "source": [
    "x = [1,2,3,4]\n",
    "x"
   ]
  },
  {
   "cell_type": "code",
   "execution_count": 3,
   "id": "119c8bf8",
   "metadata": {},
   "outputs": [
    {
     "data": {
      "text/plain": [
       "[1, 2, 'three', 4.0]"
      ]
     },
     "execution_count": 3,
     "metadata": {},
     "output_type": "execute_result"
    }
   ],
   "source": [
    "x = [1,2,'three', 4.0 ]\n",
    "x"
   ]
  },
  {
   "cell_type": "code",
   "execution_count": 5,
   "id": "cfa74596",
   "metadata": {},
   "outputs": [
    {
     "data": {
      "text/plain": [
       "[1, 2, 'three', 4.0, 5, 5]"
      ]
     },
     "execution_count": 5,
     "metadata": {},
     "output_type": "execute_result"
    }
   ],
   "source": [
    "x.append(5)\n",
    "x"
   ]
  },
  {
   "cell_type": "code",
   "execution_count": 6,
   "id": "b2e778a5",
   "metadata": {},
   "outputs": [
    {
     "data": {
      "text/plain": [
       "5"
      ]
     },
     "execution_count": 6,
     "metadata": {},
     "output_type": "execute_result"
    }
   ],
   "source": [
    "x.pop()"
   ]
  },
  {
   "cell_type": "code",
   "execution_count": 7,
   "id": "1a92f147",
   "metadata": {},
   "outputs": [
    {
     "data": {
      "text/plain": [
       "['one', 1, 2, 'three', 4.0, 5]"
      ]
     },
     "execution_count": 7,
     "metadata": {},
     "output_type": "execute_result"
    }
   ],
   "source": [
    "x.insert(0, 'one')\n",
    "x"
   ]
  },
  {
   "cell_type": "markdown",
   "id": "c38c7c4a",
   "metadata": {},
   "source": [
    "# Set"
   ]
  },
  {
   "cell_type": "code",
   "execution_count": 12,
   "id": "386bed3b",
   "metadata": {},
   "outputs": [],
   "source": [
    "x = [1, 1 , 2 , 2 ]"
   ]
  },
  {
   "cell_type": "code",
   "execution_count": 13,
   "id": "80ddc42b",
   "metadata": {},
   "outputs": [
    {
     "data": {
      "text/plain": [
       "list"
      ]
     },
     "execution_count": 13,
     "metadata": {},
     "output_type": "execute_result"
    }
   ],
   "source": [
    "type(x)"
   ]
  },
  {
   "cell_type": "code",
   "execution_count": 14,
   "id": "dd95d35e",
   "metadata": {},
   "outputs": [],
   "source": [
    "s = {1,1, 2,2 }"
   ]
  },
  {
   "cell_type": "code",
   "execution_count": 15,
   "id": "c598e869",
   "metadata": {},
   "outputs": [
    {
     "data": {
      "text/plain": [
       "{1, 2}"
      ]
     },
     "execution_count": 15,
     "metadata": {},
     "output_type": "execute_result"
    }
   ],
   "source": [
    "s"
   ]
  },
  {
   "cell_type": "code",
   "execution_count": 16,
   "id": "45178d62",
   "metadata": {},
   "outputs": [
    {
     "data": {
      "text/plain": [
       "{1, 2.0, 'one', 'three'}"
      ]
     },
     "execution_count": 16,
     "metadata": {},
     "output_type": "execute_result"
    }
   ],
   "source": [
    "s = {1, 'one', 2.0 , 'three'}\n",
    "s"
   ]
  },
  {
   "cell_type": "markdown",
   "id": "ed500be0",
   "metadata": {},
   "source": [
    "# Dictionary"
   ]
  },
  {
   "cell_type": "code",
   "execution_count": 17,
   "id": "d67f3452",
   "metadata": {},
   "outputs": [],
   "source": [
    "# it ca n be denoted by  {}\n",
    "# key: value"
   ]
  },
  {
   "cell_type": "code",
   "execution_count": 18,
   "id": "a5946425",
   "metadata": {},
   "outputs": [
    {
     "data": {
      "text/plain": [
       "dict"
      ]
     },
     "execution_count": 18,
     "metadata": {},
     "output_type": "execute_result"
    }
   ],
   "source": [
    "d = {'key1': 'value1', 'key2': 'value2'}\n",
    "type(d)"
   ]
  },
  {
   "cell_type": "code",
   "execution_count": 19,
   "id": "38c18b5d",
   "metadata": {},
   "outputs": [
    {
     "data": {
      "text/plain": [
       "{1: 'one', 'two': 2}"
      ]
     },
     "execution_count": 19,
     "metadata": {},
     "output_type": "execute_result"
    }
   ],
   "source": [
    "d = {1:'one', 'two': 2}\n",
    "d"
   ]
  },
  {
   "cell_type": "code",
   "execution_count": 20,
   "id": "bcb99445",
   "metadata": {},
   "outputs": [
    {
     "data": {
      "text/plain": [
       "dict_keys([1, 'two'])"
      ]
     },
     "execution_count": 20,
     "metadata": {},
     "output_type": "execute_result"
    }
   ],
   "source": [
    "d.keys()"
   ]
  },
  {
   "cell_type": "code",
   "execution_count": 21,
   "id": "7fe04799",
   "metadata": {},
   "outputs": [
    {
     "data": {
      "text/plain": [
       "dict_values(['one', 2])"
      ]
     },
     "execution_count": 21,
     "metadata": {},
     "output_type": "execute_result"
    }
   ],
   "source": [
    "d.values()"
   ]
  },
  {
   "cell_type": "code",
   "execution_count": 22,
   "id": "a2df826a",
   "metadata": {},
   "outputs": [
    {
     "data": {
      "text/plain": [
       "dict_items([(1, 'one'), ('two', 2)])"
      ]
     },
     "execution_count": 22,
     "metadata": {},
     "output_type": "execute_result"
    }
   ],
   "source": [
    "d.items()"
   ]
  },
  {
   "cell_type": "code",
   "execution_count": 23,
   "id": "88f8158a",
   "metadata": {},
   "outputs": [
    {
     "data": {
      "text/plain": [
       "{1: 'one', 'two': 2, 'three': 3}"
      ]
     },
     "execution_count": 23,
     "metadata": {},
     "output_type": "execute_result"
    }
   ],
   "source": [
    "d['three'] = 3\n",
    "d"
   ]
  },
  {
   "cell_type": "markdown",
   "id": "bbd23430",
   "metadata": {},
   "source": [
    "# Tuple"
   ]
  },
  {
   "cell_type": "code",
   "execution_count": 24,
   "id": "8b68eadd",
   "metadata": {},
   "outputs": [],
   "source": [
    "# It is defined by ()"
   ]
  },
  {
   "cell_type": "code",
   "execution_count": 25,
   "id": "04ddced6",
   "metadata": {},
   "outputs": [],
   "source": [
    "t= (1, 'two', 'three')"
   ]
  },
  {
   "cell_type": "code",
   "execution_count": 26,
   "id": "a0c5e9a5",
   "metadata": {},
   "outputs": [
    {
     "data": {
      "text/plain": [
       "(1, 'two', 'three')"
      ]
     },
     "execution_count": 26,
     "metadata": {},
     "output_type": "execute_result"
    }
   ],
   "source": [
    "t"
   ]
  },
  {
   "cell_type": "code",
   "execution_count": 27,
   "id": "06c1e4a7",
   "metadata": {},
   "outputs": [
    {
     "data": {
      "text/plain": [
       "1"
      ]
     },
     "execution_count": 27,
     "metadata": {},
     "output_type": "execute_result"
    }
   ],
   "source": [
    "t[0]"
   ]
  },
  {
   "cell_type": "markdown",
   "id": "09c745ae",
   "metadata": {},
   "source": [
    "# Boolean and comparision  operator"
   ]
  },
  {
   "cell_type": "raw",
   "id": "97e89f69",
   "metadata": {},
   "source": [
    "true"
   ]
  },
  {
   "cell_type": "code",
   "execution_count": 28,
   "id": "82db132b",
   "metadata": {},
   "outputs": [
    {
     "data": {
      "text/plain": [
       "True"
      ]
     },
     "execution_count": 28,
     "metadata": {},
     "output_type": "execute_result"
    }
   ],
   "source": [
    "True"
   ]
  },
  {
   "cell_type": "code",
   "execution_count": 29,
   "id": "18086b5a",
   "metadata": {},
   "outputs": [
    {
     "data": {
      "text/plain": [
       "False"
      ]
     },
     "execution_count": 29,
     "metadata": {},
     "output_type": "execute_result"
    }
   ],
   "source": [
    "False"
   ]
  },
  {
   "cell_type": "code",
   "execution_count": 30,
   "id": "f6f17d3b",
   "metadata": {},
   "outputs": [
    {
     "data": {
      "text/plain": [
       "False"
      ]
     },
     "execution_count": 30,
     "metadata": {},
     "output_type": "execute_result"
    }
   ],
   "source": [
    "1>2"
   ]
  },
  {
   "cell_type": "code",
   "execution_count": 31,
   "id": "df3a52a2",
   "metadata": {},
   "outputs": [
    {
     "data": {
      "text/plain": [
       "True"
      ]
     },
     "execution_count": 31,
     "metadata": {},
     "output_type": "execute_result"
    }
   ],
   "source": [
    "2>1"
   ]
  },
  {
   "cell_type": "code",
   "execution_count": 32,
   "id": "343e86af",
   "metadata": {},
   "outputs": [
    {
     "data": {
      "text/plain": [
       "False"
      ]
     },
     "execution_count": 32,
     "metadata": {},
     "output_type": "execute_result"
    }
   ],
   "source": [
    "10 == 12"
   ]
  },
  {
   "cell_type": "code",
   "execution_count": 33,
   "id": "250c3059",
   "metadata": {},
   "outputs": [
    {
     "data": {
      "text/plain": [
       "True"
      ]
     },
     "execution_count": 33,
     "metadata": {},
     "output_type": "execute_result"
    }
   ],
   "source": [
    "10 == 10"
   ]
  },
  {
   "cell_type": "code",
   "execution_count": 35,
   "id": "ff8f7eeb",
   "metadata": {},
   "outputs": [
    {
     "data": {
      "text/plain": [
       "True"
      ]
     },
     "execution_count": 35,
     "metadata": {},
     "output_type": "execute_result"
    }
   ],
   "source": [
    "10 != 11"
   ]
  },
  {
   "cell_type": "code",
   "execution_count": 36,
   "id": "357fe412",
   "metadata": {},
   "outputs": [
    {
     "data": {
      "text/plain": [
       "True"
      ]
     },
     "execution_count": 36,
     "metadata": {},
     "output_type": "execute_result"
    }
   ],
   "source": [
    "None == None "
   ]
  },
  {
   "cell_type": "code",
   "execution_count": 37,
   "id": "5c2fe53c",
   "metadata": {},
   "outputs": [
    {
     "data": {
      "text/plain": [
       "False"
      ]
     },
     "execution_count": 37,
     "metadata": {},
     "output_type": "execute_result"
    }
   ],
   "source": [
    "None !=  None "
   ]
  },
  {
   "cell_type": "markdown",
   "id": "4e7da96c",
   "metadata": {},
   "source": [
    "#  Logical operator "
   ]
  },
  {
   "cell_type": "code",
   "execution_count": 38,
   "id": "30714137",
   "metadata": {},
   "outputs": [],
   "source": [
    "# and  or "
   ]
  },
  {
   "cell_type": "code",
   "execution_count": 39,
   "id": "48b85dd9",
   "metadata": {},
   "outputs": [
    {
     "data": {
      "text/plain": [
       "10"
      ]
     },
     "execution_count": 39,
     "metadata": {},
     "output_type": "execute_result"
    }
   ],
   "source": [
    "10 or 8 "
   ]
  },
  {
   "cell_type": "code",
   "execution_count": 40,
   "id": "3a1c482b",
   "metadata": {},
   "outputs": [
    {
     "data": {
      "text/plain": [
       "1"
      ]
     },
     "execution_count": 40,
     "metadata": {},
     "output_type": "execute_result"
    }
   ],
   "source": [
    "0 or 1"
   ]
  },
  {
   "cell_type": "code",
   "execution_count": 41,
   "id": "5ddd64dd",
   "metadata": {},
   "outputs": [
    {
     "data": {
      "text/plain": [
       "3"
      ]
     },
     "execution_count": 41,
     "metadata": {},
     "output_type": "execute_result"
    }
   ],
   "source": [
    "3 or 2"
   ]
  },
  {
   "cell_type": "code",
   "execution_count": 42,
   "id": "18c05a48",
   "metadata": {},
   "outputs": [
    {
     "data": {
      "text/plain": [
       "1"
      ]
     },
     "execution_count": 42,
     "metadata": {},
     "output_type": "execute_result"
    }
   ],
   "source": [
    "1 or 2"
   ]
  },
  {
   "cell_type": "code",
   "execution_count": 43,
   "id": "cc61309c",
   "metadata": {},
   "outputs": [
    {
     "data": {
      "text/plain": [
       "True"
      ]
     },
     "execution_count": 43,
     "metadata": {},
     "output_type": "execute_result"
    }
   ],
   "source": [
    "(1 == 2) or ( 1 == 1 )"
   ]
  },
  {
   "cell_type": "code",
   "execution_count": 44,
   "id": "8754cf11",
   "metadata": {},
   "outputs": [
    {
     "data": {
      "text/plain": [
       "False"
      ]
     },
     "execution_count": 44,
     "metadata": {},
     "output_type": "execute_result"
    }
   ],
   "source": [
    " (1 == 2)  and  ( 1 == 1 )"
   ]
  },
  {
   "cell_type": "code",
   "execution_count": 45,
   "id": "4262b2bf",
   "metadata": {},
   "outputs": [
    {
     "data": {
      "text/plain": [
       "False"
      ]
     },
     "execution_count": 45,
     "metadata": {},
     "output_type": "execute_result"
    }
   ],
   "source": [
    "False  and True "
   ]
  },
  {
   "cell_type": "code",
   "execution_count": 46,
   "id": "d2b2e406",
   "metadata": {},
   "outputs": [
    {
     "data": {
      "text/plain": [
       "True"
      ]
     },
     "execution_count": 46,
     "metadata": {},
     "output_type": "execute_result"
    }
   ],
   "source": [
    "True and  True"
   ]
  },
  {
   "cell_type": "code",
   "execution_count": 47,
   "id": "65e67397",
   "metadata": {},
   "outputs": [
    {
     "data": {
      "text/plain": [
       "False"
      ]
     },
     "execution_count": 47,
     "metadata": {},
     "output_type": "execute_result"
    }
   ],
   "source": [
    "False  and  False "
   ]
  },
  {
   "cell_type": "code",
   "execution_count": 49,
   "id": "a7b8b944",
   "metadata": {},
   "outputs": [
    {
     "data": {
      "text/plain": [
       "False"
      ]
     },
     "execution_count": 49,
     "metadata": {},
     "output_type": "execute_result"
    }
   ],
   "source": [
    "(1>2) and ((5>6) or (8 >9))"
   ]
  },
  {
   "cell_type": "markdown",
   "id": "a7a80250",
   "metadata": {},
   "source": [
    "# Conditional statement if else, Elief "
   ]
  },
  {
   "cell_type": "code",
   "execution_count": 1,
   "id": "cbd0348c",
   "metadata": {},
   "outputs": [],
   "source": [
    "if (1>2) :\n",
    "    print(\"True\")\n",
    "if False:\n",
    "    print (\"this is true\")"
   ]
  },
  {
   "cell_type": "code",
   "execution_count": 2,
   "id": "93a45757",
   "metadata": {},
   "outputs": [
    {
     "data": {
      "text/plain": [
       "False"
      ]
     },
     "execution_count": 2,
     "metadata": {},
     "output_type": "execute_result"
    }
   ],
   "source": [
    "(1>2)"
   ]
  },
  {
   "cell_type": "code",
   "execution_count": 3,
   "id": "049b6ac3",
   "metadata": {},
   "outputs": [
    {
     "name": "stdout",
     "output_type": "stream",
     "text": [
      "True\n"
     ]
    }
   ],
   "source": [
    "if (2>1):\n",
    "    print('True')"
   ]
  },
  {
   "cell_type": "code",
   "execution_count": 4,
   "id": "0c6b9bbe",
   "metadata": {},
   "outputs": [
    {
     "name": "stdout",
     "output_type": "stream",
     "text": [
      "True\n"
     ]
    }
   ],
   "source": [
    "if True:\n",
    "    print('True')"
   ]
  },
  {
   "cell_type": "code",
   "execution_count": 5,
   "id": "4666d064",
   "metadata": {},
   "outputs": [
    {
     "name": "stdout",
     "output_type": "stream",
     "text": [
      "1 is not greather than 2\n"
     ]
    }
   ],
   "source": [
    "if (1>2):\n",
    "    print('1>2')\n",
    "else:\n",
    "    print ('1 is not greather than 2')"
   ]
  },
  {
   "cell_type": "code",
   "execution_count": 7,
   "id": "b22acc78",
   "metadata": {},
   "outputs": [
    {
     "name": "stdout",
     "output_type": "stream",
     "text": [
      "I am old\n"
     ]
    }
   ],
   "source": [
    "age = 50\n",
    "if age >= 19 and age <49:\n",
    "    print('I am young')\n",
    "elif age >= 49:\n",
    "    print ('I am old')\n",
    "else:\n",
    "    print ('I am kid')"
   ]
  },
  {
   "cell_type": "markdown",
   "id": "3afd995d",
   "metadata": {},
   "source": [
    "# For and while loop"
   ]
  },
  {
   "cell_type": "code",
   "execution_count": 1,
   "id": "6b6c4efc",
   "metadata": {},
   "outputs": [
    {
     "name": "stdout",
     "output_type": "stream",
     "text": [
      "1\n",
      "2\n",
      "3\n",
      "4\n",
      "5\n"
     ]
    }
   ],
   "source": [
    "i =1\n",
    "while i<6:\n",
    "    print (i)\n",
    "    i +=1"
   ]
  },
  {
   "cell_type": "code",
   "execution_count": 2,
   "id": "fb1ca8aa",
   "metadata": {},
   "outputs": [
    {
     "name": "stdout",
     "output_type": "stream",
     "text": [
      "1\n",
      "2\n",
      "3\n"
     ]
    }
   ],
   "source": [
    "i = 1\n",
    "while i < 6:\n",
    "  print(i)\n",
    "  if i == 3:\n",
    "    break\n",
    "  i += 1 "
   ]
  },
  {
   "cell_type": "code",
   "execution_count": 3,
   "id": "c0cbcc77",
   "metadata": {},
   "outputs": [
    {
     "name": "stdout",
     "output_type": "stream",
     "text": [
      "3\n"
     ]
    }
   ],
   "source": [
    "i = 1\n",
    "while i <6:\n",
    "    i += 1\n",
    "    if i == 3:\n",
    "        print(i)"
   ]
  },
  {
   "cell_type": "code",
   "execution_count": 5,
   "id": "038d90f5",
   "metadata": {},
   "outputs": [
    {
     "name": "stdout",
     "output_type": "stream",
     "text": [
      "1\n",
      "2\n",
      "3\n",
      "4\n",
      "5\n",
      "i is no longer less than 6\n"
     ]
    }
   ],
   "source": [
    "i = 1\n",
    "while i < 6:\n",
    "  print(i)\n",
    "  i += 1\n",
    "else:\n",
    "  print(\"i is no longer less than 6\")"
   ]
  },
  {
   "cell_type": "code",
   "execution_count": 6,
   "id": "17c3a364",
   "metadata": {},
   "outputs": [],
   "source": [
    "# for loop\n",
    "# A for loop is used for iterating a sequence ( that is either a  list , a tuple, a set , or string )\n",
    "# this is less like the keyword in other progrmimg  langunages , and work more like iterator method found in object oriented programming languages\n",
    "# Wit hthe for loop we can execute a set of statements ,once for each item, tuple set etc)"
   ]
  },
  {
   "cell_type": "code",
   "execution_count": 8,
   "id": "38cae869",
   "metadata": {},
   "outputs": [
    {
     "name": "stdout",
     "output_type": "stream",
     "text": [
      "apple\n",
      "banana\n",
      "cherry\n"
     ]
    }
   ],
   "source": [
    "fruits = [\"apple\" , \"banana\" , \"cherry\"]\n",
    "for x in fruits:\n",
    "    print (x)"
   ]
  },
  {
   "cell_type": "code",
   "execution_count": 9,
   "id": "01df6551",
   "metadata": {},
   "outputs": [
    {
     "name": "stdout",
     "output_type": "stream",
     "text": [
      "b\n",
      "a\n",
      "n\n",
      "a\n",
      "n\n",
      "a\n"
     ]
    }
   ],
   "source": [
    "# looping through sting \n",
    "for x in  \"banana\":\n",
    "    print(x)"
   ]
  },
  {
   "cell_type": "code",
   "execution_count": 11,
   "id": "0566fd16",
   "metadata": {},
   "outputs": [
    {
     "name": "stdout",
     "output_type": "stream",
     "text": [
      "apple\n",
      "banana\n"
     ]
    }
   ],
   "source": [
    "fruits = [\"apple\" , \"banana\" , \"cherry\"]\n",
    "for x in fruits:\n",
    "    print (x)\n",
    "    if x == \"banana\":\n",
    "        break"
   ]
  },
  {
   "cell_type": "code",
   "execution_count": 12,
   "id": "4502eb4d",
   "metadata": {},
   "outputs": [],
   "source": [
    "fruits = [\"apple\",\"banana\", \"cherry\"]\n",
    "for x in fruits :\n",
    "    if x == \"banana\":\n",
    "        break\n",
    "        print (x)"
   ]
  },
  {
   "cell_type": "code",
   "execution_count": 13,
   "id": "a4f69d9e",
   "metadata": {},
   "outputs": [],
   "source": [
    "fruits = [\"apple\",\"banana\", \"cherry\"]\n",
    "for x in fruits :\n",
    "    if x == \"banana\":\n",
    "        continue\n",
    "        print (x)"
   ]
  },
  {
   "cell_type": "code",
   "execution_count": 14,
   "id": "f2805e09",
   "metadata": {},
   "outputs": [],
   "source": [
    "# The range() Function\n",
    " # To loop through a set of code a specified number of times, we can use the range() function,\n",
    "\n",
    " # The range() function returns a sequence of numbers, starting from 0 by default, and increments by 1 (by default), and ends at a specified number."
   ]
  },
  {
   "cell_type": "code",
   "execution_count": 15,
   "id": "1b57aba1",
   "metadata": {},
   "outputs": [
    {
     "name": "stdout",
     "output_type": "stream",
     "text": [
      "0\n",
      "1\n",
      "2\n",
      "3\n",
      "4\n",
      "5\n"
     ]
    }
   ],
   "source": [
    "for x in range (6):\n",
    "    print (x)"
   ]
  },
  {
   "cell_type": "code",
   "execution_count": 16,
   "id": "39ab8e9f",
   "metadata": {},
   "outputs": [
    {
     "name": "stdout",
     "output_type": "stream",
     "text": [
      "2\n",
      "3\n",
      "4\n",
      "5\n",
      "6\n",
      "7\n",
      "8\n",
      "9\n"
     ]
    }
   ],
   "source": [
    "for x in range( 2, 10 ):\n",
    "    print (x)"
   ]
  },
  {
   "cell_type": "code",
   "execution_count": 17,
   "id": "e3361206",
   "metadata": {},
   "outputs": [
    {
     "name": "stdout",
     "output_type": "stream",
     "text": [
      "2\n",
      "5\n",
      "8\n",
      "11\n",
      "14\n",
      "17\n",
      "20\n",
      "23\n",
      "26\n",
      "29\n"
     ]
    }
   ],
   "source": [
    "for x in range (2 ,30 ,3):\n",
    "    print (x)"
   ]
  },
  {
   "cell_type": "code",
   "execution_count": null,
   "id": "16ccd7d4",
   "metadata": {},
   "outputs": [],
   "source": []
  }
 ],
 "metadata": {
  "kernelspec": {
   "display_name": "Python 3",
   "language": "python",
   "name": "python3"
  },
  "language_info": {
   "codemirror_mode": {
    "name": "ipython",
    "version": 3
   },
   "file_extension": ".py",
   "mimetype": "text/x-python",
   "name": "python",
   "nbconvert_exporter": "python",
   "pygments_lexer": "ipython3",
   "version": "3.8.8"
  }
 },
 "nbformat": 4,
 "nbformat_minor": 5
}
