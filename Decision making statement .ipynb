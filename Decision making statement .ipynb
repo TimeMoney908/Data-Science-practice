{
 "cells": [
  {
   "cell_type": "markdown",
   "id": "a01cf5cc",
   "metadata": {},
   "source": [
    "# If  statement in python "
   ]
  },
  {
   "cell_type": "code",
   "execution_count": null,
   "id": "abebea75",
   "metadata": {},
   "outputs": [],
   "source": [
    "score  = int(input(\"Enter your score\"))\n",
    "\n",
    "if score >= 50:\n",
    "    print(\"You have passed your exams\")\n",
    "    print(\"Congratulations\")\n",
    "if score <= 50:\n",
    "    print(\"Sorry ,you have failed exam\")"
   ]
  },
  {
   "cell_type": "code",
   "execution_count": null,
   "id": "0f039290",
   "metadata": {},
   "outputs": [],
   "source": []
  }
 ],
 "metadata": {
  "kernelspec": {
   "display_name": "Python 3",
   "language": "python",
   "name": "python3"
  },
  "language_info": {
   "codemirror_mode": {
    "name": "ipython",
    "version": 3
   },
   "file_extension": ".py",
   "mimetype": "text/x-python",
   "name": "python",
   "nbconvert_exporter": "python",
   "pygments_lexer": "ipython3",
   "version": "3.8.8"
  }
 },
 "nbformat": 4,
 "nbformat_minor": 5
}
