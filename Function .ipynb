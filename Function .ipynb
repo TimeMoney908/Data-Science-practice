{
 "cells": [
  {
   "cell_type": "markdown",
   "id": "4c654c21",
   "metadata": {},
   "source": [
    "# Example:"
   ]
  },
  {
   "cell_type": "code",
   "execution_count": 1,
   "id": "73af4464",
   "metadata": {},
   "outputs": [],
   "source": [
    "def print_name(name):\n",
    "    \" This function prints the name \"\n",
    "    print(\"hellow\" + str(name))"
   ]
  },
  {
   "cell_type": "markdown",
   "id": "44047d06",
   "metadata": {},
   "source": [
    "# Function Call\n",
    "\n",
    "#### Once we have  defined a function, we can call it from anywhere"
   ]
  },
  {
   "cell_type": "code",
   "execution_count": 2,
   "id": "acb1f62b",
   "metadata": {},
   "outputs": [
    {
     "name": "stdout",
     "output_type": "stream",
     "text": [
      "hellowRahul\n"
     ]
    }
   ],
   "source": [
    "print_name('Rahul')"
   ]
  },
  {
   "cell_type": "markdown",
   "id": "e65d39c4",
   "metadata": {},
   "source": [
    "# Doc String"
   ]
  },
  {
   "cell_type": "markdown",
   "id": "bd3d000d",
   "metadata": {},
   "source": [
    "###### The first string after the function  header is called the docstring and is sort of documentation string.\n",
    "\n",
    "#####  Although optional , documentation is a  good programming  practice, always  document your code.\n",
    "##### Doc string will be written in triple  quotes  so that doc string can extend up to multiple lines."
   ]
  },
  {
   "cell_type": "code",
   "execution_count": 3,
   "id": "08b6a5e1",
   "metadata": {},
   "outputs": [
    {
     "name": "stdout",
     "output_type": "stream",
     "text": [
      " This function prints the name \n"
     ]
    }
   ],
   "source": [
    "print(print_name.__doc__) # print doc string of the  function"
   ]
  },
  {
   "cell_type": "code",
   "execution_count": 4,
   "id": "8c821ff7",
   "metadata": {},
   "outputs": [],
   "source": [
    "def get_sum(lst):\n",
    "    \"This function returns the sume of  all the elements in a list\"\n",
    "    \n",
    "    # initialize sum\n",
    "    _sum = 0\n",
    "    \n",
    "    # iterating over the list\n",
    "    for num in lst:\n",
    "        _sum += num\n",
    "    return _sum"
   ]
  },
  {
   "cell_type": "code",
   "execution_count": 5,
   "id": "5d2b8396",
   "metadata": {},
   "outputs": [
    {
     "name": "stdout",
     "output_type": "stream",
     "text": [
      "10\n"
     ]
    }
   ],
   "source": [
    "s = get_sum({1,2,3,4})\n",
    "print(s)"
   ]
  },
  {
   "cell_type": "markdown",
   "id": "514cb649",
   "metadata": {},
   "source": [
    "# Scope & life time variables "
   ]
  },
  {
   "cell_type": "markdown",
   "id": "36a6902d",
   "metadata": {},
   "source": [
    "# Example-"
   ]
  },
  {
   "cell_type": "code",
   "execution_count": 6,
   "id": "06abda92",
   "metadata": {},
   "outputs": [
    {
     "name": "stdout",
     "output_type": "stream",
     "text": [
      "This is local variable\n",
      "This is global variable\n",
      "This is global variable\n"
     ]
    },
    {
     "ename": "NameError",
     "evalue": "name 'local_var' is not defined",
     "output_type": "error",
     "traceback": [
      "\u001b[1;31m---------------------------------------------------------------------------\u001b[0m",
      "\u001b[1;31mNameError\u001b[0m                                 Traceback (most recent call last)",
      "\u001b[1;32m<ipython-input-6-62a804faa656>\u001b[0m in \u001b[0;36m<module>\u001b[1;34m\u001b[0m\n\u001b[0;32m     16\u001b[0m \u001b[1;33m\u001b[0m\u001b[0m\n\u001b[0;32m     17\u001b[0m \u001b[1;31m#print local variable local_var\u001b[0m\u001b[1;33m\u001b[0m\u001b[1;33m\u001b[0m\u001b[1;33m\u001b[0m\u001b[0m\n\u001b[1;32m---> 18\u001b[1;33m \u001b[0mprint\u001b[0m\u001b[1;33m(\u001b[0m\u001b[0mlocal_var\u001b[0m\u001b[1;33m)\u001b[0m\u001b[1;33m\u001b[0m\u001b[1;33m\u001b[0m\u001b[0m\n\u001b[0m",
      "\u001b[1;31mNameError\u001b[0m: name 'local_var' is not defined"
     ]
    }
   ],
   "source": [
    "global_var = \"This is global variable\"\n",
    "\n",
    "def test_life_time():\n",
    "    \"This function test the life time of a variables\"\n",
    "    local_var = \"This is local variable\"\n",
    "    \n",
    "    print(local_var) # print local variable local_var\n",
    "    \n",
    "    print(global_var) # print global variable global_var\n",
    "    \n",
    "#calling function\n",
    "test_life_time()\n",
    "\n",
    "# print global variable global_var\n",
    "print(global_var)\n",
    "\n",
    "#print local variable local_var\n",
    "print(local_var)"
   ]
  },
  {
   "cell_type": "markdown",
   "id": "0956cb54",
   "metadata": {},
   "source": [
    "# Print program to print Highest Common Factor(HCF) of two numbers "
   ]
  },
  {
   "cell_type": "code",
   "execution_count": 10,
   "id": "fb08361e",
   "metadata": {},
   "outputs": [
    {
     "name": "stdout",
     "output_type": "stream",
     "text": [
      "H.C.F of 98 and 78 is : 2\n"
     ]
    }
   ],
   "source": [
    "def computeHCF(a,b):\n",
    "    \"Computing HCF of two numbers \"\n",
    "    smaller = b if a>b else a  # consice way of writing if else statement\n",
    "    \n",
    "    hcf = 1\n",
    "    for i in range(1, smaller+1):\n",
    "        if (a % i  == 0) and (b %  i == 0 ):\n",
    "            hcf = i\n",
    "    return hcf\n",
    "num1 = 98\n",
    "num2 = 78\n",
    "\n",
    "print (\"H.C.F of {0} and {1} is : {2}\". format(num1,num2, computeHCF(num1,num2)))"
   ]
  },
  {
   "cell_type": "markdown",
   "id": "3eac094f",
   "metadata": {},
   "source": [
    "# Type of function\n",
    "\n",
    "### 1) Build in function \n",
    "\n",
    "### 2) User defined function\n"
   ]
  },
  {
   "cell_type": "markdown",
   "id": "b3829227",
   "metadata": {},
   "source": [
    "# Built-in Functions\n",
    "\n",
    "## 1 .abc()"
   ]
  },
  {
   "cell_type": "code",
   "execution_count": 11,
   "id": "aea13830",
   "metadata": {},
   "outputs": [
    {
     "name": "stdout",
     "output_type": "stream",
     "text": [
      "100\n"
     ]
    }
   ],
   "source": [
    "# Find the absollute value\n",
    "\n",
    "num = -100\n",
    "print(abs(num))"
   ]
  },
  {
   "cell_type": "markdown",
   "id": "dae10a2b",
   "metadata": {},
   "source": [
    "# 2. all()"
   ]
  },
  {
   "cell_type": "markdown",
   "id": "232bf5f5",
   "metadata": {},
   "source": [
    "## return value of all() function\n",
    "\n",
    "## True: if all elements in an iterable are true\n",
    "## False: if any element in an iterable is false"
   ]
  },
  {
   "cell_type": "code",
   "execution_count": 12,
   "id": "b3876926",
   "metadata": {},
   "outputs": [
    {
     "name": "stdout",
     "output_type": "stream",
     "text": [
      "True\n"
     ]
    }
   ],
   "source": [
    "lst = [1,2,3,4]\n",
    "print(all(lst))"
   ]
  },
  {
   "cell_type": "code",
   "execution_count": 13,
   "id": "26d91b24",
   "metadata": {},
   "outputs": [
    {
     "name": "stdout",
     "output_type": "stream",
     "text": [
      "True\n"
     ]
    }
   ],
   "source": [
    "lst = (1,2,3,4) # 0 Present in list\n",
    "\n",
    "print(all(lst))"
   ]
  },
  {
   "cell_type": "code",
   "execution_count": null,
   "id": "b92fc322",
   "metadata": {},
   "outputs": [],
   "source": []
  }
 ],
 "metadata": {
  "kernelspec": {
   "display_name": "Python 3",
   "language": "python",
   "name": "python3"
  },
  "language_info": {
   "codemirror_mode": {
    "name": "ipython",
    "version": 3
   },
   "file_extension": ".py",
   "mimetype": "text/x-python",
   "name": "python",
   "nbconvert_exporter": "python",
   "pygments_lexer": "ipython3",
   "version": "3.8.8"
  }
 },
 "nbformat": 4,
 "nbformat_minor": 5
}
