{
 "cells": [
  {
   "cell_type": "markdown",
   "id": "0c078656",
   "metadata": {},
   "source": [
    "# List Creation"
   ]
  },
  {
   "cell_type": "code",
   "execution_count": 1,
   "id": "5c6fd207",
   "metadata": {},
   "outputs": [
    {
     "name": "stdout",
     "output_type": "stream",
     "text": [
      "[1, 'ramu', 24, 1.24]\n"
     ]
    }
   ],
   "source": [
    "emptylist = []\n",
    "lst = ['one','two','three','four'] #list of strings\n",
    "lst2 = [1,2,3,4] # list of intergers \n",
    "lst3 = [[1,2],[3,4]] # list of list\n",
    "lst4 = [1,'ramu', 24, 1.24] # list of different datatypes\n",
    "print(lst4)"
   ]
  },
  {
   "cell_type": "markdown",
   "id": "1c01d770",
   "metadata": {},
   "source": [
    "# List Length "
   ]
  },
  {
   "cell_type": "code",
   "execution_count": 2,
   "id": "510df4c5",
   "metadata": {},
   "outputs": [
    {
     "name": "stdout",
     "output_type": "stream",
     "text": [
      "4\n"
     ]
    }
   ],
   "source": [
    "lst = ['one', 'two', 'three', 'four']\n",
    "# find length of a list \n",
    "print (len(lst))"
   ]
  },
  {
   "cell_type": "markdown",
   "id": "dc1f8f8d",
   "metadata": {},
   "source": [
    "# List Append\n"
   ]
  },
  {
   "cell_type": "code",
   "execution_count": 3,
   "id": "0c8a1631",
   "metadata": {},
   "outputs": [
    {
     "name": "stdout",
     "output_type": "stream",
     "text": [
      "['one', 'two', 'three', 'four', 'five']\n"
     ]
    }
   ],
   "source": [
    "lst = ['one', 'two', 'three', 'four']\n",
    "lst.append('five') # append will add the item at the end \n",
    "print(lst)"
   ]
  },
  {
   "cell_type": "markdown",
   "id": "9b6aa18f",
   "metadata": {},
   "source": [
    "# List  Insert"
   ]
  },
  {
   "cell_type": "code",
   "execution_count": 4,
   "id": "43eb6f7e",
   "metadata": {},
   "outputs": [
    {
     "name": "stdout",
     "output_type": "stream",
     "text": [
      "['one', 'two', 'three', 'four']\n"
     ]
    }
   ],
   "source": [
    "# syntax: lst.insert (x,y)\n",
    "lst = ['one', 'two','four']\n",
    "lst.insert(2, \"three\") # will add element y at location x\n",
    "print(lst)"
   ]
  },
  {
   "cell_type": "markdown",
   "id": "c6a69e3f",
   "metadata": {},
   "source": [
    "# List Remove "
   ]
  },
  {
   "cell_type": "code",
   "execution_count": 5,
   "id": "31173adf",
   "metadata": {},
   "outputs": [
    {
     "name": "stdout",
     "output_type": "stream",
     "text": [
      "['one', 'three', 'four']\n"
     ]
    }
   ],
   "source": [
    "# syntax : lst.remove(x)\n",
    "lst = ['one', 'two', 'three', 'four'] \n",
    "lst.remove('two') # it will remove first occrence of 'two' i nthe given list \n",
    "print(lst)"
   ]
  },
  {
   "cell_type": "markdown",
   "id": "cd7a51b7",
   "metadata": {},
   "source": [
    "# List Append & Extend"
   ]
  },
  {
   "cell_type": "code",
   "execution_count": 6,
   "id": "ffbe1f31",
   "metadata": {},
   "outputs": [
    {
     "name": "stdout",
     "output_type": "stream",
     "text": [
      "['one', 'three', 'four', ['five', 'six']]\n"
     ]
    }
   ],
   "source": [
    "lst1 = ['one', 'two', 'three', 'four'] \n",
    "lst2 = ['five', 'six']\n",
    "# append\n",
    "lst.append(lst2)\n",
    "print(lst)"
   ]
  },
  {
   "cell_type": "code",
   "execution_count": 7,
   "id": "2e99255a",
   "metadata": {},
   "outputs": [
    {
     "name": "stdout",
     "output_type": "stream",
     "text": [
      "['one', 'three', 'four', ['five', 'six'], 'five', 'six']\n"
     ]
    }
   ],
   "source": [
    "lst1 = ['one', 'two', 'three', 'four'] \n",
    "lst2 = ['five', 'six']\n",
    "#extend will join list with list1\n",
    "\n",
    "lst.extend(lst2)\n",
    "print(lst)"
   ]
  },
  {
   "cell_type": "markdown",
   "id": "122db8d5",
   "metadata": {},
   "source": [
    "# List Detete"
   ]
  },
  {
   "cell_type": "code",
   "execution_count": 9,
   "id": "fcd2f9b8",
   "metadata": {},
   "outputs": [
    {
     "name": "stdout",
     "output_type": "stream",
     "text": [
      "['one', 'three', 'four', 'five']\n",
      "three\n",
      "['one', 'four', 'five']\n"
     ]
    }
   ],
   "source": [
    "# del to remove item base on index position \n",
    "\n",
    "\n",
    "lst = ['one', 'two', 'three', 'four', 'five']\n",
    "del lst[1]\n",
    "print(lst)\n",
    "\n",
    "\n",
    "# or we can use pop(method )\n",
    "\n",
    "a = lst.pop(1)\n",
    "print(a)\n",
    "print (lst)"
   ]
  },
  {
   "cell_type": "code",
   "execution_count": 11,
   "id": "31dec9db",
   "metadata": {},
   "outputs": [
    {
     "name": "stdout",
     "output_type": "stream",
     "text": [
      "['one', 'two', 'four']\n"
     ]
    }
   ],
   "source": [
    "lst = ['one', 'two', 'three', 'four']\n",
    "\n",
    "# remove an item form list \n",
    "lst.remove ('three')\n",
    "\n",
    "print(lst)\n"
   ]
  },
  {
   "cell_type": "markdown",
   "id": "4819fa82",
   "metadata": {},
   "source": [
    "# List  related  keywords in python "
   ]
  },
  {
   "cell_type": "code",
   "execution_count": 13,
   "id": "5e1d926d",
   "metadata": {},
   "outputs": [
    {
     "name": "stdout",
     "output_type": "stream",
     "text": [
      "AI\n",
      "ML\n"
     ]
    }
   ],
   "source": [
    "# keyword 'in' is used to rest if an item is a list\n",
    "lst = ['one', 'two', 'three', 'four']\n",
    "if 'two' in lst :\n",
    "    print ('AI')\n",
    "    \n",
    "    \n",
    "#keyword not can combined with  'in '\n",
    "if 'six' not in lst :\n",
    "    print ('ML')"
   ]
  },
  {
   "cell_type": "markdown",
   "id": "11256b98",
   "metadata": {},
   "source": [
    "# List Reverse"
   ]
  },
  {
   "cell_type": "code",
   "execution_count": 15,
   "id": "624ddc2d",
   "metadata": {},
   "outputs": [
    {
     "name": "stdout",
     "output_type": "stream",
     "text": [
      "['four', 'three', 'two', 'one']\n"
     ]
    }
   ],
   "source": [
    "# reverse is reverses the entire list\n",
    "lst = ['one', 'two','three', 'four']\n",
    "\n",
    "lst.reverse()\n",
    "print(lst)\n"
   ]
  },
  {
   "cell_type": "markdown",
   "id": "74f48e19",
   "metadata": {},
   "source": [
    "# List Sorting"
   ]
  },
  {
   "cell_type": "code",
   "execution_count": 17,
   "id": "dde282ee",
   "metadata": {},
   "outputs": [
    {
     "name": "stdout",
     "output_type": "stream",
     "text": [
      "Sorted list: [1, 2, 3, 6, 8]\n",
      "Original list: [3, 1, 6, 2, 8]\n"
     ]
    }
   ],
   "source": [
    "# create a list with numbers \n",
    "numbers = [3,1,6,2,8]\n",
    "sorted_lst = sorted(numbers)\n",
    "\n",
    "print(\"Sorted list:\", sorted_lst)\n",
    "\n",
    "# original list remain unchanged\n",
    "\n",
    "print(\"Original list:\", numbers)"
   ]
  },
  {
   "cell_type": "code",
   "execution_count": 18,
   "id": "0dad62ad",
   "metadata": {},
   "outputs": [
    {
     "name": "stdout",
     "output_type": "stream",
     "text": [
      "Reverse sorted list : [8, 6, 3, 2, 1]\n",
      "Original list: [3, 1, 6, 2, 8]\n"
     ]
    }
   ],
   "source": [
    "# print a list in reverse sorted order\n",
    "\n",
    "print(\"Reverse sorted list :\", sorted(numbers , reverse= True))\n",
    "\n",
    "#orginal list remain unchnaged \n",
    "\n",
    "print(\"Original list:\", numbers)\n"
   ]
  },
  {
   "cell_type": "code",
   "execution_count": 19,
   "id": "43b84ef0",
   "metadata": {},
   "outputs": [
    {
     "name": "stdout",
     "output_type": "stream",
     "text": [
      "Sorted list:  [1, 4.2, 5, 5, 20]\n"
     ]
    }
   ],
   "source": [
    "lst = [1,20,5,5,4.2]\n",
    "# sort the list &stored in itself\n",
    "\n",
    "lst.sort()\n",
    "\n",
    "# add element 'a to the list to show an  error'\n",
    "print(\"Sorted list: \", lst)"
   ]
  },
  {
   "cell_type": "code",
   "execution_count": 21,
   "id": "3b629d5e",
   "metadata": {},
   "outputs": [
    {
     "ename": "TypeError",
     "evalue": "'<' not supported between instances of 'str' and 'int'",
     "output_type": "error",
     "traceback": [
      "\u001b[1;31m---------------------------------------------------------------------------\u001b[0m",
      "\u001b[1;31mTypeError\u001b[0m                                 Traceback (most recent call last)",
      "\u001b[1;32m<ipython-input-21-6c6f571011d0>\u001b[0m in \u001b[0;36m<module>\u001b[1;34m\u001b[0m\n\u001b[0;32m      1\u001b[0m \u001b[0mlst\u001b[0m \u001b[1;33m=\u001b[0m \u001b[1;33m[\u001b[0m\u001b[1;36m1\u001b[0m\u001b[1;33m,\u001b[0m \u001b[1;36m20\u001b[0m\u001b[1;33m,\u001b[0m \u001b[1;34m'b'\u001b[0m\u001b[1;33m,\u001b[0m \u001b[1;36m5\u001b[0m\u001b[1;33m,\u001b[0m \u001b[1;34m'a'\u001b[0m\u001b[1;33m]\u001b[0m\u001b[1;33m\u001b[0m\u001b[1;33m\u001b[0m\u001b[0m\n\u001b[1;32m----> 2\u001b[1;33m \u001b[0mprint\u001b[0m\u001b[1;33m(\u001b[0m\u001b[0mlst\u001b[0m\u001b[1;33m.\u001b[0m\u001b[0msort\u001b[0m\u001b[1;33m(\u001b[0m\u001b[1;33m)\u001b[0m\u001b[1;33m)\u001b[0m \u001b[1;31m# sort list # sort with of different datatypes\u001b[0m\u001b[1;33m\u001b[0m\u001b[1;33m\u001b[0m\u001b[0m\n\u001b[0m",
      "\u001b[1;31mTypeError\u001b[0m: '<' not supported between instances of 'str' and 'int'"
     ]
    }
   ],
   "source": [
    "lst = [1, 20, 'b', 5, 'a']\n",
    "print(lst.sort()) # sort list # sort with of different datatypes"
   ]
  },
  {
   "cell_type": "markdown",
   "id": "5f4e9878",
   "metadata": {},
   "source": [
    " # List Having Multiple References"
   ]
  },
  {
   "cell_type": "code",
   "execution_count": 22,
   "id": "619b37b5",
   "metadata": {},
   "outputs": [
    {
     "name": "stdout",
     "output_type": "stream",
     "text": [
      "Original list: [1, 2, 3, 4, 5, 6]\n"
     ]
    }
   ],
   "source": [
    "lst = [1,2,3,4,5]\n",
    "abc = lst\n",
    "abc.append(6)\n",
    "\n",
    "\n",
    "# print original list.\n",
    "print(\"Original list:\" , lst)"
   ]
  },
  {
   "cell_type": "markdown",
   "id": "24ea275d",
   "metadata": {},
   "source": [
    "# String Split to create a list"
   ]
  },
  {
   "cell_type": "code",
   "execution_count": 23,
   "id": "ce6b88be",
   "metadata": {},
   "outputs": [
    {
     "name": "stdout",
     "output_type": "stream",
     "text": [
      "['one two', ' three', ' four', ' five']\n"
     ]
    }
   ],
   "source": [
    "# let;s take a string \n",
    "\n",
    "s = \"one two, three, four, five\"\n",
    "slst = s.split(',')\n",
    "print(slst)"
   ]
  },
  {
   "cell_type": "code",
   "execution_count": 25,
   "id": "57ff4fc7",
   "metadata": {},
   "outputs": [
    {
     "name": "stdout",
     "output_type": "stream",
     "text": [
      "['I', 'am', 'very', 'hot', 'boy']\n"
     ]
    }
   ],
   "source": [
    "s= \"I am very hot boy\"\n",
    "split_slt = s.split() # default split is white- character: space or tat\n",
    "print(split_slt)"
   ]
  },
  {
   "cell_type": "markdown",
   "id": "d0852b97",
   "metadata": {},
   "source": [
    "# List Indexing "
   ]
  },
  {
   "cell_type": "code",
   "execution_count": 27,
   "id": "d183bd53",
   "metadata": {},
   "outputs": [
    {
     "name": "stdout",
     "output_type": "stream",
     "text": [
      "2\n",
      "3\n"
     ]
    }
   ],
   "source": [
    "lst = [1,2,3,4]\n",
    "print(lst[1]) # print  second element\n",
    "\n",
    "\n",
    "#print  last element using negative index \n",
    "\n",
    "print(lst [-2])"
   ]
  },
  {
   "cell_type": "markdown",
   "id": "7f418970",
   "metadata": {},
   "source": [
    "# List Slicing"
   ]
  },
  {
   "cell_type": "code",
   "execution_count": 28,
   "id": "93c1f598",
   "metadata": {},
   "outputs": [
    {
     "name": "stdout",
     "output_type": "stream",
     "text": [
      "[10, 20, 30, 40, 50, 60, 70, 80]\n",
      "[10, 20, 30, 40]\n"
     ]
    }
   ],
   "source": [
    "numbers = [10,20,30,40,50,60,70,80]\n",
    "\n",
    "#print all numbers \n",
    "print (numbers[:])\n",
    "\n",
    "#print from index 0 to index 3\n",
    "print (numbers[0:4])"
   ]
  },
  {
   "cell_type": "code",
   "execution_count": 29,
   "id": "8fdfad76",
   "metadata": {},
   "outputs": [
    {
     "name": "stdout",
     "output_type": "stream",
     "text": [
      "[10, 20, 30, 40, 50, 60, 70, 80]\n",
      "[10, 30, 50, 70]\n",
      "[30, 50, 70]\n"
     ]
    }
   ],
   "source": [
    "print(numbers)\n",
    "# print alternate elemnets in a list\n",
    "\n",
    "print(numbers[::2])\n",
    "\n",
    "\n",
    "#print elemts start from 0 through rest of the list\n",
    "print(numbers[2::2])"
   ]
  },
  {
   "cell_type": "markdown",
   "id": "77ade4a9",
   "metadata": {},
   "source": [
    "# List extend using  \"+\""
   ]
  },
  {
   "cell_type": "code",
   "execution_count": 30,
   "id": "66efe97f",
   "metadata": {},
   "outputs": [
    {
     "name": "stdout",
     "output_type": "stream",
     "text": [
      "[1, 2, 3, 4, 'Rahul', 'Atul', 'Shruti', 'pooja']\n"
     ]
    }
   ],
   "source": [
    "lst1 = [1,2,3,4]\n",
    "lst2 = ['Rahul', 'Atul', 'Shruti', 'pooja']\n",
    "new_lst = lst1 +lst2\n",
    "\n",
    "print(new_lst)"
   ]
  },
  {
   "cell_type": "markdown",
   "id": "bca17c9a",
   "metadata": {},
   "source": [
    "# List  Count "
   ]
  },
  {
   "cell_type": "code",
   "execution_count": 32,
   "id": "30683c75",
   "metadata": {},
   "outputs": [
    {
     "name": "stdout",
     "output_type": "stream",
     "text": [
      "1\n",
      "1\n"
     ]
    }
   ],
   "source": [
    "numbers  = [1,2,3,4,5,6,7]\n",
    "#numbers = [1, 2, 3, 1, 3, 4, 2, 5]\n",
    "#frequency of 1 in a list\n",
    "\n",
    "print(numbers.count(1))\n",
    "\n",
    "\n",
    "#frequency of 3 in a list\n",
    "\n",
    "print(numbers.count(3))"
   ]
  },
  {
   "cell_type": "markdown",
   "id": "db9464d0",
   "metadata": {},
   "source": [
    "# List Looping "
   ]
  },
  {
   "cell_type": "code",
   "execution_count": 33,
   "id": "9985943e",
   "metadata": {},
   "outputs": [
    {
     "name": "stdout",
     "output_type": "stream",
     "text": [
      "one\n",
      "two\n",
      "three\n",
      "four\n"
     ]
    }
   ],
   "source": [
    "# loop through a list \n",
    "\n",
    "lst = ['one', 'two', 'three', 'four']\n",
    "\n",
    "for ele in lst:\n",
    "    print(ele)"
   ]
  },
  {
   "cell_type": "markdown",
   "id": "e174f8f2",
   "metadata": {},
   "source": [
    "# List Comprehensions "
   ]
  },
  {
   "cell_type": "code",
   "execution_count": 34,
   "id": "df0bc568",
   "metadata": {},
   "outputs": [
    {
     "name": "stdout",
     "output_type": "stream",
     "text": [
      "[0, 1, 4, 9, 16, 25, 36, 49, 64, 81]\n"
     ]
    }
   ],
   "source": [
    "# without list comrehensions \n",
    "\n",
    "squares = []\n",
    "for i in range(10):\n",
    "    squares.append(i**2) # list append\n",
    "print(squares)"
   ]
  },
  {
   "cell_type": "code",
   "execution_count": 35,
   "id": "241ae34f",
   "metadata": {},
   "outputs": [
    {
     "name": "stdout",
     "output_type": "stream",
     "text": [
      "[0, 1, 4, 9, 16, 25, 36, 49, 64, 81]\n"
     ]
    }
   ],
   "source": [
    "# using list comprehension \n",
    "squares = [i**2 for  i in range(10)]\n",
    "print(squares)"
   ]
  },
  {
   "cell_type": "code",
   "execution_count": 40,
   "id": "9324c81f",
   "metadata": {},
   "outputs": [
    {
     "name": "stdout",
     "output_type": "stream",
     "text": [
      "[-20, -40, 20, 40, 100]\n",
      "[10, 20, 50]\n",
      "[(0, 0), (1, 1), (2, 4), (3, 9), (4, 16), (5, 25), (6, 36), (7, 49), (8, 64), (9, 81)]\n"
     ]
    }
   ],
   "source": [
    "# example\n",
    "\n",
    "\n",
    "lst = [-10, -20, 10, 20, 50]\n",
    "\n",
    "\n",
    "#create a new list with values doubled\n",
    "\n",
    "\n",
    "new_lst = [i*2 for i in lst]\n",
    "\n",
    "\n",
    "\n",
    "print(new_lst)\n",
    "\n",
    "#filter the list to exclude negative numbers\n",
    "\n",
    "new_lst = [i for i in lst if i >= 0]\n",
    "print(new_lst)\n",
    "#create a list of tuples like (number, square_of_number)\n",
    "\n",
    "new_lst = [(i, i**2) for i in range(10)]\n",
    "print(new_lst)\n",
    "\n",
    "\n"
   ]
  },
  {
   "cell_type": "markdown",
   "id": "2359cbf1",
   "metadata": {},
   "source": [
    "# Nested List Comprehensions "
   ]
  },
  {
   "cell_type": "code",
   "execution_count": 45,
   "id": "ca19539f",
   "metadata": {},
   "outputs": [
    {
     "name": "stdout",
     "output_type": "stream",
     "text": [
      "[[1, 5, 9], [2, 6, 10], [3, 7, 11], [4, 8, 12]]\n"
     ]
    }
   ],
   "source": [
    "# let's suppose we have a matrix\n",
    "\n",
    "\n",
    "matrix = [\n",
    "[1, 2, 3, 4],\n",
    "[5, 6, 7, 8],\n",
    "[9, 10, 11, 12]\n",
    "]\n",
    "#transpose of a matrix without list comprehension\n",
    "transposed = []\n",
    "for i in range(4):\n",
    "    lst = []\n",
    "    for row in matrix:\n",
    "        lst.append(row[i])\n",
    "    transposed.append(lst)\n",
    "    \n",
    "print(transposed)"
   ]
  },
  {
   "cell_type": "code",
   "execution_count": 46,
   "id": "49638771",
   "metadata": {},
   "outputs": [
    {
     "name": "stdout",
     "output_type": "stream",
     "text": [
      "[[1, 5, 9], [2, 6, 10], [3, 7, 11], [4, 8, 12]]\n"
     ]
    }
   ],
   "source": [
    "#with list comprehension\n",
    "transposed = [[row[i] for row in matrix] for i in range(4)]\n",
    "print(transposed)"
   ]
  },
  {
   "cell_type": "code",
   "execution_count": null,
   "id": "7e1081a6",
   "metadata": {},
   "outputs": [],
   "source": []
  }
 ],
 "metadata": {
  "kernelspec": {
   "display_name": "Python 3",
   "language": "python",
   "name": "python3"
  },
  "language_info": {
   "codemirror_mode": {
    "name": "ipython",
    "version": 3
   },
   "file_extension": ".py",
   "mimetype": "text/x-python",
   "name": "python",
   "nbconvert_exporter": "python",
   "pygments_lexer": "ipython3",
   "version": "3.8.8"
  }
 },
 "nbformat": 4,
 "nbformat_minor": 5
}
