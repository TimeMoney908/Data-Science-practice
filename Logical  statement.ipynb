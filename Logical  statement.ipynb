{
 "cells": [
  {
   "cell_type": "code",
   "execution_count": 2,
   "id": "c5949ce4",
   "metadata": {},
   "outputs": [
    {
     "name": "stdout",
     "output_type": "stream",
     "text": [
      "Type of the variable is complex\n"
     ]
    }
   ],
   "source": [
    "var1 = 1+2j\n",
    "if (type(var1) == int):\n",
    "    print(\"Type of the variable is Integer\")\n",
    "elif (type(var1) == float):\n",
    "    print(\"Type of  the variable is float\")\n",
    "elif(type(var1) == complex):\n",
    "    print(\"Type of the variable is complex\")\n",
    "elif(type(var1) == bool):\n",
    "    print(\"Type of the variable is  Bool\")\n",
    "elif(type(var1) == str):\n",
    "    print(\"Type of  the variable is String\")\n",
    "elif(type(var1) == Tuple):\n",
    "    print(\"Type of the  variable is Tuple\")\n",
    "elif(type(var1) == dict):\n",
    "    print(\"Type of  the variable is Dictionaries\")\n",
    "elif(type(var1) == list):\n",
    "    print(\"Type of the variable is list\")\n",
    "    \n",
    "else:\n",
    "    print(\"Type of the variable is unkown\")"
   ]
  },
  {
   "cell_type": "code",
   "execution_count": 8,
   "id": "46a38f1f",
   "metadata": {},
   "outputs": [
    {
     "name": "stdout",
     "output_type": "stream",
     "text": [
      "You are eligible to see the Football match.\n",
      "Ticket kit is 2500 rupee\n"
     ]
    }
   ],
   "source": [
    "age = 38\n",
    "if (age>= 36):\n",
    "    print(\"You are eligible to see the Football match.\")\n",
    "    if(age <= 30 or age >= 60):\n",
    "           print(\"Ticket price is 1500 rupee\")\n",
    " \n",
    "    else:\n",
    "        print(\"Ticket kit is 2500 rupee\")\n",
    "else:\n",
    "    print(\"You are not eligible to buy ticket.\")"
   ]
  },
  {
   "cell_type": "markdown",
   "id": "4bf99c89",
   "metadata": {},
   "source": [
    "# Use the & operator in an if statement"
   ]
  },
  {
   "cell_type": "code",
   "execution_count": 9,
   "id": "06f54b93",
   "metadata": {},
   "outputs": [
    {
     "name": "stdout",
     "output_type": "stream",
     "text": [
      "x is Factor or  y is False or both x and y are False\n"
     ]
    }
   ],
   "source": [
    "# create two boolean objects\n",
    "\n",
    "x = False\n",
    "y = True\n",
    "\n",
    "# The validation will be true only  if all the expressions generate a vlaue True \n",
    "\n",
    "if x and y :\n",
    "    print('Both  x and  y are True')\n",
    "else:\n",
    "    print('x is Factor or  y is False or both x and y are False')"
   ]
  },
  {
   "cell_type": "code",
   "execution_count": null,
   "id": "7171b1a2",
   "metadata": {},
   "outputs": [],
   "source": [
    "# create  a string \n",
    "\n",
    "s = 'JQuery'\n",
    "\n",
    "# create a list \n",
    "1 = ['JavaScript', 'JQuery', 'ZinoUI']\n",
    "\n",
    "# in operator is used to replace various expressions that use the or operator \n"
   ]
  }
 ],
 "metadata": {
  "kernelspec": {
   "display_name": "Python 3",
   "language": "python",
   "name": "python3"
  },
  "language_info": {
   "codemirror_mode": {
    "name": "ipython",
    "version": 3
   },
   "file_extension": ".py",
   "mimetype": "text/x-python",
   "name": "python",
   "nbconvert_exporter": "python",
   "pygments_lexer": "ipython3",
   "version": "3.8.8"
  }
 },
 "nbformat": 4,
 "nbformat_minor": 5
}
